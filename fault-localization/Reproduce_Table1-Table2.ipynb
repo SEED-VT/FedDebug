{
 "cells": [
  {
   "attachments": {},
   "cell_type": "markdown",
   "metadata": {},
   "source": [
    "# Colab Setup  \n",
    "> Make sure you configure notebook with GPU: Click Edit->notebook settings->hardware accelerator->GPU\n",
    "\n",
    "> Uncomment the following cell after opening in Google colab. (Do not uncomment it in local setup.)  \n",
    "\n",
    "<a target=\"_blank\" href=\"https://colab.research.google.com/github/SEED-VT/FedDebug/blob/main/fault-localization/Reproduce_Table1-Table2.ipynb\"> <img src=\"https://colab.research.google.com/assets/colab-badge.svg\" alt=\"Open In Colab\"/> </a>\n"
   ]
  },
  {
   "cell_type": "code",
   "execution_count": 2,
   "metadata": {},
   "outputs": [],
   "source": [
    "# !pip install pytorch-lightning\n",
    "# !pip install diskcache\n",
    "# !pip install dotmap\n",
    "# !pip install torch torchvision torchaudio\n",
    "# !pip install matplotlib\n",
    "# !git clone https://github.com/SEED-VT/FedDebug.git\n",
    "# # appending the path\n",
    "# import sys\n",
    "# sys.path.append(\"FedDebug/fault-localization/\")"
   ]
  },
  {
   "attachments": {},
   "cell_type": "markdown",
   "metadata": {},
   "source": [
    "# Description\n",
    "\n",
    "- It defines some variables for the simulation such as the learning rate, batch size, noise rate, number of clients, and number of epochs. \n",
    "\n",
    "- It then runs the simulation for the given configuration (`args`) related to Table 1 and Table 2 configurations. \n",
    "\n",
    "- Finally, it prints out the faulty client(s) localization accuracy, along with information about the distribution, number of faulty clients, total number of clients, architecture, and dataset used in the simulation ."
   ]
  },
  {
   "cell_type": "code",
   "execution_count": 3,
   "metadata": {},
   "outputs": [
    {
     "name": "stderr",
     "output_type": "stream",
     "text": [
      "/home/gulzar/anaconda3/envs/torch/lib/python3.10/site-packages/tqdm/auto.py:22: TqdmWarning: IProgress not found. Please update jupyter and ipywidgets. See https://ipywidgets.readthedocs.io/en/stable/user_install.html\n",
      "  from .autonotebook import tqdm as notebook_tqdm\n",
      "Global seed set to 786\n",
      "Global seed set to 786\n"
     ]
    }
   ],
   "source": [
    "import logging\n",
    "import matplotlib.pyplot as plt\n",
    "import time\n",
    "from dotmap import DotMap\n",
    "from pytorch_lightning import seed_everything\n",
    "from torch.nn.init import kaiming_uniform_ \n",
    "from utils.faulty_client_localization.FaultyClientLocalization import FaultyClientLocalization\n",
    "from utils.faulty_client_localization.InferenceGuidedInputs import InferenceGuidedInputs\n",
    "from utils.FLSimulation import trainFLMain\n",
    "from utils.fl_datasets import initializeTrainAndValidationDataset\n",
    "from utils.util import aggToUpdateGlobalModel\n",
    "from utils.util import testAccModel\n",
    "\n",
    "\n",
    "\n",
    "logging.basicConfig(filename='example.log', level=logging.ERROR)\n",
    "logger = logging.getLogger(\"pytorch_lightning\")\n",
    "seed_everything(786)\n",
    "\n",
    "\n",
    "\n",
    "def evaluateFaultLocalization(predicted_faulty_clients_on_each_input, true_faulty_clients):\n",
    "    true_faulty_clients = set(true_faulty_clients)\n",
    "    detection_acc = 0\n",
    "    for pred_faulty_clients in predicted_faulty_clients_on_each_input:\n",
    "        print(f\"+++ Faulty Clients {pred_faulty_clients}\")\n",
    "        correct_localize_faults = len(\n",
    "            true_faulty_clients.intersection(pred_faulty_clients))\n",
    "        acc = (correct_localize_faults/len(true_faulty_clients))*100\n",
    "        detection_acc += acc\n",
    "    fault_localization_acc = detection_acc / \\\n",
    "        len(predicted_faulty_clients_on_each_input)\n",
    "    return fault_localization_acc\n",
    "\n",
    "\n",
    "def runFaultyClientLocalization(client2models, exp2info, num_bugs, random_generator=kaiming_uniform_, apply_transform=True, k_gen_inputs=10, na_threshold=0.003, use_gpu=True):\n",
    "    print(\">  Running FaultyClientLocalization ..\")\n",
    "    input_shape = list(exp2info['data_config']['single_input_shape'])\n",
    "    generate_inputs = InferenceGuidedInputs(client2models, input_shape, randomGenerator=random_generator, apply_transform=apply_transform,\n",
    "                                            dname=exp2info['data_config']['name'], min_nclients_same_pred=5, k_gen_inputs=k_gen_inputs)\n",
    "    selected_inputs, input_gen_time = generate_inputs.getInputs()\n",
    "\n",
    "    start = time.time()\n",
    "    faultyclientlocalization = FaultyClientLocalization(\n",
    "        client2models, selected_inputs, use_gpu=use_gpu)\n",
    "\n",
    "    potential_benign_clients_for_each_input = faultyclientlocalization.runFaultLocalization(\n",
    "        na_threshold, num_bugs=num_bugs)\n",
    "    fault_localization_time = time.time()-start\n",
    "    return potential_benign_clients_for_each_input, input_gen_time, fault_localization_time\n",
    "\n",
    "\n",
    "\n",
    "results = {}\n",
    "\n",
    "# ====== Simulation ===== \n",
    "\n",
    "args = DotMap()\n",
    "args.lr = 0.001\n",
    "args.weight_decay = 0.0001\n",
    "args.batch_size = 512\n",
    "\n",
    "args.noise_rate = 1  # noise rate 0 to 1 \n",
    "args.clients = 30 # keep under 30 clients and use Resnet18, Resnet34, or Densenet to evaluate on Colab \n",
    "args.epochs = 10  # range 10-25\n",
    "args.faulty_clients_ids = \"0\" # can be multiple clients separated by comma e.g. \"0,1,2\"  but keep under args.clients clients and at max less than 7 \n"
   ]
  },
  {
   "attachments": {},
   "cell_type": "markdown",
   "metadata": {},
   "source": [
    "> Note: You can comment a complete cell to skip its execution in order to evalutate any particular configuration"
   ]
  },
  {
   "attachments": {},
   "cell_type": "markdown",
   "metadata": {},
   "source": [
    " ### Table 1: resnet18, cifar10, iid distribution and 30 clients"
   ]
  },
  {
   "cell_type": "code",
   "execution_count": 4,
   "metadata": {},
   "outputs": [
    {
     "name": "stdout",
     "output_type": "stream",
     "text": [
      "\n",
      "\n",
      "  ***Simulating FL setup iid_resnet18_cifar10_clients_30_faulty_[0]_bsize_512_epochs_10_lr_0.001 ***\n",
      "Files already downloaded and verified\n",
      "Files already downloaded and verified\n",
      "Spliting Datasets 50000 into parts:[1686, 1666, 1666, 1666, 1666, 1666, 1666, 1666, 1666, 1666, 1666, 1666, 1666, 1666, 1666, 1666, 1666, 1666, 1666, 1666, 1666, 1666, 1666, 1666, 1666, 1666, 1666, 1666, 1666, 1666]\n",
      "input shape, torch.Size([1, 3, 32, 32])\n",
      "Training : .storage/checkpoints/iid_resnet18_cifar10_clients_30_faulty_[0]_bsize_512_epochs_10_lr_0.001/faulty_client_0_noise_rate_1_classes.ckpt\n"
     ]
    },
    {
     "name": "stderr",
     "output_type": "stream",
     "text": [
      "Using 16bit native Automatic Mixed Precision (AMP)\n",
      "GPU available: True (cuda), used: True\n",
      "TPU available: False, using: 0 TPU cores\n",
      "IPU available: False, using: 0 IPUs\n",
      "HPU available: False, using: 0 HPUs\n"
     ]
    },
    {
     "name": "stdout",
     "output_type": "stream",
     "text": [
      "Train mod batch = 150, and drop_last = False\n"
     ]
    },
    {
     "name": "stderr",
     "output_type": "stream",
     "text": [
      "LOCAL_RANK: 0 - CUDA_VISIBLE_DEVICES: [0]\n"
     ]
    },
    {
     "name": "stdout",
     "output_type": "stream",
     "text": [
      "Epoch 9: 100%|██████████| 4/4 [00:00<00:00,  4.27it/s, loss=2.31, train_acc=0.0818, train_loss=2.310, val_acc=0.0879, val_loss=2.420]"
     ]
    },
    {
     "name": "stderr",
     "output_type": "stream",
     "text": [
      "`Trainer.fit` stopped: `max_epochs=10` reached.\n"
     ]
    },
    {
     "name": "stdout",
     "output_type": "stream",
     "text": [
      "Epoch 00010: reducing learning rate of group 0 to 2.5000e-04.\n",
      "Epoch 9: 100%|██████████| 4/4 [00:00<00:00,  4.25it/s, loss=2.31, train_acc=0.0818, train_loss=2.310, val_acc=0.0879, val_loss=2.420]\n",
      "Training : .storage/checkpoints/iid_resnet18_cifar10_clients_30_faulty_[0]_bsize_512_epochs_10_lr_0.001/client_1.ckpt\n"
     ]
    },
    {
     "name": "stderr",
     "output_type": "stream",
     "text": [
      "Using 16bit native Automatic Mixed Precision (AMP)\n",
      "GPU available: True (cuda), used: True\n",
      "TPU available: False, using: 0 TPU cores\n",
      "IPU available: False, using: 0 IPUs\n",
      "HPU available: False, using: 0 HPUs\n",
      "LOCAL_RANK: 0 - CUDA_VISIBLE_DEVICES: [0]\n"
     ]
    },
    {
     "name": "stdout",
     "output_type": "stream",
     "text": [
      "Train mod batch = 130, and drop_last = False\n",
      "Epoch 9: 100%|██████████| 4/4 [00:00<00:00,  4.13it/s, loss=0.728, train_acc=0.787, train_loss=0.653, val_acc=0.642, val_loss=1.630]"
     ]
    },
    {
     "name": "stderr",
     "output_type": "stream",
     "text": [
      "`Trainer.fit` stopped: `max_epochs=10` reached.\n"
     ]
    },
    {
     "name": "stdout",
     "output_type": "stream",
     "text": [
      "Epoch 00010: reducing learning rate of group 0 to 2.5000e-04.\n",
      "Epoch 9: 100%|██████████| 4/4 [00:00<00:00,  4.12it/s, loss=0.728, train_acc=0.787, train_loss=0.653, val_acc=0.642, val_loss=1.630]\n",
      "Training : .storage/checkpoints/iid_resnet18_cifar10_clients_30_faulty_[0]_bsize_512_epochs_10_lr_0.001/client_2.ckpt\n"
     ]
    },
    {
     "name": "stderr",
     "output_type": "stream",
     "text": [
      "Using 16bit native Automatic Mixed Precision (AMP)\n",
      "GPU available: True (cuda), used: True\n",
      "TPU available: False, using: 0 TPU cores\n",
      "IPU available: False, using: 0 IPUs\n",
      "HPU available: False, using: 0 HPUs\n",
      "LOCAL_RANK: 0 - CUDA_VISIBLE_DEVICES: [0]\n"
     ]
    },
    {
     "name": "stdout",
     "output_type": "stream",
     "text": [
      "Train mod batch = 130, and drop_last = False\n",
      "Epoch 9: 100%|██████████| 4/4 [00:00<00:00,  4.03it/s, loss=0.684, train_acc=0.759, train_loss=0.607, val_acc=0.664, val_loss=1.440]"
     ]
    },
    {
     "name": "stderr",
     "output_type": "stream",
     "text": [
      "`Trainer.fit` stopped: `max_epochs=10` reached.\n"
     ]
    },
    {
     "name": "stdout",
     "output_type": "stream",
     "text": [
      "Epoch 9: 100%|██████████| 4/4 [00:00<00:00,  4.01it/s, loss=0.684, train_acc=0.759, train_loss=0.607, val_acc=0.664, val_loss=1.440]\n",
      "Training : .storage/checkpoints/iid_resnet18_cifar10_clients_30_faulty_[0]_bsize_512_epochs_10_lr_0.001/client_3.ckpt\n"
     ]
    },
    {
     "name": "stderr",
     "output_type": "stream",
     "text": [
      "Using 16bit native Automatic Mixed Precision (AMP)\n",
      "GPU available: True (cuda), used: True\n",
      "TPU available: False, using: 0 TPU cores\n",
      "IPU available: False, using: 0 IPUs\n",
      "HPU available: False, using: 0 HPUs\n",
      "LOCAL_RANK: 0 - CUDA_VISIBLE_DEVICES: [0]\n"
     ]
    },
    {
     "name": "stdout",
     "output_type": "stream",
     "text": [
      "Train mod batch = 130, and drop_last = False\n",
      "Epoch 9: 100%|██████████| 4/4 [00:01<00:00,  3.67it/s, loss=0.675, train_acc=0.788, train_loss=0.623, val_acc=0.655, val_loss=1.560]"
     ]
    },
    {
     "name": "stderr",
     "output_type": "stream",
     "text": [
      "`Trainer.fit` stopped: `max_epochs=10` reached.\n"
     ]
    },
    {
     "name": "stdout",
     "output_type": "stream",
     "text": [
      "Epoch 00010: reducing learning rate of group 0 to 2.5000e-04.\n",
      "Epoch 9: 100%|██████████| 4/4 [00:01<00:00,  3.65it/s, loss=0.675, train_acc=0.788, train_loss=0.623, val_acc=0.655, val_loss=1.560]\n",
      "Training : .storage/checkpoints/iid_resnet18_cifar10_clients_30_faulty_[0]_bsize_512_epochs_10_lr_0.001/client_4.ckpt\n"
     ]
    },
    {
     "name": "stderr",
     "output_type": "stream",
     "text": [
      "Using 16bit native Automatic Mixed Precision (AMP)\n",
      "GPU available: True (cuda), used: True\n",
      "TPU available: False, using: 0 TPU cores\n",
      "IPU available: False, using: 0 IPUs\n",
      "HPU available: False, using: 0 HPUs\n",
      "LOCAL_RANK: 0 - CUDA_VISIBLE_DEVICES: [0]\n"
     ]
    },
    {
     "name": "stdout",
     "output_type": "stream",
     "text": [
      "Train mod batch = 130, and drop_last = False\n",
      "Epoch 9: 100%|██████████| 4/4 [00:01<00:00,  3.61it/s, loss=0.675, train_acc=0.841, train_loss=0.469, val_acc=0.664, val_loss=1.470]"
     ]
    },
    {
     "name": "stderr",
     "output_type": "stream",
     "text": [
      "`Trainer.fit` stopped: `max_epochs=10` reached.\n"
     ]
    },
    {
     "name": "stdout",
     "output_type": "stream",
     "text": [
      "Epoch 00010: reducing learning rate of group 0 to 2.5000e-04.\n",
      "Epoch 9: 100%|██████████| 4/4 [00:01<00:00,  3.59it/s, loss=0.675, train_acc=0.841, train_loss=0.469, val_acc=0.664, val_loss=1.470]\n",
      "Training : .storage/checkpoints/iid_resnet18_cifar10_clients_30_faulty_[0]_bsize_512_epochs_10_lr_0.001/client_5.ckpt\n"
     ]
    },
    {
     "name": "stderr",
     "output_type": "stream",
     "text": [
      "Using 16bit native Automatic Mixed Precision (AMP)\n",
      "GPU available: True (cuda), used: True\n",
      "TPU available: False, using: 0 TPU cores\n",
      "IPU available: False, using: 0 IPUs\n",
      "HPU available: False, using: 0 HPUs\n",
      "LOCAL_RANK: 0 - CUDA_VISIBLE_DEVICES: [0]\n"
     ]
    },
    {
     "name": "stdout",
     "output_type": "stream",
     "text": [
      "Train mod batch = 130, and drop_last = False\n",
      "Epoch 9: 100%|██████████| 4/4 [00:01<00:00,  3.55it/s, loss=0.656, train_acc=0.887, train_loss=0.397, val_acc=0.674, val_loss=1.430]"
     ]
    },
    {
     "name": "stderr",
     "output_type": "stream",
     "text": [
      "`Trainer.fit` stopped: `max_epochs=10` reached.\n"
     ]
    },
    {
     "name": "stdout",
     "output_type": "stream",
     "text": [
      "Epoch 9: 100%|██████████| 4/4 [00:01<00:00,  3.53it/s, loss=0.656, train_acc=0.887, train_loss=0.397, val_acc=0.674, val_loss=1.430]\n",
      "Training : .storage/checkpoints/iid_resnet18_cifar10_clients_30_faulty_[0]_bsize_512_epochs_10_lr_0.001/client_6.ckpt\n"
     ]
    },
    {
     "name": "stderr",
     "output_type": "stream",
     "text": [
      "Using 16bit native Automatic Mixed Precision (AMP)\n",
      "GPU available: True (cuda), used: True\n",
      "TPU available: False, using: 0 TPU cores\n",
      "IPU available: False, using: 0 IPUs\n",
      "HPU available: False, using: 0 HPUs\n",
      "LOCAL_RANK: 0 - CUDA_VISIBLE_DEVICES: [0]\n"
     ]
    },
    {
     "name": "stdout",
     "output_type": "stream",
     "text": [
      "Train mod batch = 130, and drop_last = False\n",
      "Epoch 9: 100%|██████████| 4/4 [00:01<00:00,  3.59it/s, loss=0.703, train_acc=0.761, train_loss=0.671, val_acc=0.671, val_loss=1.490]"
     ]
    },
    {
     "name": "stderr",
     "output_type": "stream",
     "text": [
      "`Trainer.fit` stopped: `max_epochs=10` reached.\n"
     ]
    },
    {
     "name": "stdout",
     "output_type": "stream",
     "text": [
      "Epoch 9: 100%|██████████| 4/4 [00:01<00:00,  3.57it/s, loss=0.703, train_acc=0.761, train_loss=0.671, val_acc=0.671, val_loss=1.490]\n",
      "Training : .storage/checkpoints/iid_resnet18_cifar10_clients_30_faulty_[0]_bsize_512_epochs_10_lr_0.001/client_7.ckpt\n"
     ]
    },
    {
     "name": "stderr",
     "output_type": "stream",
     "text": [
      "Using 16bit native Automatic Mixed Precision (AMP)\n",
      "GPU available: True (cuda), used: True\n",
      "TPU available: False, using: 0 TPU cores\n",
      "IPU available: False, using: 0 IPUs\n",
      "HPU available: False, using: 0 HPUs\n",
      "LOCAL_RANK: 0 - CUDA_VISIBLE_DEVICES: [0]\n"
     ]
    },
    {
     "name": "stdout",
     "output_type": "stream",
     "text": [
      "Train mod batch = 130, and drop_last = False\n",
      "Epoch 9: 100%|██████████| 4/4 [00:01<00:00,  3.94it/s, loss=0.738, train_acc=0.746, train_loss=0.723, val_acc=0.628, val_loss=1.540]"
     ]
    },
    {
     "name": "stderr",
     "output_type": "stream",
     "text": [
      "`Trainer.fit` stopped: `max_epochs=10` reached.\n"
     ]
    },
    {
     "name": "stdout",
     "output_type": "stream",
     "text": [
      "Epoch 9: 100%|██████████| 4/4 [00:01<00:00,  3.93it/s, loss=0.738, train_acc=0.746, train_loss=0.723, val_acc=0.628, val_loss=1.540]\n",
      "Training : .storage/checkpoints/iid_resnet18_cifar10_clients_30_faulty_[0]_bsize_512_epochs_10_lr_0.001/client_8.ckpt\n"
     ]
    },
    {
     "name": "stderr",
     "output_type": "stream",
     "text": [
      "Using 16bit native Automatic Mixed Precision (AMP)\n",
      "GPU available: True (cuda), used: True\n",
      "TPU available: False, using: 0 TPU cores\n",
      "IPU available: False, using: 0 IPUs\n",
      "HPU available: False, using: 0 HPUs\n",
      "LOCAL_RANK: 0 - CUDA_VISIBLE_DEVICES: [0]\n"
     ]
    },
    {
     "name": "stdout",
     "output_type": "stream",
     "text": [
      "Train mod batch = 130, and drop_last = False\n",
      "Epoch 6: 100%|██████████| 4/4 [00:01<00:00,  3.39it/s, loss=1, train_acc=0.695, train_loss=0.746, val_acc=0.554, val_loss=1.780]   Epoch 00007: reducing learning rate of group 0 to 2.5000e-04.\n",
      "Epoch 9: 100%|██████████| 4/4 [00:01<00:00,  3.69it/s, loss=0.67, train_acc=0.829, train_loss=0.468, val_acc=0.692, val_loss=1.250] "
     ]
    },
    {
     "name": "stderr",
     "output_type": "stream",
     "text": [
      "`Trainer.fit` stopped: `max_epochs=10` reached.\n"
     ]
    },
    {
     "name": "stdout",
     "output_type": "stream",
     "text": [
      "Epoch 9: 100%|██████████| 4/4 [00:01<00:00,  3.67it/s, loss=0.67, train_acc=0.829, train_loss=0.468, val_acc=0.692, val_loss=1.250]\n",
      "Training : .storage/checkpoints/iid_resnet18_cifar10_clients_30_faulty_[0]_bsize_512_epochs_10_lr_0.001/client_9.ckpt\n"
     ]
    },
    {
     "name": "stderr",
     "output_type": "stream",
     "text": [
      "Using 16bit native Automatic Mixed Precision (AMP)\n",
      "GPU available: True (cuda), used: True\n",
      "TPU available: False, using: 0 TPU cores\n",
      "IPU available: False, using: 0 IPUs\n",
      "HPU available: False, using: 0 HPUs\n",
      "LOCAL_RANK: 0 - CUDA_VISIBLE_DEVICES: [0]\n"
     ]
    },
    {
     "name": "stdout",
     "output_type": "stream",
     "text": [
      "Train mod batch = 130, and drop_last = False\n",
      "Epoch 9: 100%|██████████| 4/4 [00:01<00:00,  3.31it/s, loss=0.678, train_acc=0.808, train_loss=0.504, val_acc=0.675, val_loss=1.490]"
     ]
    },
    {
     "name": "stderr",
     "output_type": "stream",
     "text": [
      "`Trainer.fit` stopped: `max_epochs=10` reached.\n"
     ]
    },
    {
     "name": "stdout",
     "output_type": "stream",
     "text": [
      "Epoch 9: 100%|██████████| 4/4 [00:01<00:00,  3.29it/s, loss=0.678, train_acc=0.808, train_loss=0.504, val_acc=0.675, val_loss=1.490]\n",
      "Training : .storage/checkpoints/iid_resnet18_cifar10_clients_30_faulty_[0]_bsize_512_epochs_10_lr_0.001/client_10.ckpt\n"
     ]
    },
    {
     "name": "stderr",
     "output_type": "stream",
     "text": [
      "Using 16bit native Automatic Mixed Precision (AMP)\n",
      "GPU available: True (cuda), used: True\n",
      "TPU available: False, using: 0 TPU cores\n",
      "IPU available: False, using: 0 IPUs\n",
      "HPU available: False, using: 0 HPUs\n",
      "LOCAL_RANK: 0 - CUDA_VISIBLE_DEVICES: [0]\n"
     ]
    },
    {
     "name": "stdout",
     "output_type": "stream",
     "text": [
      "Train mod batch = 130, and drop_last = False\n",
      "Epoch 9: 100%|██████████| 4/4 [00:01<00:00,  3.53it/s, loss=0.639, train_acc=0.775, train_loss=0.698, val_acc=0.677, val_loss=1.400]"
     ]
    },
    {
     "name": "stderr",
     "output_type": "stream",
     "text": [
      "`Trainer.fit` stopped: `max_epochs=10` reached.\n"
     ]
    },
    {
     "name": "stdout",
     "output_type": "stream",
     "text": [
      "Epoch 9: 100%|██████████| 4/4 [00:01<00:00,  3.52it/s, loss=0.639, train_acc=0.775, train_loss=0.698, val_acc=0.677, val_loss=1.400]\n",
      "Training : .storage/checkpoints/iid_resnet18_cifar10_clients_30_faulty_[0]_bsize_512_epochs_10_lr_0.001/client_11.ckpt\n"
     ]
    },
    {
     "name": "stderr",
     "output_type": "stream",
     "text": [
      "Using 16bit native Automatic Mixed Precision (AMP)\n",
      "GPU available: True (cuda), used: True\n",
      "TPU available: False, using: 0 TPU cores\n",
      "IPU available: False, using: 0 IPUs\n",
      "HPU available: False, using: 0 HPUs\n",
      "LOCAL_RANK: 0 - CUDA_VISIBLE_DEVICES: [0]\n"
     ]
    },
    {
     "name": "stdout",
     "output_type": "stream",
     "text": [
      "Train mod batch = 130, and drop_last = False\n",
      "Epoch 9: 100%|██████████| 4/4 [00:01<00:00,  3.43it/s, loss=0.676, train_acc=0.770, train_loss=0.590, val_acc=0.671, val_loss=1.470]"
     ]
    },
    {
     "name": "stderr",
     "output_type": "stream",
     "text": [
      "`Trainer.fit` stopped: `max_epochs=10` reached.\n"
     ]
    },
    {
     "name": "stdout",
     "output_type": "stream",
     "text": [
      "Epoch 9: 100%|██████████| 4/4 [00:01<00:00,  3.42it/s, loss=0.676, train_acc=0.770, train_loss=0.590, val_acc=0.671, val_loss=1.470]\n",
      "Training : .storage/checkpoints/iid_resnet18_cifar10_clients_30_faulty_[0]_bsize_512_epochs_10_lr_0.001/client_12.ckpt\n"
     ]
    },
    {
     "name": "stderr",
     "output_type": "stream",
     "text": [
      "Using 16bit native Automatic Mixed Precision (AMP)\n",
      "GPU available: True (cuda), used: True\n",
      "TPU available: False, using: 0 TPU cores\n",
      "IPU available: False, using: 0 IPUs\n",
      "HPU available: False, using: 0 HPUs\n",
      "LOCAL_RANK: 0 - CUDA_VISIBLE_DEVICES: [0]\n"
     ]
    },
    {
     "name": "stdout",
     "output_type": "stream",
     "text": [
      "Train mod batch = 130, and drop_last = False\n",
      "Epoch 9: 100%|██████████| 4/4 [00:01<00:00,  3.61it/s, loss=0.655, train_acc=0.840, train_loss=0.524, val_acc=0.676, val_loss=1.460]"
     ]
    },
    {
     "name": "stderr",
     "output_type": "stream",
     "text": [
      "`Trainer.fit` stopped: `max_epochs=10` reached.\n"
     ]
    },
    {
     "name": "stdout",
     "output_type": "stream",
     "text": [
      "Epoch 9: 100%|██████████| 4/4 [00:01<00:00,  3.60it/s, loss=0.655, train_acc=0.840, train_loss=0.524, val_acc=0.676, val_loss=1.460]\n",
      "Training : .storage/checkpoints/iid_resnet18_cifar10_clients_30_faulty_[0]_bsize_512_epochs_10_lr_0.001/client_13.ckpt\n"
     ]
    },
    {
     "name": "stderr",
     "output_type": "stream",
     "text": [
      "Using 16bit native Automatic Mixed Precision (AMP)\n",
      "GPU available: True (cuda), used: True\n",
      "TPU available: False, using: 0 TPU cores\n",
      "IPU available: False, using: 0 IPUs\n",
      "HPU available: False, using: 0 HPUs\n",
      "LOCAL_RANK: 0 - CUDA_VISIBLE_DEVICES: [0]\n"
     ]
    },
    {
     "name": "stdout",
     "output_type": "stream",
     "text": [
      "Train mod batch = 130, and drop_last = False\n",
      "Epoch 9:   0%|          | 0/4 [00:00<?, ?it/s, loss=0.782, train_acc=0.753, train_loss=0.715, val_acc=0.642, val_loss=1.610]        "
     ]
    }
   ],
   "source": [
    "args.model = \"resnet18\" # [resnet18, resnet34, resnet50, densenet121, vgg16]\n",
    "args.dataset = \"cifar10\" # ['cifar10', 'femnist']\n",
    "args.sampling = \"iid\" # [iid, \"niid\"] \n",
    "args.clients = 30 # keep under 30 clients and use Resnet18, Resnet34, or Densenet to evaluate on Colab \n",
    "\n",
    "# FL training\n",
    "c2ms, exp2info = trainFLMain(args)\n",
    "client2models = {k: v.model.eval() for k, v in c2ms.items()}\n",
    "\n",
    "\n",
    "# Fault localazation\n",
    "potential_faulty_clients, _, _ = runFaultyClientLocalization(\n",
    "    client2models=client2models, exp2info=exp2info, num_bugs=len(exp2info['faulty_clients_ids']))\n",
    "fault_acc = evaluateFaultLocalization(\n",
    "    potential_faulty_clients, exp2info['faulty_clients_ids'])\n",
    "# print(f\"Fault Localization Acc: {fault_acc}\")\n",
    "\n",
    "print(f\"#Fault Localization Accuracy: {fault_acc}, Distribution: {args.sampling},  Faulty clients: {len(args.faulty_clients_ids.split(','))}, Total Clients: {args.clients}, Architecture: {args.model}, Dataset: {args.dataset}\")"
   ]
  },
  {
   "attachments": {},
   "cell_type": "markdown",
   "metadata": {},
   "source": [
    " ### Table 1: densenet121, cifar10, niid distribution and 10 clients"
   ]
  },
  {
   "cell_type": "code",
   "execution_count": null,
   "metadata": {},
   "outputs": [
    {
     "ename": "NameError",
     "evalue": "name 'args' is not defined",
     "output_type": "error",
     "traceback": [
      "\u001b[0;31m---------------------------------------------------------------------------\u001b[0m",
      "\u001b[0;31mNameError\u001b[0m                                 Traceback (most recent call last)",
      "Cell \u001b[0;32mIn[1], line 1\u001b[0m\n\u001b[0;32m----> 1\u001b[0m args\u001b[39m.\u001b[39mmodel \u001b[39m=\u001b[39m \u001b[39m\"\u001b[39m\u001b[39mdensenet121\u001b[39m\u001b[39m\"\u001b[39m \u001b[39m# [resnet18, resnet34, resnet50, densenet121, vgg16]\u001b[39;00m\n\u001b[1;32m      2\u001b[0m args\u001b[39m.\u001b[39mdataset \u001b[39m=\u001b[39m \u001b[39m\"\u001b[39m\u001b[39mcifar10\u001b[39m\u001b[39m\"\u001b[39m \u001b[39m# ['cifar10', 'femnist']\u001b[39;00m\n\u001b[1;32m      3\u001b[0m args\u001b[39m.\u001b[39msampling \u001b[39m=\u001b[39m \u001b[39m\"\u001b[39m\u001b[39mniid\u001b[39m\u001b[39m\"\u001b[39m \u001b[39m# [iid, \"niid\"] \u001b[39;00m\n",
      "\u001b[0;31mNameError\u001b[0m: name 'args' is not defined"
     ]
    }
   ],
   "source": [
    "args.model = \"densenet121\" # [resnet18, resnet34, resnet50, densenet121, vgg16]\n",
    "args.dataset = \"cifar10\" # ['cifar10', 'femnist']\n",
    "args.sampling = \"niid\" # [iid, \"niid\"] \n",
    "args.clients = 10\n",
    "\n",
    "\n",
    "# FL training\n",
    "c2ms, exp2info = trainFLMain(args)\n",
    "client2models = {k: v.model.eval() for k, v in c2ms.items()}\n",
    "\n",
    "\n",
    "\n",
    "# Fault localazation\n",
    "potential_faulty_clients, _, _ = runFaultyClientLocalization(\n",
    "    client2models=client2models, exp2info=exp2info, num_bugs=len(exp2info['faulty_clients_ids']))\n",
    "fault_acc = evaluateFaultLocalization(\n",
    "    potential_faulty_clients, exp2info['faulty_clients_ids'])\n",
    "# print(f\"Fault Localization Acc: {fault_acc}\")\n",
    "\n",
    "print(f\"#Fault Localization Accuracy: {fault_acc}, Distribution: {args.sampling},  Faulty clients: {len(args.faulty_clients_ids.split(','))}, Total Clients: {args.clients}, Architecture: {args.model}, Dataset: {args.dataset}\")"
   ]
  },
  {
   "attachments": {},
   "cell_type": "markdown",
   "metadata": {},
   "source": [
    "### Table 2: Five Fautly Clients, densenet121, cifar10, and 30 clients "
   ]
  },
  {
   "cell_type": "code",
   "execution_count": null,
   "metadata": {},
   "outputs": [],
   "source": [
    "args.sampling = \"iid\"\n",
    "args.faulty_clients_ids = \"0,1,3,4,7\" # can be multiple clients separated by comma e.g. \"0,1,2\"  but keep under args.clients clients and at max less than 7 \n",
    "args.model = \"densenet121\" # [resnet18, resnet34, resnet50, densenet121, vgg16]\n",
    "args.dataset = \"cifar10\" # ['cifar10', 'femnist']\n",
    "args.clients = 30 \n",
    "\n",
    "# FL training\n",
    "c2ms, exp2info = trainFLMain(args)\n",
    "client2models = {k: v.model.eval() for k, v in c2ms.items()}\n",
    "\n",
    "# Fault localazation\n",
    "potential_faulty_clients, _, _ = runFaultyClientLocalization(\n",
    "    client2models=client2models, exp2info=exp2info, num_bugs=len(exp2info['faulty_clients_ids']))\n",
    "fault_acc = evaluateFaultLocalization(\n",
    "    potential_faulty_clients, exp2info['faulty_clients_ids'])\n",
    "# print(f\"Fault Localization Acc: {fault_acc}\")\n",
    "\n",
    "print(f\"#Table 2: Fault Localization Accuracy: {fault_acc}, Distribution: {args.sampling},  Faulty clients: {len(args.faulty_clients_ids.split(','))}, Total Clients: {args.clients}, Architecture: {args.model}, Dataset: {args.dataset}\")"
   ]
  },
  {
   "attachments": {},
   "cell_type": "markdown",
   "metadata": {},
   "source": [
    "### Table 2: Five Fautly Clients, resnet-50, cifar10, and 30 clients "
   ]
  },
  {
   "cell_type": "code",
   "execution_count": null,
   "metadata": {},
   "outputs": [],
   "source": [
    "args.sampling = \"iid\"\n",
    "args.faulty_clients_ids = \"0,1,3,4,7\" # can be multiple clients separated by comma e.g. \"0,1,2\"  but keep under args.clients clients and at max less than 7 \n",
    "args.model = \"resnet50\" # [resnet18, resnet34, resnet50, densenet121, vgg16]\n",
    "args.dataset = \"cifar10\" # ['cifar10', 'femnist']\n",
    "args.clients = 30 \n",
    "\n",
    "# FL training\n",
    "c2ms, exp2info = trainFLMain(args)\n",
    "client2models = {k: v.model.eval() for k, v in c2ms.items()}\n",
    "\n",
    "# Fault localazation\n",
    "potential_faulty_clients, _, _ = runFaultyClientLocalization(\n",
    "    client2models=client2models, exp2info=exp2info, num_bugs=len(exp2info['faulty_clients_ids']))\n",
    "fault_acc = evaluateFaultLocalization(\n",
    "    potential_faulty_clients, exp2info['faulty_clients_ids'])\n",
    "# print(f\"Fault Localization Acc: {fault_acc}\")\n",
    "\n",
    "print(f\"#Table 2: Fault Localization Accuracy: {fault_acc}, Distribution: {args.sampling},  Faulty clients: {len(args.faulty_clients_ids.split(','))}, Total Clients: {args.clients}, Architecture: {args.model}, Dataset: {args.dataset}\")"
   ]
  },
  {
   "cell_type": "code",
   "execution_count": null,
   "metadata": {},
   "outputs": [],
   "source": []
  }
 ],
 "metadata": {
  "kernelspec": {
   "display_name": "Python 3 (ipykernel)",
   "language": "python",
   "name": "python3"
  },
  "language_info": {
   "codemirror_mode": {
    "name": "ipython",
    "version": 3
   },
   "file_extension": ".py",
   "mimetype": "text/x-python",
   "name": "python",
   "nbconvert_exporter": "python",
   "pygments_lexer": "ipython3",
   "version": "3.10.8"
  },
  "vscode": {
   "interpreter": {
    "hash": "90b2b3ffc921ecec285732ffefdcd2be049b62625871c2bd1061419cc3e1c031"
   }
  }
 },
 "nbformat": 4,
 "nbformat_minor": 2
}
