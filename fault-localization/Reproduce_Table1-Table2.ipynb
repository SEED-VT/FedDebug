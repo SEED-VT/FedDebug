{
 "cells": [
  {
   "attachments": {},
   "cell_type": "markdown",
   "metadata": {},
   "source": [
    "# Colab Setup  \n",
    "> Make sure you configure notebook with GPU: Click Edit->notebook settings->hardware accelerator->GPU\n",
    "\n",
    "> Uncomment the following cell after opening in Google colab. (Do not uncomment it in local setup.)  \n",
    "\n",
    "<a target=\"_blank\" href=\"https://colab.research.google.com/github/SEED-VT/FedDebug/blob/main/fault-localization/Reproduce_Table1-Table2.ipynb\"> <img src=\"https://colab.research.google.com/assets/colab-badge.svg\" alt=\"Open In Colab\"/> </a>\n"
   ]
  },
  {
   "cell_type": "code",
   "execution_count": 1,
   "metadata": {},
   "outputs": [],
   "source": [
    "# !pip install pytorch-lightning\n",
    "# !pip install diskcache\n",
    "# !pip install dotmap\n",
    "# !pip install torch torchvision torchaudio\n",
    "# !pip install matplotlib\n",
    "# !git clone https://github.com/SEED-VT/FedDebug.git\n",
    "# # appending the path\n",
    "# import sys\n",
    "# sys.path.append(\"FedDebug/fault-localization/\")"
   ]
  },
  {
   "attachments": {},
   "cell_type": "markdown",
   "metadata": {},
   "source": [
    "# Description\n",
    "\n",
    "- It defines some variables for the simulation such as the learning rate, batch size, noise rate, number of clients, and number of epochs. \n",
    "\n",
    "- It then runs the simulation for the given configuration (`args`) related to Table 1 and Table 2 configurations. \n",
    "\n",
    "- Finally, it prints out the faulty client(s) localization accuracy, along with information about the distribution, number of faulty clients, total number of clients, architecture, and dataset used in the simulation.\n",
    " "
   ]
  },
  {
   "cell_type": "code",
   "execution_count": 2,
   "metadata": {},
   "outputs": [
    {
     "name": "stderr",
     "output_type": "stream",
     "text": [
      "/home/gulzar/anaconda3/envs/torch/lib/python3.10/site-packages/tqdm/auto.py:22: TqdmWarning: IProgress not found. Please update jupyter and ipywidgets. See https://ipywidgets.readthedocs.io/en/stable/user_install.html\n",
      "  from .autonotebook import tqdm as notebook_tqdm\n",
      "Global seed set to 786\n",
      "Global seed set to 786\n"
     ]
    }
   ],
   "source": [
    "import logging\n",
    "import matplotlib.pyplot as plt\n",
    "import time\n",
    "from dotmap import DotMap\n",
    "from pytorch_lightning import seed_everything\n",
    "from torch.nn.init import kaiming_uniform_ \n",
    "from utils.faulty_client_localization.FaultyClientLocalization import FaultyClientLocalization\n",
    "from utils.faulty_client_localization.InferenceGuidedInputs import InferenceGuidedInputs\n",
    "from utils.FLSimulation import trainFLMain\n",
    "from utils.fl_datasets import initializeTrainAndValidationDataset\n",
    "from utils.util import aggToUpdateGlobalModel\n",
    "from utils.util import testAccModel\n",
    "\n",
    "\n",
    "\n",
    "logging.basicConfig(filename='example.log', level=logging.ERROR)\n",
    "logger = logging.getLogger(\"pytorch_lightning\")\n",
    "seed_everything(786)\n",
    "\n",
    "\n",
    "\n",
    "def evaluateFaultLocalization(predicted_faulty_clients_on_each_input, true_faulty_clients):\n",
    "    true_faulty_clients = set(true_faulty_clients)\n",
    "    detection_acc = 0\n",
    "    for pred_faulty_clients in predicted_faulty_clients_on_each_input:\n",
    "        print(f\"+++ Faulty Clients {pred_faulty_clients}\")\n",
    "        correct_localize_faults = len(\n",
    "            true_faulty_clients.intersection(pred_faulty_clients))\n",
    "        acc = (correct_localize_faults/len(true_faulty_clients))*100\n",
    "        detection_acc += acc\n",
    "    fault_localization_acc = detection_acc / \\\n",
    "        len(predicted_faulty_clients_on_each_input)\n",
    "    return fault_localization_acc\n",
    "\n",
    "\n",
    "def runFaultyClientLocalization(client2models, exp2info, num_bugs, random_generator=kaiming_uniform_, apply_transform=True, k_gen_inputs=10, na_threshold=0.003, use_gpu=True):\n",
    "    print(\">  Running FaultyClientLocalization ..\")\n",
    "    input_shape = list(exp2info['data_config']['single_input_shape'])\n",
    "    generate_inputs = InferenceGuidedInputs(client2models, input_shape, randomGenerator=random_generator, apply_transform=apply_transform,\n",
    "                                            dname=exp2info['data_config']['name'], min_nclients_same_pred=5, k_gen_inputs=k_gen_inputs)\n",
    "    selected_inputs, input_gen_time = generate_inputs.getInputs()\n",
    "\n",
    "    start = time.time()\n",
    "    faultyclientlocalization = FaultyClientLocalization(\n",
    "        client2models, selected_inputs, use_gpu=use_gpu)\n",
    "\n",
    "    potential_benign_clients_for_each_input = faultyclientlocalization.runFaultLocalization(\n",
    "        na_threshold, num_bugs=num_bugs)\n",
    "    fault_localization_time = time.time()-start\n",
    "    return potential_benign_clients_for_each_input, input_gen_time, fault_localization_time\n",
    "\n",
    "\n",
    "\n",
    "results = {}\n",
    "\n",
    "# ====== Simulation ===== \n",
    "\n",
    "args = DotMap()\n",
    "args.lr = 0.001\n",
    "args.weight_decay = 0.0001\n",
    "args.batch_size = 512\n",
    "\n",
    "args.noise_rate = 1  # noise rate 0 to 1 \n",
    "args.clients = 30 # keep under 30 clients and use Resnet18, Resnet34, or Densenet to evaluate on Colab \n",
    "args.epochs = 10  # range 10-25\n",
    "args.faulty_clients_ids = \"0\" # can be multiple clients separated by comma e.g. \"0,1,2\"  but keep under args.clients clients and at max less than 7 \n"
   ]
  },
  {
   "attachments": {},
   "cell_type": "markdown",
   "metadata": {},
   "source": [
    "> Note: You can comment a complete cell to skip its execution in order to evalutate any particular configuration"
   ]
  },
  {
   "attachments": {},
   "cell_type": "markdown",
   "metadata": {},
   "source": [
    " ### Table 1: resnet18, cifar10, iid distribution and 30 clients"
   ]
  },
  {
   "cell_type": "code",
   "execution_count": 3,
   "metadata": {},
   "outputs": [
    {
     "name": "stdout",
     "output_type": "stream",
     "text": [
      "\n",
      "\n",
      "  ***Simulating FL setup iid_resnet18_cifar10_clients_30_faulty_[0]_bsize_512_epochs_10_lr_0.001 ***\n",
      "Files already downloaded and verified\n",
      "Files already downloaded and verified\n",
      "Spliting Datasets 50000 into parts:[1686, 1666, 1666, 1666, 1666, 1666, 1666, 1666, 1666, 1666, 1666, 1666, 1666, 1666, 1666, 1666, 1666, 1666, 1666, 1666, 1666, 1666, 1666, 1666, 1666, 1666, 1666, 1666, 1666, 1666]\n",
      "input shape, torch.Size([1, 3, 32, 32])\n",
      "Training : .storage/checkpoints/iid_resnet18_cifar10_clients_30_faulty_[0]_bsize_512_epochs_10_lr_0.001/faulty_client_0_noise_rate_1_classes.ckpt\n"
     ]
    },
    {
     "name": "stderr",
     "output_type": "stream",
     "text": [
      "Using 16bit native Automatic Mixed Precision (AMP)\n",
      "GPU available: True (cuda), used: True\n",
      "TPU available: False, using: 0 TPU cores\n",
      "IPU available: False, using: 0 IPUs\n",
      "HPU available: False, using: 0 HPUs\n"
     ]
    },
    {
     "name": "stdout",
     "output_type": "stream",
     "text": [
      "Train mod batch = 150, and drop_last = False\n"
     ]
    },
    {
     "name": "stderr",
     "output_type": "stream",
     "text": [
      "LOCAL_RANK: 0 - CUDA_VISIBLE_DEVICES: [0]\n"
     ]
    },
    {
     "name": "stdout",
     "output_type": "stream",
     "text": [
      "Epoch 6: 100%|██████████| 4/4 [00:01<00:00,  2.73it/s, loss=2.32, train_acc=0.108, train_loss=2.320, val_acc=0.0818, val_loss=2.410] Epoch 00007: reducing learning rate of group 0 to 2.5000e-04.\n",
      "Epoch 9: 100%|██████████| 4/4 [00:01<00:00,  2.48it/s, loss=2.31, train_acc=0.096, train_loss=2.300, val_acc=0.0928, val_loss=2.330] "
     ]
    },
    {
     "name": "stderr",
     "output_type": "stream",
     "text": [
      "`Trainer.fit` stopped: `max_epochs=10` reached.\n"
     ]
    },
    {
     "name": "stdout",
     "output_type": "stream",
     "text": [
      "Epoch 9: 100%|██████████| 4/4 [00:01<00:00,  2.47it/s, loss=2.31, train_acc=0.096, train_loss=2.300, val_acc=0.0928, val_loss=2.330]\n",
      "Training : .storage/checkpoints/iid_resnet18_cifar10_clients_30_faulty_[0]_bsize_512_epochs_10_lr_0.001/client_1.ckpt\n"
     ]
    },
    {
     "name": "stderr",
     "output_type": "stream",
     "text": [
      "Using 16bit native Automatic Mixed Precision (AMP)\n",
      "GPU available: True (cuda), used: True\n",
      "TPU available: False, using: 0 TPU cores\n",
      "IPU available: False, using: 0 IPUs\n",
      "HPU available: False, using: 0 HPUs\n",
      "LOCAL_RANK: 0 - CUDA_VISIBLE_DEVICES: [0]\n"
     ]
    },
    {
     "name": "stdout",
     "output_type": "stream",
     "text": [
      "Train mod batch = 130, and drop_last = False\n",
      "Epoch 9: 100%|██████████| 4/4 [00:01<00:00,  3.84it/s, loss=0.726, train_acc=0.836, train_loss=0.570, val_acc=0.666, val_loss=1.360]"
     ]
    },
    {
     "name": "stderr",
     "output_type": "stream",
     "text": [
      "`Trainer.fit` stopped: `max_epochs=10` reached.\n"
     ]
    },
    {
     "name": "stdout",
     "output_type": "stream",
     "text": [
      "Epoch 9: 100%|██████████| 4/4 [00:01<00:00,  3.82it/s, loss=0.726, train_acc=0.836, train_loss=0.570, val_acc=0.666, val_loss=1.360]\n",
      "Training : .storage/checkpoints/iid_resnet18_cifar10_clients_30_faulty_[0]_bsize_512_epochs_10_lr_0.001/client_2.ckpt\n"
     ]
    },
    {
     "name": "stderr",
     "output_type": "stream",
     "text": [
      "Using 16bit native Automatic Mixed Precision (AMP)\n",
      "GPU available: True (cuda), used: True\n",
      "TPU available: False, using: 0 TPU cores\n",
      "IPU available: False, using: 0 IPUs\n",
      "HPU available: False, using: 0 HPUs\n",
      "LOCAL_RANK: 0 - CUDA_VISIBLE_DEVICES: [0]\n"
     ]
    },
    {
     "name": "stdout",
     "output_type": "stream",
     "text": [
      "Train mod batch = 130, and drop_last = False\n",
      "Epoch 9: 100%|██████████| 4/4 [00:01<00:00,  3.65it/s, loss=0.682, train_acc=0.850, train_loss=0.565, val_acc=0.665, val_loss=1.340]"
     ]
    },
    {
     "name": "stderr",
     "output_type": "stream",
     "text": [
      "`Trainer.fit` stopped: `max_epochs=10` reached.\n"
     ]
    },
    {
     "name": "stdout",
     "output_type": "stream",
     "text": [
      "Epoch 9: 100%|██████████| 4/4 [00:01<00:00,  3.63it/s, loss=0.682, train_acc=0.850, train_loss=0.565, val_acc=0.665, val_loss=1.340]\n",
      "Training : .storage/checkpoints/iid_resnet18_cifar10_clients_30_faulty_[0]_bsize_512_epochs_10_lr_0.001/client_3.ckpt\n"
     ]
    },
    {
     "name": "stderr",
     "output_type": "stream",
     "text": [
      "Using 16bit native Automatic Mixed Precision (AMP)\n",
      "GPU available: True (cuda), used: True\n",
      "TPU available: False, using: 0 TPU cores\n",
      "IPU available: False, using: 0 IPUs\n",
      "HPU available: False, using: 0 HPUs\n",
      "LOCAL_RANK: 0 - CUDA_VISIBLE_DEVICES: [0]\n"
     ]
    },
    {
     "name": "stdout",
     "output_type": "stream",
     "text": [
      "Train mod batch = 130, and drop_last = False\n",
      "Epoch 9: 100%|██████████| 4/4 [00:01<00:00,  3.20it/s, loss=0.7, train_acc=0.765, train_loss=0.534, val_acc=0.649, val_loss=1.520]  "
     ]
    },
    {
     "name": "stderr",
     "output_type": "stream",
     "text": [
      "`Trainer.fit` stopped: `max_epochs=10` reached.\n"
     ]
    },
    {
     "name": "stdout",
     "output_type": "stream",
     "text": [
      "Epoch 9: 100%|██████████| 4/4 [00:01<00:00,  3.19it/s, loss=0.7, train_acc=0.765, train_loss=0.534, val_acc=0.649, val_loss=1.520]\n",
      "Training : .storage/checkpoints/iid_resnet18_cifar10_clients_30_faulty_[0]_bsize_512_epochs_10_lr_0.001/client_4.ckpt\n"
     ]
    },
    {
     "name": "stderr",
     "output_type": "stream",
     "text": [
      "Using 16bit native Automatic Mixed Precision (AMP)\n",
      "GPU available: True (cuda), used: True\n",
      "TPU available: False, using: 0 TPU cores\n",
      "IPU available: False, using: 0 IPUs\n",
      "HPU available: False, using: 0 HPUs\n",
      "LOCAL_RANK: 0 - CUDA_VISIBLE_DEVICES: [0]\n"
     ]
    },
    {
     "name": "stdout",
     "output_type": "stream",
     "text": [
      "Train mod batch = 130, and drop_last = False\n",
      "Epoch 9: 100%|██████████| 4/4 [00:01<00:00,  3.53it/s, loss=0.673, train_acc=0.826, train_loss=0.503, val_acc=0.677, val_loss=1.340]"
     ]
    },
    {
     "name": "stderr",
     "output_type": "stream",
     "text": [
      "`Trainer.fit` stopped: `max_epochs=10` reached.\n"
     ]
    },
    {
     "name": "stdout",
     "output_type": "stream",
     "text": [
      "Epoch 9: 100%|██████████| 4/4 [00:01<00:00,  3.52it/s, loss=0.673, train_acc=0.826, train_loss=0.503, val_acc=0.677, val_loss=1.340]\n",
      "Training : .storage/checkpoints/iid_resnet18_cifar10_clients_30_faulty_[0]_bsize_512_epochs_10_lr_0.001/client_5.ckpt\n"
     ]
    },
    {
     "name": "stderr",
     "output_type": "stream",
     "text": [
      "Using 16bit native Automatic Mixed Precision (AMP)\n",
      "GPU available: True (cuda), used: True\n",
      "TPU available: False, using: 0 TPU cores\n",
      "IPU available: False, using: 0 IPUs\n",
      "HPU available: False, using: 0 HPUs\n",
      "LOCAL_RANK: 0 - CUDA_VISIBLE_DEVICES: [0]\n"
     ]
    },
    {
     "name": "stdout",
     "output_type": "stream",
     "text": [
      "Train mod batch = 130, and drop_last = False\n",
      "Epoch 6: 100%|██████████| 4/4 [00:01<00:00,  3.87it/s, loss=0.987, train_acc=0.671, train_loss=0.883, val_acc=0.565, val_loss=1.740]Epoch 00007: reducing learning rate of group 0 to 2.5000e-04.\n",
      "Epoch 9: 100%|██████████| 4/4 [00:01<00:00,  3.45it/s, loss=0.67, train_acc=0.838, train_loss=0.449, val_acc=0.681, val_loss=1.270] "
     ]
    },
    {
     "name": "stderr",
     "output_type": "stream",
     "text": [
      "`Trainer.fit` stopped: `max_epochs=10` reached.\n"
     ]
    },
    {
     "name": "stdout",
     "output_type": "stream",
     "text": [
      "Epoch 9: 100%|██████████| 4/4 [00:01<00:00,  3.43it/s, loss=0.67, train_acc=0.838, train_loss=0.449, val_acc=0.681, val_loss=1.270]\n",
      "Training : .storage/checkpoints/iid_resnet18_cifar10_clients_30_faulty_[0]_bsize_512_epochs_10_lr_0.001/client_6.ckpt\n"
     ]
    },
    {
     "name": "stderr",
     "output_type": "stream",
     "text": [
      "Using 16bit native Automatic Mixed Precision (AMP)\n",
      "GPU available: True (cuda), used: True\n",
      "TPU available: False, using: 0 TPU cores\n",
      "IPU available: False, using: 0 IPUs\n",
      "HPU available: False, using: 0 HPUs\n",
      "LOCAL_RANK: 0 - CUDA_VISIBLE_DEVICES: [0]\n"
     ]
    },
    {
     "name": "stdout",
     "output_type": "stream",
     "text": [
      "Train mod batch = 130, and drop_last = False\n",
      "Epoch 9: 100%|██████████| 4/4 [00:01<00:00,  3.72it/s, loss=0.671, train_acc=0.761, train_loss=0.672, val_acc=0.670, val_loss=1.450]Epoch 00010: reducing learning rate of group 0 to 2.5000e-04.\n"
     ]
    },
    {
     "name": "stderr",
     "output_type": "stream",
     "text": [
      "`Trainer.fit` stopped: `max_epochs=10` reached.\n"
     ]
    },
    {
     "name": "stdout",
     "output_type": "stream",
     "text": [
      "Epoch 9: 100%|██████████| 4/4 [00:01<00:00,  3.70it/s, loss=0.671, train_acc=0.761, train_loss=0.672, val_acc=0.670, val_loss=1.450]\n",
      "Training : .storage/checkpoints/iid_resnet18_cifar10_clients_30_faulty_[0]_bsize_512_epochs_10_lr_0.001/client_7.ckpt\n"
     ]
    },
    {
     "name": "stderr",
     "output_type": "stream",
     "text": [
      "Using 16bit native Automatic Mixed Precision (AMP)\n",
      "GPU available: True (cuda), used: True\n",
      "TPU available: False, using: 0 TPU cores\n",
      "IPU available: False, using: 0 IPUs\n",
      "HPU available: False, using: 0 HPUs\n",
      "LOCAL_RANK: 0 - CUDA_VISIBLE_DEVICES: [0]\n"
     ]
    },
    {
     "name": "stdout",
     "output_type": "stream",
     "text": [
      "Train mod batch = 130, and drop_last = False\n",
      "Epoch 9: 100%|██████████| 4/4 [00:01<00:00,  2.98it/s, loss=0.745, train_acc=0.788, train_loss=0.599, val_acc=0.623, val_loss=1.580]"
     ]
    },
    {
     "name": "stderr",
     "output_type": "stream",
     "text": [
      "`Trainer.fit` stopped: `max_epochs=10` reached.\n"
     ]
    },
    {
     "name": "stdout",
     "output_type": "stream",
     "text": [
      "Epoch 9: 100%|██████████| 4/4 [00:01<00:00,  2.98it/s, loss=0.745, train_acc=0.788, train_loss=0.599, val_acc=0.623, val_loss=1.580]\n",
      "Training : .storage/checkpoints/iid_resnet18_cifar10_clients_30_faulty_[0]_bsize_512_epochs_10_lr_0.001/client_8.ckpt\n"
     ]
    },
    {
     "name": "stderr",
     "output_type": "stream",
     "text": [
      "Using 16bit native Automatic Mixed Precision (AMP)\n",
      "GPU available: True (cuda), used: True\n",
      "TPU available: False, using: 0 TPU cores\n",
      "IPU available: False, using: 0 IPUs\n",
      "HPU available: False, using: 0 HPUs\n"
     ]
    },
    {
     "name": "stdout",
     "output_type": "stream",
     "text": [
      "Train mod batch = 130, and drop_last = False\n"
     ]
    },
    {
     "name": "stderr",
     "output_type": "stream",
     "text": [
      "LOCAL_RANK: 0 - CUDA_VISIBLE_DEVICES: [0]\n"
     ]
    },
    {
     "name": "stdout",
     "output_type": "stream",
     "text": [
      "Epoch 6: 100%|██████████| 4/4 [00:01<00:00,  3.41it/s, loss=1, train_acc=0.667, train_loss=0.852, val_acc=0.571, val_loss=1.690]   Epoch 00007: reducing learning rate of group 0 to 2.5000e-04.\n",
      "Epoch 9: 100%|██████████| 4/4 [00:01<00:00,  2.66it/s, loss=0.683, train_acc=0.842, train_loss=0.551, val_acc=0.678, val_loss=1.300]"
     ]
    },
    {
     "name": "stderr",
     "output_type": "stream",
     "text": [
      "`Trainer.fit` stopped: `max_epochs=10` reached.\n"
     ]
    },
    {
     "name": "stdout",
     "output_type": "stream",
     "text": [
      "Epoch 9: 100%|██████████| 4/4 [00:01<00:00,  2.66it/s, loss=0.683, train_acc=0.842, train_loss=0.551, val_acc=0.678, val_loss=1.300]\n",
      "Training : .storage/checkpoints/iid_resnet18_cifar10_clients_30_faulty_[0]_bsize_512_epochs_10_lr_0.001/client_9.ckpt\n"
     ]
    },
    {
     "name": "stderr",
     "output_type": "stream",
     "text": [
      "Using 16bit native Automatic Mixed Precision (AMP)\n",
      "GPU available: True (cuda), used: True\n",
      "TPU available: False, using: 0 TPU cores\n",
      "IPU available: False, using: 0 IPUs\n",
      "HPU available: False, using: 0 HPUs\n",
      "LOCAL_RANK: 0 - CUDA_VISIBLE_DEVICES: [0]\n"
     ]
    },
    {
     "name": "stdout",
     "output_type": "stream",
     "text": [
      "Train mod batch = 130, and drop_last = False\n",
      "Epoch 9: 100%|██████████| 4/4 [00:01<00:00,  2.97it/s, loss=0.678, train_acc=0.842, train_loss=0.517, val_acc=0.686, val_loss=1.360]"
     ]
    },
    {
     "name": "stderr",
     "output_type": "stream",
     "text": [
      "`Trainer.fit` stopped: `max_epochs=10` reached.\n"
     ]
    },
    {
     "name": "stdout",
     "output_type": "stream",
     "text": [
      "Epoch 9: 100%|██████████| 4/4 [00:01<00:00,  2.97it/s, loss=0.678, train_acc=0.842, train_loss=0.517, val_acc=0.686, val_loss=1.360]\n",
      "Training : .storage/checkpoints/iid_resnet18_cifar10_clients_30_faulty_[0]_bsize_512_epochs_10_lr_0.001/client_10.ckpt\n"
     ]
    },
    {
     "name": "stderr",
     "output_type": "stream",
     "text": [
      "Using 16bit native Automatic Mixed Precision (AMP)\n",
      "GPU available: True (cuda), used: True\n",
      "TPU available: False, using: 0 TPU cores\n",
      "IPU available: False, using: 0 IPUs\n",
      "HPU available: False, using: 0 HPUs\n",
      "LOCAL_RANK: 0 - CUDA_VISIBLE_DEVICES: [0]\n"
     ]
    },
    {
     "name": "stdout",
     "output_type": "stream",
     "text": [
      "Train mod batch = 130, and drop_last = False\n",
      "Epoch 9: 100%|██████████| 4/4 [00:01<00:00,  3.55it/s, loss=0.644, train_acc=0.746, train_loss=0.669, val_acc=0.671, val_loss=1.430]"
     ]
    },
    {
     "name": "stderr",
     "output_type": "stream",
     "text": [
      "`Trainer.fit` stopped: `max_epochs=10` reached.\n"
     ]
    },
    {
     "name": "stdout",
     "output_type": "stream",
     "text": [
      "Epoch 9: 100%|██████████| 4/4 [00:01<00:00,  3.54it/s, loss=0.644, train_acc=0.746, train_loss=0.669, val_acc=0.671, val_loss=1.430]\n",
      "Training : .storage/checkpoints/iid_resnet18_cifar10_clients_30_faulty_[0]_bsize_512_epochs_10_lr_0.001/client_11.ckpt\n"
     ]
    },
    {
     "name": "stderr",
     "output_type": "stream",
     "text": [
      "Using 16bit native Automatic Mixed Precision (AMP)\n",
      "GPU available: True (cuda), used: True\n",
      "TPU available: False, using: 0 TPU cores\n",
      "IPU available: False, using: 0 IPUs\n",
      "HPU available: False, using: 0 HPUs\n",
      "LOCAL_RANK: 0 - CUDA_VISIBLE_DEVICES: [0]\n"
     ]
    },
    {
     "name": "stdout",
     "output_type": "stream",
     "text": [
      "Train mod batch = 130, and drop_last = False\n",
      "Epoch 9: 100%|██████████| 4/4 [00:01<00:00,  3.68it/s, loss=0.692, train_acc=0.828, train_loss=0.533, val_acc=0.643, val_loss=1.730]"
     ]
    },
    {
     "name": "stderr",
     "output_type": "stream",
     "text": [
      "`Trainer.fit` stopped: `max_epochs=10` reached.\n"
     ]
    },
    {
     "name": "stdout",
     "output_type": "stream",
     "text": [
      "Epoch 00010: reducing learning rate of group 0 to 2.5000e-04.\n",
      "Epoch 9: 100%|██████████| 4/4 [00:01<00:00,  3.67it/s, loss=0.692, train_acc=0.828, train_loss=0.533, val_acc=0.643, val_loss=1.730]\n",
      "Training : .storage/checkpoints/iid_resnet18_cifar10_clients_30_faulty_[0]_bsize_512_epochs_10_lr_0.001/client_12.ckpt\n"
     ]
    },
    {
     "name": "stderr",
     "output_type": "stream",
     "text": [
      "Using 16bit native Automatic Mixed Precision (AMP)\n",
      "GPU available: True (cuda), used: True\n",
      "TPU available: False, using: 0 TPU cores\n",
      "IPU available: False, using: 0 IPUs\n",
      "HPU available: False, using: 0 HPUs\n",
      "LOCAL_RANK: 0 - CUDA_VISIBLE_DEVICES: [0]\n"
     ]
    },
    {
     "name": "stdout",
     "output_type": "stream",
     "text": [
      "Train mod batch = 130, and drop_last = False\n",
      "Epoch 9: 100%|██████████| 4/4 [00:01<00:00,  3.26it/s, loss=0.666, train_acc=0.837, train_loss=0.510, val_acc=0.671, val_loss=1.410]"
     ]
    },
    {
     "name": "stderr",
     "output_type": "stream",
     "text": [
      "`Trainer.fit` stopped: `max_epochs=10` reached.\n"
     ]
    },
    {
     "name": "stdout",
     "output_type": "stream",
     "text": [
      "Epoch 9: 100%|██████████| 4/4 [00:01<00:00,  3.25it/s, loss=0.666, train_acc=0.837, train_loss=0.510, val_acc=0.671, val_loss=1.410]\n",
      "Training : .storage/checkpoints/iid_resnet18_cifar10_clients_30_faulty_[0]_bsize_512_epochs_10_lr_0.001/client_13.ckpt\n"
     ]
    },
    {
     "name": "stderr",
     "output_type": "stream",
     "text": [
      "Using 16bit native Automatic Mixed Precision (AMP)\n",
      "GPU available: True (cuda), used: True\n",
      "TPU available: False, using: 0 TPU cores\n",
      "IPU available: False, using: 0 IPUs\n",
      "HPU available: False, using: 0 HPUs\n",
      "LOCAL_RANK: 0 - CUDA_VISIBLE_DEVICES: [0]\n"
     ]
    },
    {
     "name": "stdout",
     "output_type": "stream",
     "text": [
      "Train mod batch = 130, and drop_last = False\n",
      "Epoch 9: 100%|██████████| 4/4 [00:01<00:00,  3.08it/s, loss=0.681, train_acc=0.858, train_loss=0.472, val_acc=0.657, val_loss=1.590]"
     ]
    },
    {
     "name": "stderr",
     "output_type": "stream",
     "text": [
      "`Trainer.fit` stopped: `max_epochs=10` reached.\n"
     ]
    },
    {
     "name": "stdout",
     "output_type": "stream",
     "text": [
      "Epoch 9: 100%|██████████| 4/4 [00:01<00:00,  3.08it/s, loss=0.681, train_acc=0.858, train_loss=0.472, val_acc=0.657, val_loss=1.590]\n",
      "Training : .storage/checkpoints/iid_resnet18_cifar10_clients_30_faulty_[0]_bsize_512_epochs_10_lr_0.001/client_14.ckpt\n"
     ]
    },
    {
     "name": "stderr",
     "output_type": "stream",
     "text": [
      "Using 16bit native Automatic Mixed Precision (AMP)\n",
      "GPU available: True (cuda), used: True\n",
      "TPU available: False, using: 0 TPU cores\n",
      "IPU available: False, using: 0 IPUs\n",
      "HPU available: False, using: 0 HPUs\n",
      "LOCAL_RANK: 0 - CUDA_VISIBLE_DEVICES: [0]\n"
     ]
    },
    {
     "name": "stdout",
     "output_type": "stream",
     "text": [
      "Train mod batch = 130, and drop_last = False\n",
      "Epoch 6: 100%|██████████| 4/4 [00:01<00:00,  2.62it/s, loss=0.959, train_acc=0.738, train_loss=0.718, val_acc=0.588, val_loss=1.740]Epoch 00007: reducing learning rate of group 0 to 2.5000e-04.\n",
      "Epoch 9: 100%|██████████| 4/4 [00:01<00:00,  2.97it/s, loss=0.685, train_acc=0.760, train_loss=0.601, val_acc=0.689, val_loss=1.350]"
     ]
    },
    {
     "name": "stderr",
     "output_type": "stream",
     "text": [
      "`Trainer.fit` stopped: `max_epochs=10` reached.\n"
     ]
    },
    {
     "name": "stdout",
     "output_type": "stream",
     "text": [
      "Epoch 9: 100%|██████████| 4/4 [00:01<00:00,  2.96it/s, loss=0.685, train_acc=0.760, train_loss=0.601, val_acc=0.689, val_loss=1.350]\n",
      "Training : .storage/checkpoints/iid_resnet18_cifar10_clients_30_faulty_[0]_bsize_512_epochs_10_lr_0.001/client_15.ckpt\n"
     ]
    },
    {
     "name": "stderr",
     "output_type": "stream",
     "text": [
      "Using 16bit native Automatic Mixed Precision (AMP)\n",
      "GPU available: True (cuda), used: True\n",
      "TPU available: False, using: 0 TPU cores\n",
      "IPU available: False, using: 0 IPUs\n",
      "HPU available: False, using: 0 HPUs\n",
      "LOCAL_RANK: 0 - CUDA_VISIBLE_DEVICES: [0]\n"
     ]
    },
    {
     "name": "stdout",
     "output_type": "stream",
     "text": [
      "Train mod batch = 130, and drop_last = False\n",
      "Epoch 6: 100%|██████████| 4/4 [00:01<00:00,  3.39it/s, loss=0.948, train_acc=0.803, train_loss=0.659, val_acc=0.598, val_loss=1.960]Epoch 00007: reducing learning rate of group 0 to 2.5000e-04.\n",
      "Epoch 9: 100%|██████████| 4/4 [00:01<00:00,  3.01it/s, loss=0.638, train_acc=0.807, train_loss=0.601, val_acc=0.690, val_loss=1.330]"
     ]
    },
    {
     "name": "stderr",
     "output_type": "stream",
     "text": [
      "`Trainer.fit` stopped: `max_epochs=10` reached.\n"
     ]
    },
    {
     "name": "stdout",
     "output_type": "stream",
     "text": [
      "Epoch 9: 100%|██████████| 4/4 [00:01<00:00,  3.00it/s, loss=0.638, train_acc=0.807, train_loss=0.601, val_acc=0.690, val_loss=1.330]\n",
      "Training : .storage/checkpoints/iid_resnet18_cifar10_clients_30_faulty_[0]_bsize_512_epochs_10_lr_0.001/client_16.ckpt\n"
     ]
    },
    {
     "name": "stderr",
     "output_type": "stream",
     "text": [
      "Using 16bit native Automatic Mixed Precision (AMP)\n",
      "GPU available: True (cuda), used: True\n",
      "TPU available: False, using: 0 TPU cores\n",
      "IPU available: False, using: 0 IPUs\n",
      "HPU available: False, using: 0 HPUs\n",
      "LOCAL_RANK: 0 - CUDA_VISIBLE_DEVICES: [0]\n"
     ]
    },
    {
     "name": "stdout",
     "output_type": "stream",
     "text": [
      "Train mod batch = 130, and drop_last = False\n",
      "Epoch 9: 100%|██████████| 4/4 [00:01<00:00,  2.59it/s, loss=0.615, train_acc=0.860, train_loss=0.461, val_acc=0.676, val_loss=1.440]"
     ]
    },
    {
     "name": "stderr",
     "output_type": "stream",
     "text": [
      "`Trainer.fit` stopped: `max_epochs=10` reached.\n"
     ]
    },
    {
     "name": "stdout",
     "output_type": "stream",
     "text": [
      "Epoch 9: 100%|██████████| 4/4 [00:01<00:00,  2.59it/s, loss=0.615, train_acc=0.860, train_loss=0.461, val_acc=0.676, val_loss=1.440]\n",
      "Training : .storage/checkpoints/iid_resnet18_cifar10_clients_30_faulty_[0]_bsize_512_epochs_10_lr_0.001/client_17.ckpt\n"
     ]
    },
    {
     "name": "stderr",
     "output_type": "stream",
     "text": [
      "Using 16bit native Automatic Mixed Precision (AMP)\n",
      "GPU available: True (cuda), used: True\n",
      "TPU available: False, using: 0 TPU cores\n",
      "IPU available: False, using: 0 IPUs\n",
      "HPU available: False, using: 0 HPUs\n",
      "LOCAL_RANK: 0 - CUDA_VISIBLE_DEVICES: [0]\n"
     ]
    },
    {
     "name": "stdout",
     "output_type": "stream",
     "text": [
      "Train mod batch = 130, and drop_last = False\n",
      "Epoch 9: 100%|██████████| 4/4 [00:01<00:00,  3.02it/s, loss=0.657, train_acc=0.855, train_loss=0.495, val_acc=0.674, val_loss=1.450]"
     ]
    },
    {
     "name": "stderr",
     "output_type": "stream",
     "text": [
      "`Trainer.fit` stopped: `max_epochs=10` reached.\n"
     ]
    },
    {
     "name": "stdout",
     "output_type": "stream",
     "text": [
      "Epoch 9: 100%|██████████| 4/4 [00:01<00:00,  3.01it/s, loss=0.657, train_acc=0.855, train_loss=0.495, val_acc=0.674, val_loss=1.450]\n",
      "Training : .storage/checkpoints/iid_resnet18_cifar10_clients_30_faulty_[0]_bsize_512_epochs_10_lr_0.001/client_18.ckpt\n"
     ]
    },
    {
     "name": "stderr",
     "output_type": "stream",
     "text": [
      "Using 16bit native Automatic Mixed Precision (AMP)\n",
      "GPU available: True (cuda), used: True\n",
      "TPU available: False, using: 0 TPU cores\n",
      "IPU available: False, using: 0 IPUs\n",
      "HPU available: False, using: 0 HPUs\n",
      "LOCAL_RANK: 0 - CUDA_VISIBLE_DEVICES: [0]\n"
     ]
    },
    {
     "name": "stdout",
     "output_type": "stream",
     "text": [
      "Train mod batch = 130, and drop_last = False\n",
      "Epoch 9: 100%|██████████| 4/4 [00:01<00:00,  3.09it/s, loss=0.696, train_acc=0.784, train_loss=0.720, val_acc=0.642, val_loss=1.900]"
     ]
    },
    {
     "name": "stderr",
     "output_type": "stream",
     "text": [
      "`Trainer.fit` stopped: `max_epochs=10` reached.\n"
     ]
    },
    {
     "name": "stdout",
     "output_type": "stream",
     "text": [
      "Epoch 00010: reducing learning rate of group 0 to 2.5000e-04.\n",
      "Epoch 9: 100%|██████████| 4/4 [00:01<00:00,  3.08it/s, loss=0.696, train_acc=0.784, train_loss=0.720, val_acc=0.642, val_loss=1.900]\n",
      "Training : .storage/checkpoints/iid_resnet18_cifar10_clients_30_faulty_[0]_bsize_512_epochs_10_lr_0.001/client_19.ckpt\n"
     ]
    },
    {
     "name": "stderr",
     "output_type": "stream",
     "text": [
      "Using 16bit native Automatic Mixed Precision (AMP)\n",
      "GPU available: True (cuda), used: True\n",
      "TPU available: False, using: 0 TPU cores\n",
      "IPU available: False, using: 0 IPUs\n",
      "HPU available: False, using: 0 HPUs\n",
      "LOCAL_RANK: 0 - CUDA_VISIBLE_DEVICES: [0]\n"
     ]
    },
    {
     "name": "stdout",
     "output_type": "stream",
     "text": [
      "Train mod batch = 130, and drop_last = False\n",
      "Epoch 9: 100%|██████████| 4/4 [00:01<00:00,  2.97it/s, loss=0.635, train_acc=0.820, train_loss=0.532, val_acc=0.661, val_loss=1.470]"
     ]
    },
    {
     "name": "stderr",
     "output_type": "stream",
     "text": [
      "`Trainer.fit` stopped: `max_epochs=10` reached.\n"
     ]
    },
    {
     "name": "stdout",
     "output_type": "stream",
     "text": [
      "Epoch 9: 100%|██████████| 4/4 [00:01<00:00,  2.96it/s, loss=0.635, train_acc=0.820, train_loss=0.532, val_acc=0.661, val_loss=1.470]\n",
      "Training : .storage/checkpoints/iid_resnet18_cifar10_clients_30_faulty_[0]_bsize_512_epochs_10_lr_0.001/client_20.ckpt\n"
     ]
    },
    {
     "name": "stderr",
     "output_type": "stream",
     "text": [
      "Using 16bit native Automatic Mixed Precision (AMP)\n",
      "GPU available: True (cuda), used: True\n",
      "TPU available: False, using: 0 TPU cores\n",
      "IPU available: False, using: 0 IPUs\n",
      "HPU available: False, using: 0 HPUs\n",
      "LOCAL_RANK: 0 - CUDA_VISIBLE_DEVICES: [0]\n"
     ]
    },
    {
     "name": "stdout",
     "output_type": "stream",
     "text": [
      "Train mod batch = 130, and drop_last = False\n",
      "Epoch 9: 100%|██████████| 4/4 [00:01<00:00,  3.05it/s, loss=0.657, train_acc=0.816, train_loss=0.669, val_acc=0.662, val_loss=1.420]"
     ]
    },
    {
     "name": "stderr",
     "output_type": "stream",
     "text": [
      "`Trainer.fit` stopped: `max_epochs=10` reached.\n"
     ]
    },
    {
     "name": "stdout",
     "output_type": "stream",
     "text": [
      "Epoch 9: 100%|██████████| 4/4 [00:01<00:00,  3.04it/s, loss=0.657, train_acc=0.816, train_loss=0.669, val_acc=0.662, val_loss=1.420]\n",
      "Training : .storage/checkpoints/iid_resnet18_cifar10_clients_30_faulty_[0]_bsize_512_epochs_10_lr_0.001/client_21.ckpt\n"
     ]
    },
    {
     "name": "stderr",
     "output_type": "stream",
     "text": [
      "Using 16bit native Automatic Mixed Precision (AMP)\n",
      "GPU available: True (cuda), used: True\n",
      "TPU available: False, using: 0 TPU cores\n",
      "IPU available: False, using: 0 IPUs\n",
      "HPU available: False, using: 0 HPUs\n",
      "LOCAL_RANK: 0 - CUDA_VISIBLE_DEVICES: [0]\n"
     ]
    },
    {
     "name": "stdout",
     "output_type": "stream",
     "text": [
      "Train mod batch = 130, and drop_last = False\n",
      "Epoch 9: 100%|██████████| 4/4 [00:01<00:00,  2.79it/s, loss=0.678, train_acc=0.841, train_loss=0.497, val_acc=0.659, val_loss=1.540]"
     ]
    },
    {
     "name": "stderr",
     "output_type": "stream",
     "text": [
      "`Trainer.fit` stopped: `max_epochs=10` reached.\n"
     ]
    },
    {
     "name": "stdout",
     "output_type": "stream",
     "text": [
      "Epoch 9: 100%|██████████| 4/4 [00:01<00:00,  2.78it/s, loss=0.678, train_acc=0.841, train_loss=0.497, val_acc=0.659, val_loss=1.540]\n",
      "Training : .storage/checkpoints/iid_resnet18_cifar10_clients_30_faulty_[0]_bsize_512_epochs_10_lr_0.001/client_22.ckpt\n"
     ]
    },
    {
     "name": "stderr",
     "output_type": "stream",
     "text": [
      "Using 16bit native Automatic Mixed Precision (AMP)\n",
      "GPU available: True (cuda), used: True\n",
      "TPU available: False, using: 0 TPU cores\n",
      "IPU available: False, using: 0 IPUs\n",
      "HPU available: False, using: 0 HPUs\n",
      "LOCAL_RANK: 0 - CUDA_VISIBLE_DEVICES: [0]\n"
     ]
    },
    {
     "name": "stdout",
     "output_type": "stream",
     "text": [
      "Train mod batch = 130, and drop_last = False\n",
      "Epoch 9: 100%|██████████| 4/4 [00:01<00:00,  3.25it/s, loss=0.684, train_acc=0.808, train_loss=0.533, val_acc=0.656, val_loss=1.460]"
     ]
    },
    {
     "name": "stderr",
     "output_type": "stream",
     "text": [
      "`Trainer.fit` stopped: `max_epochs=10` reached.\n"
     ]
    },
    {
     "name": "stdout",
     "output_type": "stream",
     "text": [
      "Epoch 9: 100%|██████████| 4/4 [00:01<00:00,  3.23it/s, loss=0.684, train_acc=0.808, train_loss=0.533, val_acc=0.656, val_loss=1.460]\n",
      "Training : .storage/checkpoints/iid_resnet18_cifar10_clients_30_faulty_[0]_bsize_512_epochs_10_lr_0.001/client_23.ckpt\n"
     ]
    },
    {
     "name": "stderr",
     "output_type": "stream",
     "text": [
      "Using 16bit native Automatic Mixed Precision (AMP)\n",
      "GPU available: True (cuda), used: True\n",
      "TPU available: False, using: 0 TPU cores\n",
      "IPU available: False, using: 0 IPUs\n",
      "HPU available: False, using: 0 HPUs\n",
      "LOCAL_RANK: 0 - CUDA_VISIBLE_DEVICES: [0]\n"
     ]
    },
    {
     "name": "stdout",
     "output_type": "stream",
     "text": [
      "Train mod batch = 130, and drop_last = False\n",
      "Epoch 6: 100%|██████████| 4/4 [00:01<00:00,  2.55it/s, loss=0.915, train_acc=0.774, train_loss=0.624, val_acc=0.598, val_loss=1.560]Epoch 00007: reducing learning rate of group 0 to 2.5000e-04.\n",
      "Epoch 9: 100%|██████████| 4/4 [00:01<00:00,  2.63it/s, loss=0.623, train_acc=0.811, train_loss=0.599, val_acc=0.692, val_loss=1.220]"
     ]
    },
    {
     "name": "stderr",
     "output_type": "stream",
     "text": [
      "`Trainer.fit` stopped: `max_epochs=10` reached.\n"
     ]
    },
    {
     "name": "stdout",
     "output_type": "stream",
     "text": [
      "Epoch 9: 100%|██████████| 4/4 [00:01<00:00,  2.62it/s, loss=0.623, train_acc=0.811, train_loss=0.599, val_acc=0.692, val_loss=1.220]\n",
      "Training : .storage/checkpoints/iid_resnet18_cifar10_clients_30_faulty_[0]_bsize_512_epochs_10_lr_0.001/client_24.ckpt\n"
     ]
    },
    {
     "name": "stderr",
     "output_type": "stream",
     "text": [
      "Using 16bit native Automatic Mixed Precision (AMP)\n",
      "GPU available: True (cuda), used: True\n",
      "TPU available: False, using: 0 TPU cores\n",
      "IPU available: False, using: 0 IPUs\n",
      "HPU available: False, using: 0 HPUs\n",
      "LOCAL_RANK: 0 - CUDA_VISIBLE_DEVICES: [0]\n"
     ]
    },
    {
     "name": "stdout",
     "output_type": "stream",
     "text": [
      "Train mod batch = 130, and drop_last = False\n",
      "Epoch 9: 100%|██████████| 4/4 [00:01<00:00,  2.93it/s, loss=0.635, train_acc=0.838, train_loss=0.496, val_acc=0.662, val_loss=1.720]"
     ]
    },
    {
     "name": "stderr",
     "output_type": "stream",
     "text": [
      "`Trainer.fit` stopped: `max_epochs=10` reached.\n"
     ]
    },
    {
     "name": "stdout",
     "output_type": "stream",
     "text": [
      "Epoch 9: 100%|██████████| 4/4 [00:01<00:00,  2.92it/s, loss=0.635, train_acc=0.838, train_loss=0.496, val_acc=0.662, val_loss=1.720]\n",
      "Training : .storage/checkpoints/iid_resnet18_cifar10_clients_30_faulty_[0]_bsize_512_epochs_10_lr_0.001/client_25.ckpt\n"
     ]
    },
    {
     "name": "stderr",
     "output_type": "stream",
     "text": [
      "Using 16bit native Automatic Mixed Precision (AMP)\n",
      "GPU available: True (cuda), used: True\n",
      "TPU available: False, using: 0 TPU cores\n",
      "IPU available: False, using: 0 IPUs\n",
      "HPU available: False, using: 0 HPUs\n",
      "LOCAL_RANK: 0 - CUDA_VISIBLE_DEVICES: [0]\n"
     ]
    },
    {
     "name": "stdout",
     "output_type": "stream",
     "text": [
      "Train mod batch = 130, and drop_last = False\n",
      "Epoch 6: 100%|██████████| 4/4 [00:01<00:00,  2.74it/s, loss=0.924, train_acc=0.783, train_loss=0.900, val_acc=0.584, val_loss=1.760]Epoch 00007: reducing learning rate of group 0 to 2.5000e-04.\n",
      "Epoch 9: 100%|██████████| 4/4 [00:01<00:00,  2.49it/s, loss=0.618, train_acc=0.843, train_loss=0.372, val_acc=0.677, val_loss=1.430]"
     ]
    },
    {
     "name": "stderr",
     "output_type": "stream",
     "text": [
      "`Trainer.fit` stopped: `max_epochs=10` reached.\n"
     ]
    },
    {
     "name": "stdout",
     "output_type": "stream",
     "text": [
      "Epoch 9: 100%|██████████| 4/4 [00:01<00:00,  2.48it/s, loss=0.618, train_acc=0.843, train_loss=0.372, val_acc=0.677, val_loss=1.430]\n",
      "Training : .storage/checkpoints/iid_resnet18_cifar10_clients_30_faulty_[0]_bsize_512_epochs_10_lr_0.001/client_26.ckpt\n"
     ]
    },
    {
     "name": "stderr",
     "output_type": "stream",
     "text": [
      "Using 16bit native Automatic Mixed Precision (AMP)\n",
      "GPU available: True (cuda), used: True\n",
      "TPU available: False, using: 0 TPU cores\n",
      "IPU available: False, using: 0 IPUs\n",
      "HPU available: False, using: 0 HPUs\n",
      "LOCAL_RANK: 0 - CUDA_VISIBLE_DEVICES: [0]\n"
     ]
    },
    {
     "name": "stdout",
     "output_type": "stream",
     "text": [
      "Train mod batch = 130, and drop_last = False\n",
      "Epoch 9: 100%|██████████| 4/4 [00:01<00:00,  3.24it/s, loss=0.636, train_acc=0.810, train_loss=0.559, val_acc=0.683, val_loss=1.540]"
     ]
    },
    {
     "name": "stderr",
     "output_type": "stream",
     "text": [
      "`Trainer.fit` stopped: `max_epochs=10` reached.\n"
     ]
    },
    {
     "name": "stdout",
     "output_type": "stream",
     "text": [
      "Epoch 9: 100%|██████████| 4/4 [00:01<00:00,  3.23it/s, loss=0.636, train_acc=0.810, train_loss=0.559, val_acc=0.683, val_loss=1.540]\n",
      "Training : .storage/checkpoints/iid_resnet18_cifar10_clients_30_faulty_[0]_bsize_512_epochs_10_lr_0.001/client_27.ckpt\n"
     ]
    },
    {
     "name": "stderr",
     "output_type": "stream",
     "text": [
      "Using 16bit native Automatic Mixed Precision (AMP)\n",
      "GPU available: True (cuda), used: True\n",
      "TPU available: False, using: 0 TPU cores\n",
      "IPU available: False, using: 0 IPUs\n",
      "HPU available: False, using: 0 HPUs\n",
      "LOCAL_RANK: 0 - CUDA_VISIBLE_DEVICES: [0]\n"
     ]
    },
    {
     "name": "stdout",
     "output_type": "stream",
     "text": [
      "Train mod batch = 130, and drop_last = False\n",
      "Epoch 9: 100%|██████████| 4/4 [00:01<00:00,  2.93it/s, loss=0.681, train_acc=0.737, train_loss=0.631, val_acc=0.686, val_loss=1.320]"
     ]
    },
    {
     "name": "stderr",
     "output_type": "stream",
     "text": [
      "`Trainer.fit` stopped: `max_epochs=10` reached.\n"
     ]
    },
    {
     "name": "stdout",
     "output_type": "stream",
     "text": [
      "Epoch 9: 100%|██████████| 4/4 [00:01<00:00,  2.92it/s, loss=0.681, train_acc=0.737, train_loss=0.631, val_acc=0.686, val_loss=1.320]\n",
      "Training : .storage/checkpoints/iid_resnet18_cifar10_clients_30_faulty_[0]_bsize_512_epochs_10_lr_0.001/client_28.ckpt\n"
     ]
    },
    {
     "name": "stderr",
     "output_type": "stream",
     "text": [
      "Using 16bit native Automatic Mixed Precision (AMP)\n",
      "GPU available: True (cuda), used: True\n",
      "TPU available: False, using: 0 TPU cores\n",
      "IPU available: False, using: 0 IPUs\n",
      "HPU available: False, using: 0 HPUs\n",
      "LOCAL_RANK: 0 - CUDA_VISIBLE_DEVICES: [0]\n"
     ]
    },
    {
     "name": "stdout",
     "output_type": "stream",
     "text": [
      "Train mod batch = 130, and drop_last = False\n",
      "Epoch 9: 100%|██████████| 4/4 [00:01<00:00,  2.70it/s, loss=0.624, train_acc=0.827, train_loss=0.503, val_acc=0.677, val_loss=1.520]"
     ]
    },
    {
     "name": "stderr",
     "output_type": "stream",
     "text": [
      "`Trainer.fit` stopped: `max_epochs=10` reached.\n"
     ]
    },
    {
     "name": "stdout",
     "output_type": "stream",
     "text": [
      "Epoch 00010: reducing learning rate of group 0 to 2.5000e-04.\n",
      "Epoch 9: 100%|██████████| 4/4 [00:01<00:00,  2.69it/s, loss=0.624, train_acc=0.827, train_loss=0.503, val_acc=0.677, val_loss=1.520]\n",
      "Training : .storage/checkpoints/iid_resnet18_cifar10_clients_30_faulty_[0]_bsize_512_epochs_10_lr_0.001/client_29.ckpt\n"
     ]
    },
    {
     "name": "stderr",
     "output_type": "stream",
     "text": [
      "Using 16bit native Automatic Mixed Precision (AMP)\n",
      "GPU available: True (cuda), used: True\n",
      "TPU available: False, using: 0 TPU cores\n",
      "IPU available: False, using: 0 IPUs\n",
      "HPU available: False, using: 0 HPUs\n",
      "LOCAL_RANK: 0 - CUDA_VISIBLE_DEVICES: [0]\n"
     ]
    },
    {
     "name": "stdout",
     "output_type": "stream",
     "text": [
      "Train mod batch = 130, and drop_last = False\n",
      "Epoch 6: 100%|██████████| 4/4 [00:01<00:00,  2.58it/s, loss=0.988, train_acc=0.639, train_loss=0.877, val_acc=0.561, val_loss=1.830]Epoch 00007: reducing learning rate of group 0 to 2.5000e-04.\n",
      "Epoch 9: 100%|██████████| 4/4 [00:01<00:00,  2.45it/s, loss=0.678, train_acc=0.784, train_loss=0.569, val_acc=0.663, val_loss=1.330]"
     ]
    },
    {
     "name": "stderr",
     "output_type": "stream",
     "text": [
      "`Trainer.fit` stopped: `max_epochs=10` reached.\n"
     ]
    },
    {
     "name": "stdout",
     "output_type": "stream",
     "text": [
      "Epoch 9: 100%|██████████| 4/4 [00:01<00:00,  2.44it/s, loss=0.678, train_acc=0.784, train_loss=0.569, val_acc=0.663, val_loss=1.330]\n",
      "Total clients: 30\n",
      "++Training is done: iid_resnet18_cifar10_clients_30_faulty_[0]_bsize_512_epochs_10_lr_0.001\n",
      ">  Running FaultyClientLocalization ..\n",
      "Same prediction threshold 5\n",
      "+++ Faulty Clients {0}\n",
      "+++ Faulty Clients {0}\n",
      "+++ Faulty Clients {0}\n",
      "+++ Faulty Clients {0}\n",
      "+++ Faulty Clients {0}\n",
      "+++ Faulty Clients {0}\n",
      "+++ Faulty Clients {0}\n",
      "+++ Faulty Clients {0}\n",
      "+++ Faulty Clients {0}\n",
      "+++ Faulty Clients {0}\n",
      "#Fault Localization Accuracy: 100.0, Distribution: iid,  Faulty clients: 1, Total Clients: 30, Architecture: resnet18, Dataset: cifar10\n"
     ]
    }
   ],
   "source": [
    "args.model = \"resnet18\" # [resnet18, resnet34, resnet50, densenet121, vgg16]\n",
    "args.dataset = \"cifar10\" # ['cifar10', 'femnist']\n",
    "args.sampling = \"iid\" # [iid, \"niid\"] \n",
    "args.clients = 30 # keep under 30 clients and use Resnet18, Resnet34, or Densenet to evaluate on Colab \n",
    "\n",
    "# FL training\n",
    "c2ms, exp2info = trainFLMain(args)\n",
    "client2models = {k: v.model.eval() for k, v in c2ms.items()}\n",
    "\n",
    "\n",
    "# Fault localazation\n",
    "potential_faulty_clients, _, _ = runFaultyClientLocalization(\n",
    "    client2models=client2models, exp2info=exp2info, num_bugs=len(exp2info['faulty_clients_ids']))\n",
    "fault_acc = evaluateFaultLocalization(\n",
    "    potential_faulty_clients, exp2info['faulty_clients_ids'])\n",
    "# print(f\"Fault Localization Acc: {fault_acc}\")\n",
    "\n",
    "print(f\"#Fault Localization Accuracy: {fault_acc}, Distribution: {args.sampling},  Faulty clients: {len(args.faulty_clients_ids.split(','))}, Total Clients: {args.clients}, Architecture: {args.model}, Dataset: {args.dataset}\")"
   ]
  },
  {
   "attachments": {},
   "cell_type": "markdown",
   "metadata": {},
   "source": [
    " ### Table 1: densenet121, cifar10, niid distribution and 10 clients"
   ]
  },
  {
   "cell_type": "code",
   "execution_count": 4,
   "metadata": {},
   "outputs": [
    {
     "name": "stdout",
     "output_type": "stream",
     "text": [
      "\n",
      "\n",
      "  ***Simulating FL setup niid_densenet121_cifar10_clients_10_faulty_[0]_bsize_512_epochs_10_lr_0.001 ***\n",
      "Files already downloaded and verified\n",
      "Files already downloaded and verified\n",
      "Spliting Datasets 50000 into parts:[6237, 5701, 4138, 4019, 5802, 3981, 4709, 5651, 3541, 6221]\n",
      "input shape, torch.Size([1, 3, 32, 32])\n",
      "Training : .storage/checkpoints/niid_densenet121_cifar10_clients_10_faulty_[0]_bsize_512_epochs_10_lr_0.001/faulty_client_0_noise_rate_1_classes.ckpt\n"
     ]
    },
    {
     "name": "stderr",
     "output_type": "stream",
     "text": [
      "Using 16bit native Automatic Mixed Precision (AMP)\n",
      "GPU available: True (cuda), used: True\n",
      "TPU available: False, using: 0 TPU cores\n",
      "IPU available: False, using: 0 IPUs\n",
      "HPU available: False, using: 0 HPUs\n",
      "LOCAL_RANK: 0 - CUDA_VISIBLE_DEVICES: [0]\n"
     ]
    },
    {
     "name": "stdout",
     "output_type": "stream",
     "text": [
      "Train mod batch = 93, and drop_last = False\n",
      "Epoch 9: 100%|██████████| 13/13 [00:04<00:00,  2.65it/s, loss=2.31, train_acc=0.151, train_loss=2.280, val_acc=0.101, val_loss=2.840]  "
     ]
    },
    {
     "name": "stderr",
     "output_type": "stream",
     "text": [
      "`Trainer.fit` stopped: `max_epochs=10` reached.\n"
     ]
    },
    {
     "name": "stdout",
     "output_type": "stream",
     "text": [
      "Epoch 00010: reducing learning rate of group 0 to 2.5000e-04.\n",
      "Epoch 9: 100%|██████████| 13/13 [00:04<00:00,  2.64it/s, loss=2.31, train_acc=0.151, train_loss=2.280, val_acc=0.101, val_loss=2.840]\n",
      "Training : .storage/checkpoints/niid_densenet121_cifar10_clients_10_faulty_[0]_bsize_512_epochs_10_lr_0.001/client_1.ckpt\n"
     ]
    },
    {
     "name": "stderr",
     "output_type": "stream",
     "text": [
      "Using 16bit native Automatic Mixed Precision (AMP)\n",
      "GPU available: True (cuda), used: True\n",
      "TPU available: False, using: 0 TPU cores\n",
      "IPU available: False, using: 0 IPUs\n",
      "HPU available: False, using: 0 HPUs\n",
      "LOCAL_RANK: 0 - CUDA_VISIBLE_DEVICES: [0]\n"
     ]
    },
    {
     "name": "stdout",
     "output_type": "stream",
     "text": [
      "Train mod batch = 69, and drop_last = False\n",
      "Epoch 9: 100%|██████████| 12/12 [00:05<00:00,  2.24it/s, loss=0.331, train_acc=0.917, train_loss=0.363, val_acc=0.840, val_loss=0.965]"
     ]
    },
    {
     "name": "stderr",
     "output_type": "stream",
     "text": [
      "`Trainer.fit` stopped: `max_epochs=10` reached.\n"
     ]
    },
    {
     "name": "stdout",
     "output_type": "stream",
     "text": [
      "Epoch 00010: reducing learning rate of group 0 to 2.5000e-04.\n",
      "Epoch 9: 100%|██████████| 12/12 [00:05<00:00,  2.24it/s, loss=0.331, train_acc=0.917, train_loss=0.363, val_acc=0.840, val_loss=0.965]\n",
      "Training : .storage/checkpoints/niid_densenet121_cifar10_clients_10_faulty_[0]_bsize_512_epochs_10_lr_0.001/client_2.ckpt\n"
     ]
    },
    {
     "name": "stderr",
     "output_type": "stream",
     "text": [
      "Using 16bit native Automatic Mixed Precision (AMP)\n",
      "GPU available: True (cuda), used: True\n",
      "TPU available: False, using: 0 TPU cores\n",
      "IPU available: False, using: 0 IPUs\n",
      "HPU available: False, using: 0 HPUs\n",
      "LOCAL_RANK: 0 - CUDA_VISIBLE_DEVICES: [0]\n"
     ]
    },
    {
     "name": "stdout",
     "output_type": "stream",
     "text": [
      "Train mod batch = 42, and drop_last = False\n",
      "Epoch 9: 100%|██████████| 9/9 [00:04<00:00,  1.89it/s, loss=0.538, train_acc=0.765, train_loss=0.527, val_acc=0.756, val_loss=1.040]  "
     ]
    },
    {
     "name": "stderr",
     "output_type": "stream",
     "text": [
      "`Trainer.fit` stopped: `max_epochs=10` reached.\n"
     ]
    },
    {
     "name": "stdout",
     "output_type": "stream",
     "text": [
      "Epoch 00010: reducing learning rate of group 0 to 2.5000e-04.\n",
      "Epoch 9: 100%|██████████| 9/9 [00:04<00:00,  1.89it/s, loss=0.538, train_acc=0.765, train_loss=0.527, val_acc=0.756, val_loss=1.040]\n",
      "Training : .storage/checkpoints/niid_densenet121_cifar10_clients_10_faulty_[0]_bsize_512_epochs_10_lr_0.001/client_3.ckpt\n"
     ]
    },
    {
     "name": "stderr",
     "output_type": "stream",
     "text": [
      "Using 16bit native Automatic Mixed Precision (AMP)\n",
      "GPU available: True (cuda), used: True\n",
      "TPU available: False, using: 0 TPU cores\n",
      "IPU available: False, using: 0 IPUs\n",
      "HPU available: False, using: 0 HPUs\n",
      "LOCAL_RANK: 0 - CUDA_VISIBLE_DEVICES: [0]\n"
     ]
    },
    {
     "name": "stdout",
     "output_type": "stream",
     "text": [
      "Train mod batch = 435, and drop_last = False\n",
      "Epoch 9: 100%|██████████| 8/8 [00:05<00:00,  1.49it/s, loss=0.211, train_acc=0.938, train_loss=0.167, val_acc=0.848, val_loss=1.030]  "
     ]
    },
    {
     "name": "stderr",
     "output_type": "stream",
     "text": [
      "`Trainer.fit` stopped: `max_epochs=10` reached.\n"
     ]
    },
    {
     "name": "stdout",
     "output_type": "stream",
     "text": [
      "Epoch 00010: reducing learning rate of group 0 to 2.5000e-04.\n",
      "Epoch 9: 100%|██████████| 8/8 [00:05<00:00,  1.49it/s, loss=0.211, train_acc=0.938, train_loss=0.167, val_acc=0.848, val_loss=1.030]\n",
      "Training : .storage/checkpoints/niid_densenet121_cifar10_clients_10_faulty_[0]_bsize_512_epochs_10_lr_0.001/client_4.ckpt\n"
     ]
    },
    {
     "name": "stderr",
     "output_type": "stream",
     "text": [
      "Using 16bit native Automatic Mixed Precision (AMP)\n",
      "GPU available: True (cuda), used: True\n",
      "TPU available: False, using: 0 TPU cores\n",
      "IPU available: False, using: 0 IPUs\n",
      "HPU available: False, using: 0 HPUs\n"
     ]
    },
    {
     "name": "stdout",
     "output_type": "stream",
     "text": [
      "Train mod batch = 170, and drop_last = False\n"
     ]
    },
    {
     "name": "stderr",
     "output_type": "stream",
     "text": [
      "LOCAL_RANK: 0 - CUDA_VISIBLE_DEVICES: [0]\n"
     ]
    },
    {
     "name": "stdout",
     "output_type": "stream",
     "text": [
      "Epoch 9: 100%|██████████| 12/12 [00:07<00:00,  1.68it/s, loss=0.286, train_acc=0.889, train_loss=0.279, val_acc=0.854, val_loss=0.921]"
     ]
    },
    {
     "name": "stderr",
     "output_type": "stream",
     "text": [
      "`Trainer.fit` stopped: `max_epochs=10` reached.\n"
     ]
    },
    {
     "name": "stdout",
     "output_type": "stream",
     "text": [
      "Epoch 00010: reducing learning rate of group 0 to 2.5000e-04.\n",
      "Epoch 9: 100%|██████████| 12/12 [00:07<00:00,  1.67it/s, loss=0.286, train_acc=0.889, train_loss=0.279, val_acc=0.854, val_loss=0.921]\n",
      "Training : .storage/checkpoints/niid_densenet121_cifar10_clients_10_faulty_[0]_bsize_512_epochs_10_lr_0.001/client_5.ckpt\n"
     ]
    },
    {
     "name": "stderr",
     "output_type": "stream",
     "text": [
      "Using 16bit native Automatic Mixed Precision (AMP)\n",
      "GPU available: True (cuda), used: True\n",
      "TPU available: False, using: 0 TPU cores\n",
      "IPU available: False, using: 0 IPUs\n",
      "HPU available: False, using: 0 HPUs\n",
      "LOCAL_RANK: 0 - CUDA_VISIBLE_DEVICES: [0]\n"
     ]
    },
    {
     "name": "stdout",
     "output_type": "stream",
     "text": [
      "Train mod batch = 397, and drop_last = False\n",
      "Epoch 9: 100%|██████████| 8/8 [00:04<00:00,  1.67it/s, loss=0.224, train_acc=0.933, train_loss=0.232, val_acc=0.849, val_loss=0.947]  "
     ]
    },
    {
     "name": "stderr",
     "output_type": "stream",
     "text": [
      "`Trainer.fit` stopped: `max_epochs=10` reached.\n"
     ]
    },
    {
     "name": "stdout",
     "output_type": "stream",
     "text": [
      "Epoch 00010: reducing learning rate of group 0 to 2.5000e-04.\n",
      "Epoch 9: 100%|██████████| 8/8 [00:04<00:00,  1.66it/s, loss=0.224, train_acc=0.933, train_loss=0.232, val_acc=0.849, val_loss=0.947]\n",
      "Training : .storage/checkpoints/niid_densenet121_cifar10_clients_10_faulty_[0]_bsize_512_epochs_10_lr_0.001/client_6.ckpt\n"
     ]
    },
    {
     "name": "stderr",
     "output_type": "stream",
     "text": [
      "Using 16bit native Automatic Mixed Precision (AMP)\n",
      "GPU available: True (cuda), used: True\n",
      "TPU available: False, using: 0 TPU cores\n",
      "IPU available: False, using: 0 IPUs\n",
      "HPU available: False, using: 0 HPUs\n"
     ]
    },
    {
     "name": "stdout",
     "output_type": "stream",
     "text": [
      "Train mod batch = 101, and drop_last = False\n"
     ]
    },
    {
     "name": "stderr",
     "output_type": "stream",
     "text": [
      "LOCAL_RANK: 0 - CUDA_VISIBLE_DEVICES: [0]\n"
     ]
    },
    {
     "name": "stdout",
     "output_type": "stream",
     "text": [
      "Epoch 9: 100%|██████████| 10/10 [00:06<00:00,  1.62it/s, loss=0.313, train_acc=0.911, train_loss=0.342, val_acc=0.826, val_loss=1.050]"
     ]
    },
    {
     "name": "stderr",
     "output_type": "stream",
     "text": [
      "`Trainer.fit` stopped: `max_epochs=10` reached.\n"
     ]
    },
    {
     "name": "stdout",
     "output_type": "stream",
     "text": [
      "Epoch 00010: reducing learning rate of group 0 to 2.5000e-04.\n",
      "Epoch 9: 100%|██████████| 10/10 [00:06<00:00,  1.62it/s, loss=0.313, train_acc=0.911, train_loss=0.342, val_acc=0.826, val_loss=1.050]\n",
      "Training : .storage/checkpoints/niid_densenet121_cifar10_clients_10_faulty_[0]_bsize_512_epochs_10_lr_0.001/client_7.ckpt\n"
     ]
    },
    {
     "name": "stderr",
     "output_type": "stream",
     "text": [
      "Using 16bit native Automatic Mixed Precision (AMP)\n",
      "GPU available: True (cuda), used: True\n",
      "TPU available: False, using: 0 TPU cores\n",
      "IPU available: False, using: 0 IPUs\n",
      "HPU available: False, using: 0 HPUs\n",
      "LOCAL_RANK: 0 - CUDA_VISIBLE_DEVICES: [0]\n"
     ]
    },
    {
     "name": "stdout",
     "output_type": "stream",
     "text": [
      "Train mod batch = 19, and drop_last = False\n",
      "Epoch 9: 100%|██████████| 12/12 [00:06<00:00,  1.82it/s, loss=0.758, train_acc=0.558, train_loss=1.650, val_acc=0.724, val_loss=0.998]"
     ]
    },
    {
     "name": "stderr",
     "output_type": "stream",
     "text": [
      "`Trainer.fit` stopped: `max_epochs=10` reached.\n"
     ]
    },
    {
     "name": "stdout",
     "output_type": "stream",
     "text": [
      "Epoch 9: 100%|██████████| 12/12 [00:06<00:00,  1.82it/s, loss=0.758, train_acc=0.558, train_loss=1.650, val_acc=0.724, val_loss=0.998]\n",
      "Training : .storage/checkpoints/niid_densenet121_cifar10_clients_10_faulty_[0]_bsize_512_epochs_10_lr_0.001/client_8.ckpt\n"
     ]
    },
    {
     "name": "stderr",
     "output_type": "stream",
     "text": [
      "Using 16bit native Automatic Mixed Precision (AMP)\n",
      "GPU available: True (cuda), used: True\n",
      "TPU available: False, using: 0 TPU cores\n",
      "IPU available: False, using: 0 IPUs\n",
      "HPU available: False, using: 0 HPUs\n",
      "LOCAL_RANK: 0 - CUDA_VISIBLE_DEVICES: [0]\n"
     ]
    },
    {
     "name": "stdout",
     "output_type": "stream",
     "text": [
      "Train mod batch = 469, and drop_last = False\n",
      "Epoch 9: 100%|██████████| 7/7 [00:03<00:00,  1.96it/s, loss=0.206, train_acc=0.928, train_loss=0.201, val_acc=0.841, val_loss=1.020]  "
     ]
    },
    {
     "name": "stderr",
     "output_type": "stream",
     "text": [
      "`Trainer.fit` stopped: `max_epochs=10` reached.\n"
     ]
    },
    {
     "name": "stdout",
     "output_type": "stream",
     "text": [
      "Epoch 00010: reducing learning rate of group 0 to 2.5000e-04.\n",
      "Epoch 9: 100%|██████████| 7/7 [00:03<00:00,  1.95it/s, loss=0.206, train_acc=0.928, train_loss=0.201, val_acc=0.841, val_loss=1.020]\n",
      "Training : .storage/checkpoints/niid_densenet121_cifar10_clients_10_faulty_[0]_bsize_512_epochs_10_lr_0.001/client_9.ckpt\n"
     ]
    },
    {
     "name": "stderr",
     "output_type": "stream",
     "text": [
      "Using 16bit native Automatic Mixed Precision (AMP)\n",
      "GPU available: True (cuda), used: True\n",
      "TPU available: False, using: 0 TPU cores\n",
      "IPU available: False, using: 0 IPUs\n",
      "HPU available: False, using: 0 HPUs\n"
     ]
    },
    {
     "name": "stdout",
     "output_type": "stream",
     "text": [
      "Train mod batch = 77, and drop_last = False\n"
     ]
    },
    {
     "name": "stderr",
     "output_type": "stream",
     "text": [
      "LOCAL_RANK: 0 - CUDA_VISIBLE_DEVICES: [0]\n"
     ]
    },
    {
     "name": "stdout",
     "output_type": "stream",
     "text": [
      "Epoch 9: 100%|██████████| 13/13 [00:06<00:00,  1.93it/s, loss=0.322, train_acc=0.908, train_loss=0.303, val_acc=0.848, val_loss=0.857]"
     ]
    },
    {
     "name": "stderr",
     "output_type": "stream",
     "text": [
      "`Trainer.fit` stopped: `max_epochs=10` reached.\n"
     ]
    },
    {
     "name": "stdout",
     "output_type": "stream",
     "text": [
      "Epoch 9: 100%|██████████| 13/13 [00:06<00:00,  1.93it/s, loss=0.322, train_acc=0.908, train_loss=0.303, val_acc=0.848, val_loss=0.857]\n",
      "Total clients: 10\n",
      "++Training is done: niid_densenet121_cifar10_clients_10_faulty_[0]_bsize_512_epochs_10_lr_0.001\n",
      ">  Running FaultyClientLocalization ..\n",
      "Same prediction threshold 5\n",
      "+++ Faulty Clients {0}\n",
      "+++ Faulty Clients {0}\n",
      "+++ Faulty Clients {0}\n",
      "+++ Faulty Clients {0}\n",
      "+++ Faulty Clients {0}\n",
      "+++ Faulty Clients {0}\n",
      "+++ Faulty Clients {0}\n",
      "+++ Faulty Clients {0}\n",
      "+++ Faulty Clients {0}\n",
      "+++ Faulty Clients {0}\n",
      "#Fault Localization Accuracy: 100.0, Distribution: niid,  Faulty clients: 1, Total Clients: 10, Architecture: densenet121, Dataset: cifar10\n"
     ]
    }
   ],
   "source": [
    "args.model = \"densenet121\" # [resnet18, resnet34, resnet50, densenet121, vgg16]\n",
    "args.dataset = \"cifar10\" # ['cifar10', 'femnist']\n",
    "args.sampling = \"niid\" # [iid, \"niid\"] \n",
    "args.clients = 10\n",
    "\n",
    "\n",
    "# FL training\n",
    "c2ms, exp2info = trainFLMain(args)\n",
    "client2models = {k: v.model.eval() for k, v in c2ms.items()}\n",
    "\n",
    "\n",
    "\n",
    "# Fault localazation\n",
    "potential_faulty_clients, _, _ = runFaultyClientLocalization(\n",
    "    client2models=client2models, exp2info=exp2info, num_bugs=len(exp2info['faulty_clients_ids']))\n",
    "fault_acc = evaluateFaultLocalization(\n",
    "    potential_faulty_clients, exp2info['faulty_clients_ids'])\n",
    "# print(f\"Fault Localization Acc: {fault_acc}\")\n",
    "\n",
    "print(f\"#Fault Localization Accuracy: {fault_acc}, Distribution: {args.sampling},  Faulty clients: {len(args.faulty_clients_ids.split(','))}, Total Clients: {args.clients}, Architecture: {args.model}, Dataset: {args.dataset}\")"
   ]
  },
  {
   "attachments": {},
   "cell_type": "markdown",
   "metadata": {},
   "source": [
    "### Table 2: Five Fautly Clients, densenet121, cifar10, and 30 clients "
   ]
  },
  {
   "cell_type": "code",
   "execution_count": 5,
   "metadata": {},
   "outputs": [
    {
     "name": "stdout",
     "output_type": "stream",
     "text": [
      "\n",
      "\n",
      "  ***Simulating FL setup iid_densenet121_cifar10_clients_30_faulty_[0, 1, 3, 4, 7]_bsize_512_epochs_10_lr_0.001 ***\n",
      "Files already downloaded and verified\n",
      "Files already downloaded and verified\n",
      "Spliting Datasets 50000 into parts:[1686, 1666, 1666, 1666, 1666, 1666, 1666, 1666, 1666, 1666, 1666, 1666, 1666, 1666, 1666, 1666, 1666, 1666, 1666, 1666, 1666, 1666, 1666, 1666, 1666, 1666, 1666, 1666, 1666, 1666]\n",
      "input shape, torch.Size([1, 3, 32, 32])\n",
      "Training : .storage/checkpoints/iid_densenet121_cifar10_clients_30_faulty_[0, 1, 3, 4, 7]_bsize_512_epochs_10_lr_0.001/faulty_client_0_noise_rate_1_classes.ckpt\n"
     ]
    },
    {
     "name": "stderr",
     "output_type": "stream",
     "text": [
      "Using 16bit native Automatic Mixed Precision (AMP)\n",
      "GPU available: True (cuda), used: True\n",
      "TPU available: False, using: 0 TPU cores\n",
      "IPU available: False, using: 0 IPUs\n",
      "HPU available: False, using: 0 HPUs\n"
     ]
    },
    {
     "name": "stdout",
     "output_type": "stream",
     "text": [
      "Train mod batch = 150, and drop_last = False\n"
     ]
    },
    {
     "name": "stderr",
     "output_type": "stream",
     "text": [
      "LOCAL_RANK: 0 - CUDA_VISIBLE_DEVICES: [0]\n"
     ]
    },
    {
     "name": "stdout",
     "output_type": "stream",
     "text": [
      "Epoch 6: 100%|██████████| 4/4 [00:02<00:00,  1.39it/s, loss=2.35, train_acc=0.105, train_loss=2.300, val_acc=0.0883, val_loss=3.840] Epoch 00007: reducing learning rate of group 0 to 2.5000e-04.\n",
      "Epoch 9: 100%|██████████| 4/4 [00:02<00:00,  1.52it/s, loss=2.33, train_acc=0.125, train_loss=2.310, val_acc=0.0907, val_loss=2.500] "
     ]
    },
    {
     "name": "stderr",
     "output_type": "stream",
     "text": [
      "`Trainer.fit` stopped: `max_epochs=10` reached.\n"
     ]
    },
    {
     "name": "stdout",
     "output_type": "stream",
     "text": [
      "Epoch 9: 100%|██████████| 4/4 [00:02<00:00,  1.52it/s, loss=2.33, train_acc=0.125, train_loss=2.310, val_acc=0.0907, val_loss=2.500]\n",
      "Training : .storage/checkpoints/iid_densenet121_cifar10_clients_30_faulty_[0, 1, 3, 4, 7]_bsize_512_epochs_10_lr_0.001/faulty_client_1_noise_rate_1_classes.ckpt\n"
     ]
    },
    {
     "name": "stderr",
     "output_type": "stream",
     "text": [
      "Using 16bit native Automatic Mixed Precision (AMP)\n",
      "GPU available: True (cuda), used: True\n",
      "TPU available: False, using: 0 TPU cores\n",
      "IPU available: False, using: 0 IPUs\n",
      "HPU available: False, using: 0 HPUs\n",
      "LOCAL_RANK: 0 - CUDA_VISIBLE_DEVICES: [0]\n"
     ]
    },
    {
     "name": "stdout",
     "output_type": "stream",
     "text": [
      "Train mod batch = 130, and drop_last = False\n",
      "Epoch 9: 100%|██████████| 4/4 [00:02<00:00,  1.48it/s, loss=2.33, train_acc=0.106, train_loss=2.320, val_acc=0.0767, val_loss=2.380]"
     ]
    },
    {
     "name": "stderr",
     "output_type": "stream",
     "text": [
      "`Trainer.fit` stopped: `max_epochs=10` reached.\n"
     ]
    },
    {
     "name": "stdout",
     "output_type": "stream",
     "text": [
      "Epoch 9: 100%|██████████| 4/4 [00:02<00:00,  1.48it/s, loss=2.33, train_acc=0.106, train_loss=2.320, val_acc=0.0767, val_loss=2.380]\n",
      "Training : .storage/checkpoints/iid_densenet121_cifar10_clients_30_faulty_[0, 1, 3, 4, 7]_bsize_512_epochs_10_lr_0.001/faulty_client_3_noise_rate_1_classes.ckpt\n"
     ]
    },
    {
     "name": "stderr",
     "output_type": "stream",
     "text": [
      "Using 16bit native Automatic Mixed Precision (AMP)\n",
      "GPU available: True (cuda), used: True\n",
      "TPU available: False, using: 0 TPU cores\n",
      "IPU available: False, using: 0 IPUs\n",
      "HPU available: False, using: 0 HPUs\n"
     ]
    },
    {
     "name": "stdout",
     "output_type": "stream",
     "text": [
      "Train mod batch = 130, and drop_last = False\n"
     ]
    },
    {
     "name": "stderr",
     "output_type": "stream",
     "text": [
      "LOCAL_RANK: 0 - CUDA_VISIBLE_DEVICES: [0]\n"
     ]
    },
    {
     "name": "stdout",
     "output_type": "stream",
     "text": [
      "Epoch 9: 100%|██████████| 4/4 [00:02<00:00,  1.48it/s, loss=2.33, train_acc=0.0916, train_loss=2.340, val_acc=0.0748, val_loss=2.400]"
     ]
    },
    {
     "name": "stderr",
     "output_type": "stream",
     "text": [
      "`Trainer.fit` stopped: `max_epochs=10` reached.\n"
     ]
    },
    {
     "name": "stdout",
     "output_type": "stream",
     "text": [
      "Epoch 00010: reducing learning rate of group 0 to 2.5000e-04.\n",
      "Epoch 9: 100%|██████████| 4/4 [00:02<00:00,  1.48it/s, loss=2.33, train_acc=0.0916, train_loss=2.340, val_acc=0.0748, val_loss=2.400]\n",
      "Training : .storage/checkpoints/iid_densenet121_cifar10_clients_30_faulty_[0, 1, 3, 4, 7]_bsize_512_epochs_10_lr_0.001/faulty_client_4_noise_rate_1_classes.ckpt\n"
     ]
    },
    {
     "name": "stderr",
     "output_type": "stream",
     "text": [
      "Using 16bit native Automatic Mixed Precision (AMP)\n",
      "GPU available: True (cuda), used: True\n",
      "TPU available: False, using: 0 TPU cores\n",
      "IPU available: False, using: 0 IPUs\n",
      "HPU available: False, using: 0 HPUs\n",
      "LOCAL_RANK: 0 - CUDA_VISIBLE_DEVICES: [0]\n"
     ]
    },
    {
     "name": "stdout",
     "output_type": "stream",
     "text": [
      "Train mod batch = 130, and drop_last = False\n",
      "Epoch 6: 100%|██████████| 4/4 [00:03<00:00,  1.10it/s, loss=2.35, train_acc=0.0867, train_loss=2.320, val_acc=0.0989, val_loss=2.660]Epoch 00007: reducing learning rate of group 0 to 2.5000e-04.\n",
      "Epoch 9: 100%|██████████| 4/4 [00:03<00:00,  1.25it/s, loss=2.32, train_acc=0.126, train_loss=2.290, val_acc=0.0912, val_loss=2.340] "
     ]
    },
    {
     "name": "stderr",
     "output_type": "stream",
     "text": [
      "`Trainer.fit` stopped: `max_epochs=10` reached.\n"
     ]
    },
    {
     "name": "stdout",
     "output_type": "stream",
     "text": [
      "Epoch 9: 100%|██████████| 4/4 [00:03<00:00,  1.24it/s, loss=2.32, train_acc=0.126, train_loss=2.290, val_acc=0.0912, val_loss=2.340]\n",
      "Training : .storage/checkpoints/iid_densenet121_cifar10_clients_30_faulty_[0, 1, 3, 4, 7]_bsize_512_epochs_10_lr_0.001/faulty_client_7_noise_rate_1_classes.ckpt\n"
     ]
    },
    {
     "name": "stderr",
     "output_type": "stream",
     "text": [
      "Using 16bit native Automatic Mixed Precision (AMP)\n",
      "GPU available: True (cuda), used: True\n",
      "TPU available: False, using: 0 TPU cores\n",
      "IPU available: False, using: 0 IPUs\n",
      "HPU available: False, using: 0 HPUs\n",
      "LOCAL_RANK: 0 - CUDA_VISIBLE_DEVICES: [0]\n"
     ]
    },
    {
     "name": "stdout",
     "output_type": "stream",
     "text": [
      "Train mod batch = 130, and drop_last = False\n",
      "Epoch 6: 100%|██████████| 4/4 [00:03<00:00,  1.09it/s, loss=2.35, train_acc=0.112, train_loss=2.330, val_acc=0.077, val_loss=2.660] Epoch 00007: reducing learning rate of group 0 to 2.5000e-04.\n",
      "Epoch 9: 100%|██████████| 4/4 [00:02<00:00,  1.63it/s, loss=2.32, train_acc=0.119, train_loss=2.310, val_acc=0.0674, val_loss=2.370] "
     ]
    },
    {
     "name": "stderr",
     "output_type": "stream",
     "text": [
      "`Trainer.fit` stopped: `max_epochs=10` reached.\n"
     ]
    },
    {
     "name": "stdout",
     "output_type": "stream",
     "text": [
      "Epoch 9: 100%|██████████| 4/4 [00:02<00:00,  1.62it/s, loss=2.32, train_acc=0.119, train_loss=2.310, val_acc=0.0674, val_loss=2.370]\n",
      "Training : .storage/checkpoints/iid_densenet121_cifar10_clients_30_faulty_[0, 1, 3, 4, 7]_bsize_512_epochs_10_lr_0.001/client_2.ckpt\n"
     ]
    },
    {
     "name": "stderr",
     "output_type": "stream",
     "text": [
      "Using 16bit native Automatic Mixed Precision (AMP)\n",
      "GPU available: True (cuda), used: True\n",
      "TPU available: False, using: 0 TPU cores\n",
      "IPU available: False, using: 0 IPUs\n",
      "HPU available: False, using: 0 HPUs\n",
      "LOCAL_RANK: 0 - CUDA_VISIBLE_DEVICES: [0]\n"
     ]
    },
    {
     "name": "stdout",
     "output_type": "stream",
     "text": [
      "Train mod batch = 130, and drop_last = False\n",
      "Epoch 9: 100%|██████████| 4/4 [00:02<00:00,  1.62it/s, loss=0.456, train_acc=0.927, train_loss=0.301, val_acc=0.722, val_loss=1.220]"
     ]
    },
    {
     "name": "stderr",
     "output_type": "stream",
     "text": [
      "`Trainer.fit` stopped: `max_epochs=10` reached.\n"
     ]
    },
    {
     "name": "stdout",
     "output_type": "stream",
     "text": [
      "Epoch 9: 100%|██████████| 4/4 [00:02<00:00,  1.61it/s, loss=0.456, train_acc=0.927, train_loss=0.301, val_acc=0.722, val_loss=1.220]\n",
      "Training : .storage/checkpoints/iid_densenet121_cifar10_clients_30_faulty_[0, 1, 3, 4, 7]_bsize_512_epochs_10_lr_0.001/client_5.ckpt\n"
     ]
    },
    {
     "name": "stderr",
     "output_type": "stream",
     "text": [
      "Using 16bit native Automatic Mixed Precision (AMP)\n",
      "GPU available: True (cuda), used: True\n",
      "TPU available: False, using: 0 TPU cores\n",
      "IPU available: False, using: 0 IPUs\n",
      "HPU available: False, using: 0 HPUs\n"
     ]
    },
    {
     "name": "stdout",
     "output_type": "stream",
     "text": [
      "Train mod batch = 130, and drop_last = False\n"
     ]
    },
    {
     "name": "stderr",
     "output_type": "stream",
     "text": [
      "LOCAL_RANK: 0 - CUDA_VISIBLE_DEVICES: [0]\n"
     ]
    },
    {
     "name": "stdout",
     "output_type": "stream",
     "text": [
      "Epoch 9: 100%|██████████| 4/4 [00:03<00:00,  1.32it/s, loss=0.477, train_acc=0.922, train_loss=0.305, val_acc=0.727, val_loss=1.170]"
     ]
    },
    {
     "name": "stderr",
     "output_type": "stream",
     "text": [
      "`Trainer.fit` stopped: `max_epochs=10` reached.\n"
     ]
    },
    {
     "name": "stdout",
     "output_type": "stream",
     "text": [
      "Epoch 9: 100%|██████████| 4/4 [00:03<00:00,  1.32it/s, loss=0.477, train_acc=0.922, train_loss=0.305, val_acc=0.727, val_loss=1.170]\n",
      "Training : .storage/checkpoints/iid_densenet121_cifar10_clients_30_faulty_[0, 1, 3, 4, 7]_bsize_512_epochs_10_lr_0.001/client_6.ckpt\n"
     ]
    },
    {
     "name": "stderr",
     "output_type": "stream",
     "text": [
      "Using 16bit native Automatic Mixed Precision (AMP)\n",
      "GPU available: True (cuda), used: True\n",
      "TPU available: False, using: 0 TPU cores\n",
      "IPU available: False, using: 0 IPUs\n",
      "HPU available: False, using: 0 HPUs\n"
     ]
    },
    {
     "name": "stdout",
     "output_type": "stream",
     "text": [
      "Train mod batch = 130, and drop_last = False\n"
     ]
    },
    {
     "name": "stderr",
     "output_type": "stream",
     "text": [
      "LOCAL_RANK: 0 - CUDA_VISIBLE_DEVICES: [0]\n"
     ]
    },
    {
     "name": "stdout",
     "output_type": "stream",
     "text": [
      "Epoch 9: 100%|██████████| 4/4 [00:03<00:00,  1.23it/s, loss=0.481, train_acc=0.890, train_loss=0.368, val_acc=0.726, val_loss=1.250]"
     ]
    },
    {
     "name": "stderr",
     "output_type": "stream",
     "text": [
      "`Trainer.fit` stopped: `max_epochs=10` reached.\n"
     ]
    },
    {
     "name": "stdout",
     "output_type": "stream",
     "text": [
      "Epoch 9: 100%|██████████| 4/4 [00:03<00:00,  1.23it/s, loss=0.481, train_acc=0.890, train_loss=0.368, val_acc=0.726, val_loss=1.250]\n",
      "Training : .storage/checkpoints/iid_densenet121_cifar10_clients_30_faulty_[0, 1, 3, 4, 7]_bsize_512_epochs_10_lr_0.001/client_8.ckpt\n"
     ]
    },
    {
     "name": "stderr",
     "output_type": "stream",
     "text": [
      "Using 16bit native Automatic Mixed Precision (AMP)\n",
      "GPU available: True (cuda), used: True\n",
      "TPU available: False, using: 0 TPU cores\n",
      "IPU available: False, using: 0 IPUs\n",
      "HPU available: False, using: 0 HPUs\n"
     ]
    },
    {
     "name": "stdout",
     "output_type": "stream",
     "text": [
      "Train mod batch = 130, and drop_last = False\n"
     ]
    },
    {
     "name": "stderr",
     "output_type": "stream",
     "text": [
      "LOCAL_RANK: 0 - CUDA_VISIBLE_DEVICES: [0]\n"
     ]
    },
    {
     "name": "stdout",
     "output_type": "stream",
     "text": [
      "Epoch 9: 100%|██████████| 4/4 [00:02<00:00,  1.43it/s, loss=0.479, train_acc=0.906, train_loss=0.302, val_acc=0.734, val_loss=1.120]"
     ]
    },
    {
     "name": "stderr",
     "output_type": "stream",
     "text": [
      "`Trainer.fit` stopped: `max_epochs=10` reached.\n"
     ]
    },
    {
     "name": "stdout",
     "output_type": "stream",
     "text": [
      "Epoch 9: 100%|██████████| 4/4 [00:02<00:00,  1.43it/s, loss=0.479, train_acc=0.906, train_loss=0.302, val_acc=0.734, val_loss=1.120]\n",
      "Training : .storage/checkpoints/iid_densenet121_cifar10_clients_30_faulty_[0, 1, 3, 4, 7]_bsize_512_epochs_10_lr_0.001/client_9.ckpt\n"
     ]
    },
    {
     "name": "stderr",
     "output_type": "stream",
     "text": [
      "Using 16bit native Automatic Mixed Precision (AMP)\n",
      "GPU available: True (cuda), used: True\n",
      "TPU available: False, using: 0 TPU cores\n",
      "IPU available: False, using: 0 IPUs\n",
      "HPU available: False, using: 0 HPUs\n"
     ]
    },
    {
     "name": "stdout",
     "output_type": "stream",
     "text": [
      "Train mod batch = 130, and drop_last = False\n"
     ]
    },
    {
     "name": "stderr",
     "output_type": "stream",
     "text": [
      "LOCAL_RANK: 0 - CUDA_VISIBLE_DEVICES: [0]\n"
     ]
    },
    {
     "name": "stdout",
     "output_type": "stream",
     "text": [
      "Epoch 9: 100%|██████████| 4/4 [00:02<00:00,  1.53it/s, loss=0.421, train_acc=0.866, train_loss=0.365, val_acc=0.748, val_loss=1.180]"
     ]
    },
    {
     "name": "stderr",
     "output_type": "stream",
     "text": [
      "`Trainer.fit` stopped: `max_epochs=10` reached.\n"
     ]
    },
    {
     "name": "stdout",
     "output_type": "stream",
     "text": [
      "Epoch 9: 100%|██████████| 4/4 [00:02<00:00,  1.53it/s, loss=0.421, train_acc=0.866, train_loss=0.365, val_acc=0.748, val_loss=1.180]\n",
      "Training : .storage/checkpoints/iid_densenet121_cifar10_clients_30_faulty_[0, 1, 3, 4, 7]_bsize_512_epochs_10_lr_0.001/client_10.ckpt\n"
     ]
    },
    {
     "name": "stderr",
     "output_type": "stream",
     "text": [
      "Using 16bit native Automatic Mixed Precision (AMP)\n",
      "GPU available: True (cuda), used: True\n",
      "TPU available: False, using: 0 TPU cores\n",
      "IPU available: False, using: 0 IPUs\n",
      "HPU available: False, using: 0 HPUs\n"
     ]
    },
    {
     "name": "stdout",
     "output_type": "stream",
     "text": [
      "Train mod batch = 130, and drop_last = False\n"
     ]
    },
    {
     "name": "stderr",
     "output_type": "stream",
     "text": [
      "LOCAL_RANK: 0 - CUDA_VISIBLE_DEVICES: [0]\n"
     ]
    },
    {
     "name": "stdout",
     "output_type": "stream",
     "text": [
      "Epoch 9: 100%|██████████| 4/4 [00:03<00:00,  1.24it/s, loss=0.468, train_acc=0.880, train_loss=0.358, val_acc=0.740, val_loss=1.120]"
     ]
    },
    {
     "name": "stderr",
     "output_type": "stream",
     "text": [
      "`Trainer.fit` stopped: `max_epochs=10` reached.\n"
     ]
    },
    {
     "name": "stdout",
     "output_type": "stream",
     "text": [
      "Epoch 9: 100%|██████████| 4/4 [00:03<00:00,  1.23it/s, loss=0.468, train_acc=0.880, train_loss=0.358, val_acc=0.740, val_loss=1.120]\n",
      "Training : .storage/checkpoints/iid_densenet121_cifar10_clients_30_faulty_[0, 1, 3, 4, 7]_bsize_512_epochs_10_lr_0.001/client_11.ckpt\n"
     ]
    },
    {
     "name": "stderr",
     "output_type": "stream",
     "text": [
      "Using 16bit native Automatic Mixed Precision (AMP)\n",
      "GPU available: True (cuda), used: True\n",
      "TPU available: False, using: 0 TPU cores\n",
      "IPU available: False, using: 0 IPUs\n",
      "HPU available: False, using: 0 HPUs\n",
      "LOCAL_RANK: 0 - CUDA_VISIBLE_DEVICES: [0]\n"
     ]
    },
    {
     "name": "stdout",
     "output_type": "stream",
     "text": [
      "Train mod batch = 130, and drop_last = False\n",
      "Epoch 9: 100%|██████████| 4/4 [00:03<00:00,  1.22it/s, loss=0.404, train_acc=0.915, train_loss=0.296, val_acc=0.732, val_loss=1.200]"
     ]
    },
    {
     "name": "stderr",
     "output_type": "stream",
     "text": [
      "`Trainer.fit` stopped: `max_epochs=10` reached.\n"
     ]
    },
    {
     "name": "stdout",
     "output_type": "stream",
     "text": [
      "Epoch 9: 100%|██████████| 4/4 [00:03<00:00,  1.22it/s, loss=0.404, train_acc=0.915, train_loss=0.296, val_acc=0.732, val_loss=1.200]\n",
      "Training : .storage/checkpoints/iid_densenet121_cifar10_clients_30_faulty_[0, 1, 3, 4, 7]_bsize_512_epochs_10_lr_0.001/client_12.ckpt\n"
     ]
    },
    {
     "name": "stderr",
     "output_type": "stream",
     "text": [
      "Using 16bit native Automatic Mixed Precision (AMP)\n",
      "GPU available: True (cuda), used: True\n",
      "TPU available: False, using: 0 TPU cores\n",
      "IPU available: False, using: 0 IPUs\n",
      "HPU available: False, using: 0 HPUs\n",
      "LOCAL_RANK: 0 - CUDA_VISIBLE_DEVICES: [0]\n"
     ]
    },
    {
     "name": "stdout",
     "output_type": "stream",
     "text": [
      "Train mod batch = 130, and drop_last = False\n",
      "Epoch 9: 100%|██████████| 4/4 [00:02<00:00,  1.44it/s, loss=0.511, train_acc=0.879, train_loss=0.351, val_acc=0.732, val_loss=1.210]"
     ]
    },
    {
     "name": "stderr",
     "output_type": "stream",
     "text": [
      "`Trainer.fit` stopped: `max_epochs=10` reached.\n"
     ]
    },
    {
     "name": "stdout",
     "output_type": "stream",
     "text": [
      "Epoch 9: 100%|██████████| 4/4 [00:02<00:00,  1.44it/s, loss=0.511, train_acc=0.879, train_loss=0.351, val_acc=0.732, val_loss=1.210]\n",
      "Training : .storage/checkpoints/iid_densenet121_cifar10_clients_30_faulty_[0, 1, 3, 4, 7]_bsize_512_epochs_10_lr_0.001/client_13.ckpt\n"
     ]
    },
    {
     "name": "stderr",
     "output_type": "stream",
     "text": [
      "Using 16bit native Automatic Mixed Precision (AMP)\n",
      "GPU available: True (cuda), used: True\n",
      "TPU available: False, using: 0 TPU cores\n",
      "IPU available: False, using: 0 IPUs\n",
      "HPU available: False, using: 0 HPUs\n",
      "LOCAL_RANK: 0 - CUDA_VISIBLE_DEVICES: [0]\n"
     ]
    },
    {
     "name": "stdout",
     "output_type": "stream",
     "text": [
      "Train mod batch = 130, and drop_last = False\n",
      "Epoch 9: 100%|██████████| 4/4 [00:02<00:00,  1.40it/s, loss=0.413, train_acc=0.906, train_loss=0.313, val_acc=0.744, val_loss=1.150]"
     ]
    },
    {
     "name": "stderr",
     "output_type": "stream",
     "text": [
      "`Trainer.fit` stopped: `max_epochs=10` reached.\n"
     ]
    },
    {
     "name": "stdout",
     "output_type": "stream",
     "text": [
      "Epoch 00010: reducing learning rate of group 0 to 2.5000e-04.\n",
      "Epoch 9: 100%|██████████| 4/4 [00:02<00:00,  1.40it/s, loss=0.413, train_acc=0.906, train_loss=0.313, val_acc=0.744, val_loss=1.150]\n",
      "Training : .storage/checkpoints/iid_densenet121_cifar10_clients_30_faulty_[0, 1, 3, 4, 7]_bsize_512_epochs_10_lr_0.001/client_14.ckpt\n"
     ]
    },
    {
     "name": "stderr",
     "output_type": "stream",
     "text": [
      "Using 16bit native Automatic Mixed Precision (AMP)\n",
      "GPU available: True (cuda), used: True\n",
      "TPU available: False, using: 0 TPU cores\n",
      "IPU available: False, using: 0 IPUs\n",
      "HPU available: False, using: 0 HPUs\n"
     ]
    },
    {
     "name": "stdout",
     "output_type": "stream",
     "text": [
      "Train mod batch = 130, and drop_last = False\n"
     ]
    },
    {
     "name": "stderr",
     "output_type": "stream",
     "text": [
      "LOCAL_RANK: 0 - CUDA_VISIBLE_DEVICES: [0]\n"
     ]
    },
    {
     "name": "stdout",
     "output_type": "stream",
     "text": [
      "Epoch 9: 100%|██████████| 4/4 [00:03<00:00,  1.33it/s, loss=0.484, train_acc=0.874, train_loss=0.362, val_acc=0.722, val_loss=1.200]"
     ]
    },
    {
     "name": "stderr",
     "output_type": "stream",
     "text": [
      "`Trainer.fit` stopped: `max_epochs=10` reached.\n"
     ]
    },
    {
     "name": "stdout",
     "output_type": "stream",
     "text": [
      "Epoch 9: 100%|██████████| 4/4 [00:03<00:00,  1.33it/s, loss=0.484, train_acc=0.874, train_loss=0.362, val_acc=0.722, val_loss=1.200]\n",
      "Training : .storage/checkpoints/iid_densenet121_cifar10_clients_30_faulty_[0, 1, 3, 4, 7]_bsize_512_epochs_10_lr_0.001/client_15.ckpt\n"
     ]
    },
    {
     "name": "stderr",
     "output_type": "stream",
     "text": [
      "Using 16bit native Automatic Mixed Precision (AMP)\n",
      "GPU available: True (cuda), used: True\n",
      "TPU available: False, using: 0 TPU cores\n",
      "IPU available: False, using: 0 IPUs\n",
      "HPU available: False, using: 0 HPUs\n"
     ]
    },
    {
     "name": "stdout",
     "output_type": "stream",
     "text": [
      "Train mod batch = 130, and drop_last = False\n"
     ]
    },
    {
     "name": "stderr",
     "output_type": "stream",
     "text": [
      "LOCAL_RANK: 0 - CUDA_VISIBLE_DEVICES: [0]\n"
     ]
    },
    {
     "name": "stdout",
     "output_type": "stream",
     "text": [
      "Epoch 9: 100%|██████████| 4/4 [00:02<00:00,  1.61it/s, loss=0.456, train_acc=0.891, train_loss=0.337, val_acc=0.739, val_loss=1.150]"
     ]
    },
    {
     "name": "stderr",
     "output_type": "stream",
     "text": [
      "`Trainer.fit` stopped: `max_epochs=10` reached.\n"
     ]
    },
    {
     "name": "stdout",
     "output_type": "stream",
     "text": [
      "Epoch 9: 100%|██████████| 4/4 [00:02<00:00,  1.60it/s, loss=0.456, train_acc=0.891, train_loss=0.337, val_acc=0.739, val_loss=1.150]\n",
      "Training : .storage/checkpoints/iid_densenet121_cifar10_clients_30_faulty_[0, 1, 3, 4, 7]_bsize_512_epochs_10_lr_0.001/client_16.ckpt\n"
     ]
    },
    {
     "name": "stderr",
     "output_type": "stream",
     "text": [
      "Using 16bit native Automatic Mixed Precision (AMP)\n",
      "GPU available: True (cuda), used: True\n",
      "TPU available: False, using: 0 TPU cores\n",
      "IPU available: False, using: 0 IPUs\n",
      "HPU available: False, using: 0 HPUs\n"
     ]
    },
    {
     "name": "stdout",
     "output_type": "stream",
     "text": [
      "Train mod batch = 130, and drop_last = False\n"
     ]
    },
    {
     "name": "stderr",
     "output_type": "stream",
     "text": [
      "LOCAL_RANK: 0 - CUDA_VISIBLE_DEVICES: [0]\n"
     ]
    },
    {
     "name": "stdout",
     "output_type": "stream",
     "text": [
      "Epoch 9: 100%|██████████| 4/4 [00:03<00:00,  1.33it/s, loss=0.467, train_acc=0.931, train_loss=0.266, val_acc=0.737, val_loss=1.170]"
     ]
    },
    {
     "name": "stderr",
     "output_type": "stream",
     "text": [
      "`Trainer.fit` stopped: `max_epochs=10` reached.\n"
     ]
    },
    {
     "name": "stdout",
     "output_type": "stream",
     "text": [
      "Epoch 9: 100%|██████████| 4/4 [00:03<00:00,  1.33it/s, loss=0.467, train_acc=0.931, train_loss=0.266, val_acc=0.737, val_loss=1.170]\n",
      "Training : .storage/checkpoints/iid_densenet121_cifar10_clients_30_faulty_[0, 1, 3, 4, 7]_bsize_512_epochs_10_lr_0.001/client_17.ckpt\n"
     ]
    },
    {
     "name": "stderr",
     "output_type": "stream",
     "text": [
      "Using 16bit native Automatic Mixed Precision (AMP)\n",
      "GPU available: True (cuda), used: True\n",
      "TPU available: False, using: 0 TPU cores\n",
      "IPU available: False, using: 0 IPUs\n",
      "HPU available: False, using: 0 HPUs\n",
      "LOCAL_RANK: 0 - CUDA_VISIBLE_DEVICES: [0]\n"
     ]
    },
    {
     "name": "stdout",
     "output_type": "stream",
     "text": [
      "Train mod batch = 130, and drop_last = False\n",
      "Epoch 9: 100%|██████████| 4/4 [00:02<00:00,  1.62it/s, loss=0.514, train_acc=0.875, train_loss=0.389, val_acc=0.721, val_loss=1.280]"
     ]
    },
    {
     "name": "stderr",
     "output_type": "stream",
     "text": [
      "`Trainer.fit` stopped: `max_epochs=10` reached.\n"
     ]
    },
    {
     "name": "stdout",
     "output_type": "stream",
     "text": [
      "Epoch 9: 100%|██████████| 4/4 [00:02<00:00,  1.61it/s, loss=0.514, train_acc=0.875, train_loss=0.389, val_acc=0.721, val_loss=1.280]\n",
      "Training : .storage/checkpoints/iid_densenet121_cifar10_clients_30_faulty_[0, 1, 3, 4, 7]_bsize_512_epochs_10_lr_0.001/client_18.ckpt\n"
     ]
    },
    {
     "name": "stderr",
     "output_type": "stream",
     "text": [
      "Using 16bit native Automatic Mixed Precision (AMP)\n",
      "GPU available: True (cuda), used: True\n",
      "TPU available: False, using: 0 TPU cores\n",
      "IPU available: False, using: 0 IPUs\n",
      "HPU available: False, using: 0 HPUs\n",
      "LOCAL_RANK: 0 - CUDA_VISIBLE_DEVICES: [0]\n"
     ]
    },
    {
     "name": "stdout",
     "output_type": "stream",
     "text": [
      "Train mod batch = 130, and drop_last = False\n",
      "Epoch 9: 100%|██████████| 4/4 [00:02<00:00,  1.42it/s, loss=0.478, train_acc=0.873, train_loss=0.318, val_acc=0.715, val_loss=1.310]"
     ]
    },
    {
     "name": "stderr",
     "output_type": "stream",
     "text": [
      "`Trainer.fit` stopped: `max_epochs=10` reached.\n"
     ]
    },
    {
     "name": "stdout",
     "output_type": "stream",
     "text": [
      "Epoch 9: 100%|██████████| 4/4 [00:02<00:00,  1.41it/s, loss=0.478, train_acc=0.873, train_loss=0.318, val_acc=0.715, val_loss=1.310]\n",
      "Training : .storage/checkpoints/iid_densenet121_cifar10_clients_30_faulty_[0, 1, 3, 4, 7]_bsize_512_epochs_10_lr_0.001/client_19.ckpt\n"
     ]
    },
    {
     "name": "stderr",
     "output_type": "stream",
     "text": [
      "Using 16bit native Automatic Mixed Precision (AMP)\n",
      "GPU available: True (cuda), used: True\n",
      "TPU available: False, using: 0 TPU cores\n",
      "IPU available: False, using: 0 IPUs\n",
      "HPU available: False, using: 0 HPUs\n",
      "LOCAL_RANK: 0 - CUDA_VISIBLE_DEVICES: [0]\n"
     ]
    },
    {
     "name": "stdout",
     "output_type": "stream",
     "text": [
      "Train mod batch = 130, and drop_last = False\n",
      "Epoch 9: 100%|██████████| 4/4 [00:03<00:00,  1.29it/s, loss=0.477, train_acc=0.883, train_loss=0.332, val_acc=0.727, val_loss=1.190]"
     ]
    },
    {
     "name": "stderr",
     "output_type": "stream",
     "text": [
      "`Trainer.fit` stopped: `max_epochs=10` reached.\n"
     ]
    },
    {
     "name": "stdout",
     "output_type": "stream",
     "text": [
      "Epoch 9: 100%|██████████| 4/4 [00:03<00:00,  1.29it/s, loss=0.477, train_acc=0.883, train_loss=0.332, val_acc=0.727, val_loss=1.190]\n",
      "Training : .storage/checkpoints/iid_densenet121_cifar10_clients_30_faulty_[0, 1, 3, 4, 7]_bsize_512_epochs_10_lr_0.001/client_20.ckpt\n"
     ]
    },
    {
     "name": "stderr",
     "output_type": "stream",
     "text": [
      "Using 16bit native Automatic Mixed Precision (AMP)\n",
      "GPU available: True (cuda), used: True\n",
      "TPU available: False, using: 0 TPU cores\n",
      "IPU available: False, using: 0 IPUs\n",
      "HPU available: False, using: 0 HPUs\n"
     ]
    },
    {
     "name": "stdout",
     "output_type": "stream",
     "text": [
      "Train mod batch = 130, and drop_last = False\n"
     ]
    },
    {
     "name": "stderr",
     "output_type": "stream",
     "text": [
      "LOCAL_RANK: 0 - CUDA_VISIBLE_DEVICES: [0]\n"
     ]
    },
    {
     "name": "stdout",
     "output_type": "stream",
     "text": [
      "Epoch 9: 100%|██████████| 4/4 [00:03<00:00,  1.18it/s, loss=0.45, train_acc=0.903, train_loss=0.356, val_acc=0.736, val_loss=1.150] "
     ]
    },
    {
     "name": "stderr",
     "output_type": "stream",
     "text": [
      "`Trainer.fit` stopped: `max_epochs=10` reached.\n"
     ]
    },
    {
     "name": "stdout",
     "output_type": "stream",
     "text": [
      "Epoch 9: 100%|██████████| 4/4 [00:03<00:00,  1.18it/s, loss=0.45, train_acc=0.903, train_loss=0.356, val_acc=0.736, val_loss=1.150]\n",
      "Training : .storage/checkpoints/iid_densenet121_cifar10_clients_30_faulty_[0, 1, 3, 4, 7]_bsize_512_epochs_10_lr_0.001/client_21.ckpt\n"
     ]
    },
    {
     "name": "stderr",
     "output_type": "stream",
     "text": [
      "Using 16bit native Automatic Mixed Precision (AMP)\n",
      "GPU available: True (cuda), used: True\n",
      "TPU available: False, using: 0 TPU cores\n",
      "IPU available: False, using: 0 IPUs\n",
      "HPU available: False, using: 0 HPUs\n"
     ]
    },
    {
     "name": "stdout",
     "output_type": "stream",
     "text": [
      "Train mod batch = 130, and drop_last = False\n"
     ]
    },
    {
     "name": "stderr",
     "output_type": "stream",
     "text": [
      "LOCAL_RANK: 0 - CUDA_VISIBLE_DEVICES: [0]\n"
     ]
    },
    {
     "name": "stdout",
     "output_type": "stream",
     "text": [
      "Epoch 9: 100%|██████████| 4/4 [00:04<00:00,  1.00s/it, loss=0.435, train_acc=0.863, train_loss=0.366, val_acc=0.725, val_loss=1.180]"
     ]
    },
    {
     "name": "stderr",
     "output_type": "stream",
     "text": [
      "`Trainer.fit` stopped: `max_epochs=10` reached.\n"
     ]
    },
    {
     "name": "stdout",
     "output_type": "stream",
     "text": [
      "Epoch 9: 100%|██████████| 4/4 [00:04<00:00,  1.00s/it, loss=0.435, train_acc=0.863, train_loss=0.366, val_acc=0.725, val_loss=1.180]\n",
      "Training : .storage/checkpoints/iid_densenet121_cifar10_clients_30_faulty_[0, 1, 3, 4, 7]_bsize_512_epochs_10_lr_0.001/client_22.ckpt\n"
     ]
    },
    {
     "name": "stderr",
     "output_type": "stream",
     "text": [
      "Using 16bit native Automatic Mixed Precision (AMP)\n",
      "GPU available: True (cuda), used: True\n",
      "TPU available: False, using: 0 TPU cores\n",
      "IPU available: False, using: 0 IPUs\n",
      "HPU available: False, using: 0 HPUs\n",
      "LOCAL_RANK: 0 - CUDA_VISIBLE_DEVICES: [0]\n"
     ]
    },
    {
     "name": "stdout",
     "output_type": "stream",
     "text": [
      "Train mod batch = 130, and drop_last = False\n",
      "Epoch 9: 100%|██████████| 4/4 [00:03<00:00,  1.25it/s, loss=0.488, train_acc=0.881, train_loss=0.393, val_acc=0.716, val_loss=1.320]"
     ]
    },
    {
     "name": "stderr",
     "output_type": "stream",
     "text": [
      "`Trainer.fit` stopped: `max_epochs=10` reached.\n"
     ]
    },
    {
     "name": "stdout",
     "output_type": "stream",
     "text": [
      "Epoch 9: 100%|██████████| 4/4 [00:03<00:00,  1.25it/s, loss=0.488, train_acc=0.881, train_loss=0.393, val_acc=0.716, val_loss=1.320]\n",
      "Training : .storage/checkpoints/iid_densenet121_cifar10_clients_30_faulty_[0, 1, 3, 4, 7]_bsize_512_epochs_10_lr_0.001/client_23.ckpt\n"
     ]
    },
    {
     "name": "stderr",
     "output_type": "stream",
     "text": [
      "Using 16bit native Automatic Mixed Precision (AMP)\n",
      "GPU available: True (cuda), used: True\n",
      "TPU available: False, using: 0 TPU cores\n",
      "IPU available: False, using: 0 IPUs\n",
      "HPU available: False, using: 0 HPUs\n",
      "LOCAL_RANK: 0 - CUDA_VISIBLE_DEVICES: [0]\n"
     ]
    },
    {
     "name": "stdout",
     "output_type": "stream",
     "text": [
      "Train mod batch = 130, and drop_last = False\n",
      "Epoch 9: 100%|██████████| 4/4 [00:03<00:00,  1.07it/s, loss=0.455, train_acc=0.925, train_loss=0.284, val_acc=0.720, val_loss=1.280]"
     ]
    },
    {
     "name": "stderr",
     "output_type": "stream",
     "text": [
      "`Trainer.fit` stopped: `max_epochs=10` reached.\n"
     ]
    },
    {
     "name": "stdout",
     "output_type": "stream",
     "text": [
      "Epoch 9: 100%|██████████| 4/4 [00:03<00:00,  1.07it/s, loss=0.455, train_acc=0.925, train_loss=0.284, val_acc=0.720, val_loss=1.280]\n",
      "Training : .storage/checkpoints/iid_densenet121_cifar10_clients_30_faulty_[0, 1, 3, 4, 7]_bsize_512_epochs_10_lr_0.001/client_24.ckpt\n"
     ]
    },
    {
     "name": "stderr",
     "output_type": "stream",
     "text": [
      "Using 16bit native Automatic Mixed Precision (AMP)\n",
      "GPU available: True (cuda), used: True\n",
      "TPU available: False, using: 0 TPU cores\n",
      "IPU available: False, using: 0 IPUs\n",
      "HPU available: False, using: 0 HPUs\n",
      "LOCAL_RANK: 0 - CUDA_VISIBLE_DEVICES: [0]\n"
     ]
    },
    {
     "name": "stdout",
     "output_type": "stream",
     "text": [
      "Train mod batch = 130, and drop_last = False\n",
      "Epoch 9: 100%|██████████| 4/4 [00:02<00:00,  1.34it/s, loss=0.459, train_acc=0.918, train_loss=0.295, val_acc=0.730, val_loss=1.150]"
     ]
    },
    {
     "name": "stderr",
     "output_type": "stream",
     "text": [
      "`Trainer.fit` stopped: `max_epochs=10` reached.\n"
     ]
    },
    {
     "name": "stdout",
     "output_type": "stream",
     "text": [
      "Epoch 9: 100%|██████████| 4/4 [00:02<00:00,  1.33it/s, loss=0.459, train_acc=0.918, train_loss=0.295, val_acc=0.730, val_loss=1.150]\n",
      "Training : .storage/checkpoints/iid_densenet121_cifar10_clients_30_faulty_[0, 1, 3, 4, 7]_bsize_512_epochs_10_lr_0.001/client_25.ckpt\n"
     ]
    },
    {
     "name": "stderr",
     "output_type": "stream",
     "text": [
      "Using 16bit native Automatic Mixed Precision (AMP)\n",
      "GPU available: True (cuda), used: True\n",
      "TPU available: False, using: 0 TPU cores\n",
      "IPU available: False, using: 0 IPUs\n",
      "HPU available: False, using: 0 HPUs\n",
      "LOCAL_RANK: 0 - CUDA_VISIBLE_DEVICES: [0]\n"
     ]
    },
    {
     "name": "stdout",
     "output_type": "stream",
     "text": [
      "Train mod batch = 130, and drop_last = False\n",
      "Epoch 9: 100%|██████████| 4/4 [00:02<00:00,  1.44it/s, loss=0.475, train_acc=0.865, train_loss=0.339, val_acc=0.729, val_loss=1.190]"
     ]
    },
    {
     "name": "stderr",
     "output_type": "stream",
     "text": [
      "`Trainer.fit` stopped: `max_epochs=10` reached.\n"
     ]
    },
    {
     "name": "stdout",
     "output_type": "stream",
     "text": [
      "Epoch 9: 100%|██████████| 4/4 [00:02<00:00,  1.43it/s, loss=0.475, train_acc=0.865, train_loss=0.339, val_acc=0.729, val_loss=1.190]\n",
      "Training : .storage/checkpoints/iid_densenet121_cifar10_clients_30_faulty_[0, 1, 3, 4, 7]_bsize_512_epochs_10_lr_0.001/client_26.ckpt\n"
     ]
    },
    {
     "name": "stderr",
     "output_type": "stream",
     "text": [
      "Using 16bit native Automatic Mixed Precision (AMP)\n",
      "GPU available: True (cuda), used: True\n",
      "TPU available: False, using: 0 TPU cores\n",
      "IPU available: False, using: 0 IPUs\n",
      "HPU available: False, using: 0 HPUs\n"
     ]
    },
    {
     "name": "stdout",
     "output_type": "stream",
     "text": [
      "Train mod batch = 130, and drop_last = False\n"
     ]
    },
    {
     "name": "stderr",
     "output_type": "stream",
     "text": [
      "LOCAL_RANK: 0 - CUDA_VISIBLE_DEVICES: [0]\n"
     ]
    },
    {
     "name": "stdout",
     "output_type": "stream",
     "text": [
      "Epoch 9: 100%|██████████| 4/4 [00:03<00:00,  1.28it/s, loss=0.454, train_acc=0.899, train_loss=0.354, val_acc=0.737, val_loss=1.140]"
     ]
    },
    {
     "name": "stderr",
     "output_type": "stream",
     "text": [
      "`Trainer.fit` stopped: `max_epochs=10` reached.\n"
     ]
    },
    {
     "name": "stdout",
     "output_type": "stream",
     "text": [
      "Epoch 9: 100%|██████████| 4/4 [00:03<00:00,  1.28it/s, loss=0.454, train_acc=0.899, train_loss=0.354, val_acc=0.737, val_loss=1.140]\n",
      "Training : .storage/checkpoints/iid_densenet121_cifar10_clients_30_faulty_[0, 1, 3, 4, 7]_bsize_512_epochs_10_lr_0.001/client_27.ckpt\n"
     ]
    },
    {
     "name": "stderr",
     "output_type": "stream",
     "text": [
      "Using 16bit native Automatic Mixed Precision (AMP)\n",
      "GPU available: True (cuda), used: True\n",
      "TPU available: False, using: 0 TPU cores\n",
      "IPU available: False, using: 0 IPUs\n",
      "HPU available: False, using: 0 HPUs\n"
     ]
    },
    {
     "name": "stdout",
     "output_type": "stream",
     "text": [
      "Train mod batch = 130, and drop_last = False\n"
     ]
    },
    {
     "name": "stderr",
     "output_type": "stream",
     "text": [
      "LOCAL_RANK: 0 - CUDA_VISIBLE_DEVICES: [0]\n"
     ]
    },
    {
     "name": "stdout",
     "output_type": "stream",
     "text": [
      "Epoch 9: 100%|██████████| 4/4 [00:03<00:00,  1.17it/s, loss=0.426, train_acc=0.892, train_loss=0.348, val_acc=0.751, val_loss=1.100]"
     ]
    },
    {
     "name": "stderr",
     "output_type": "stream",
     "text": [
      "`Trainer.fit` stopped: `max_epochs=10` reached.\n"
     ]
    },
    {
     "name": "stdout",
     "output_type": "stream",
     "text": [
      "Epoch 9: 100%|██████████| 4/4 [00:03<00:00,  1.17it/s, loss=0.426, train_acc=0.892, train_loss=0.348, val_acc=0.751, val_loss=1.100]\n",
      "Training : .storage/checkpoints/iid_densenet121_cifar10_clients_30_faulty_[0, 1, 3, 4, 7]_bsize_512_epochs_10_lr_0.001/client_28.ckpt\n"
     ]
    },
    {
     "name": "stderr",
     "output_type": "stream",
     "text": [
      "Using 16bit native Automatic Mixed Precision (AMP)\n",
      "GPU available: True (cuda), used: True\n",
      "TPU available: False, using: 0 TPU cores\n",
      "IPU available: False, using: 0 IPUs\n",
      "HPU available: False, using: 0 HPUs\n",
      "LOCAL_RANK: 0 - CUDA_VISIBLE_DEVICES: [0]\n"
     ]
    },
    {
     "name": "stdout",
     "output_type": "stream",
     "text": [
      "Train mod batch = 130, and drop_last = False\n",
      "Epoch 9: 100%|██████████| 4/4 [00:03<00:00,  1.28it/s, loss=0.516, train_acc=0.933, train_loss=0.287, val_acc=0.703, val_loss=1.260]"
     ]
    },
    {
     "name": "stderr",
     "output_type": "stream",
     "text": [
      "`Trainer.fit` stopped: `max_epochs=10` reached.\n"
     ]
    },
    {
     "name": "stdout",
     "output_type": "stream",
     "text": [
      "Epoch 9: 100%|██████████| 4/4 [00:03<00:00,  1.28it/s, loss=0.516, train_acc=0.933, train_loss=0.287, val_acc=0.703, val_loss=1.260]\n",
      "Training : .storage/checkpoints/iid_densenet121_cifar10_clients_30_faulty_[0, 1, 3, 4, 7]_bsize_512_epochs_10_lr_0.001/client_29.ckpt\n"
     ]
    },
    {
     "name": "stderr",
     "output_type": "stream",
     "text": [
      "Using 16bit native Automatic Mixed Precision (AMP)\n",
      "GPU available: True (cuda), used: True\n",
      "TPU available: False, using: 0 TPU cores\n",
      "IPU available: False, using: 0 IPUs\n",
      "HPU available: False, using: 0 HPUs\n"
     ]
    },
    {
     "name": "stdout",
     "output_type": "stream",
     "text": [
      "Train mod batch = 130, and drop_last = False\n"
     ]
    },
    {
     "name": "stderr",
     "output_type": "stream",
     "text": [
      "LOCAL_RANK: 0 - CUDA_VISIBLE_DEVICES: [0]\n"
     ]
    },
    {
     "name": "stdout",
     "output_type": "stream",
     "text": [
      "Epoch 9: 100%|██████████| 4/4 [00:02<00:00,  1.65it/s, loss=0.429, train_acc=0.885, train_loss=0.393, val_acc=0.739, val_loss=1.190]"
     ]
    },
    {
     "name": "stderr",
     "output_type": "stream",
     "text": [
      "`Trainer.fit` stopped: `max_epochs=10` reached.\n"
     ]
    },
    {
     "name": "stdout",
     "output_type": "stream",
     "text": [
      "Epoch 9: 100%|██████████| 4/4 [00:02<00:00,  1.65it/s, loss=0.429, train_acc=0.885, train_loss=0.393, val_acc=0.739, val_loss=1.190]\n",
      "Total clients: 30\n",
      "++Training is done: iid_densenet121_cifar10_clients_30_faulty_[0, 1, 3, 4, 7]_bsize_512_epochs_10_lr_0.001\n",
      ">  Running FaultyClientLocalization ..\n",
      "Same prediction threshold 5\n",
      "+++ Faulty Clients {0, 1, 3, 4, 7}\n",
      "+++ Faulty Clients {0, 1, 3, 4, 7}\n",
      "+++ Faulty Clients {0, 1, 3, 4, 7}\n",
      "+++ Faulty Clients {0, 1, 3, 4, 7}\n",
      "+++ Faulty Clients {0, 1, 3, 4, 7}\n",
      "+++ Faulty Clients {0, 1, 3, 4, 7}\n",
      "+++ Faulty Clients {0, 1, 3, 4, 7}\n",
      "+++ Faulty Clients {0, 1, 3, 4, 7}\n",
      "+++ Faulty Clients {0, 1, 3, 4, 7}\n",
      "+++ Faulty Clients {0, 1, 3, 4, 7}\n",
      "#Table 2: Fault Localization Accuracy: 100.0, Distribution: iid,  Faulty clients: 5, Total Clients: 30, Architecture: densenet121, Dataset: cifar10\n"
     ]
    }
   ],
   "source": [
    "args.sampling = \"iid\"\n",
    "args.faulty_clients_ids = \"0,1,3,4,7\" # can be multiple clients separated by comma e.g. \"0,1,2\"  but keep under args.clients clients and at max less than 7 \n",
    "args.model = \"densenet121\" # [resnet18, resnet34, resnet50, densenet121, vgg16]\n",
    "args.dataset = \"cifar10\" # ['cifar10', 'femnist']\n",
    "args.clients = 30 \n",
    "\n",
    "# FL training\n",
    "c2ms, exp2info = trainFLMain(args)\n",
    "client2models = {k: v.model.eval() for k, v in c2ms.items()}\n",
    "\n",
    "# Fault localazation\n",
    "potential_faulty_clients, _, _ = runFaultyClientLocalization(\n",
    "    client2models=client2models, exp2info=exp2info, num_bugs=len(exp2info['faulty_clients_ids']))\n",
    "fault_acc = evaluateFaultLocalization(\n",
    "    potential_faulty_clients, exp2info['faulty_clients_ids'])\n",
    "# print(f\"Fault Localization Acc: {fault_acc}\")\n",
    "\n",
    "print(f\"#Table 2: Fault Localization Accuracy: {fault_acc}, Distribution: {args.sampling},  Faulty clients: {len(args.faulty_clients_ids.split(','))}, Total Clients: {args.clients}, Architecture: {args.model}, Dataset: {args.dataset}\")"
   ]
  },
  {
   "attachments": {},
   "cell_type": "markdown",
   "metadata": {},
   "source": [
    "### Table 2: Three Fautly Clients, resnet-50, cifar10, and 30 clients "
   ]
  },
  {
   "cell_type": "code",
   "execution_count": 7,
   "metadata": {},
   "outputs": [],
   "source": [
    "# args.sampling = \"iid\"\n",
    "# args.faulty_clients_ids = \"0,1,3\" # can be multiple clients separated by comma e.g. \"0,1,2\"  but keep under args.clients clients and at max less than 7 \n",
    "# args.model = \"resnet50\" # [resnet18, resnet34, resnet50, densenet121, vgg16]\n",
    "# args.dataset = \"cifar10\" # ['cifar10', 'femnist']\n",
    "# args.clients = 30 \n",
    "\n",
    "# # FL training\n",
    "# c2ms, exp2info = trainFLMain(args)\n",
    "# client2models = {k: v.model.eval() for k, v in c2ms.items()}\n",
    "\n",
    "# # Fault localazation\n",
    "# potential_faulty_clients, _, _ = runFaultyClientLocalization(\n",
    "#     client2models=client2models, exp2info=exp2info, num_bugs=len(exp2info['faulty_clients_ids']))\n",
    "# fault_acc = evaluateFaultLocalization(\n",
    "#     potential_faulty_clients, exp2info['faulty_clients_ids'])\n",
    "# # print(f\"Fault Localization Acc: {fault_acc}\")\n",
    "\n",
    "# print(f\"#Table 2: Fault Localization Accuracy: {fault_acc}, Distribution: {args.sampling},  Faulty clients: {len(args.faulty_clients_ids.split(','))}, Total Clients: {args.clients}, Architecture: {args.model}, Dataset: {args.dataset}\")"
   ]
  },
  {
   "cell_type": "code",
   "execution_count": null,
   "metadata": {},
   "outputs": [],
   "source": []
  }
 ],
 "metadata": {
  "kernelspec": {
   "display_name": "Python 3 (ipykernel)",
   "language": "python",
   "name": "python3"
  },
  "language_info": {
   "codemirror_mode": {
    "name": "ipython",
    "version": 3
   },
   "file_extension": ".py",
   "mimetype": "text/x-python",
   "name": "python",
   "nbconvert_exporter": "python",
   "pygments_lexer": "ipython3",
   "version": "3.10.8"
  },
  "vscode": {
   "interpreter": {
    "hash": "90b2b3ffc921ecec285732ffefdcd2be049b62625871c2bd1061419cc3e1c031"
   }
  }
 },
 "nbformat": 4,
 "nbformat_minor": 2
}
