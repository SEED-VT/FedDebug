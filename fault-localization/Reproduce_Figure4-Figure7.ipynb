{
 "cells": [
  {
   "attachments": {},
   "cell_type": "markdown",
   "metadata": {},
   "source": [
    "# Colab Setup  \n",
    "> Make sure you configure notebook with GPU: Click Edit->notebook settings->hardware accelerator->GPU\n",
    "\n",
    "> Uncomment the following cell after opening in Google colab. (Do not uncomment it in local setup.)  \n",
    "\n",
    "<a target=\"_blank\" href=\"https://colab.research.google.com/github/SEED-VT/FedDebug/blob/main/fault-localization/Reproduce_Figure4-Figure7.ipynb\"><img src=\"https://colab.research.google.com/assets/colab-badge.svg\" alt=\"Open In Colab\"/></a>\n",
    "\n"
   ]
  },
  {
   "cell_type": "code",
   "execution_count": 1,
   "metadata": {},
   "outputs": [],
   "source": [
    "# !pip install pytorch-lightning\n",
    "# !pip install diskcache\n",
    "# !pip install dotmap\n",
    "# !pip install torch torchvision torchaudio\n",
    "# !pip install matplotlib\n",
    "# !git clone https://github.com/SEED-VT/FedDebug.git\n",
    "# # appending the path\n",
    "# import sys\n",
    "# sys.path.append(\"FedDebug/fault-localization/\")"
   ]
  },
  {
   "attachments": {},
   "cell_type": "markdown",
   "metadata": {},
   "source": [
    "# Running Code"
   ]
  },
  {
   "cell_type": "code",
   "execution_count": 2,
   "metadata": {},
   "outputs": [
    {
     "name": "stderr",
     "output_type": "stream",
     "text": [
      "/home/gulzar/anaconda3/envs/torch/lib/python3.10/site-packages/tqdm/auto.py:22: TqdmWarning: IProgress not found. Please update jupyter and ipywidgets. See https://ipywidgets.readthedocs.io/en/stable/user_install.html\n",
      "  from .autonotebook import tqdm as notebook_tqdm\n",
      "Global seed set to 786\n",
      "Global seed set to 786\n"
     ]
    },
    {
     "name": "stdout",
     "output_type": "stream",
     "text": [
      "Files already downloaded and verified\n",
      "Files already downloaded and verified\n",
      "\n",
      "\n",
      "  ***Simulating FL setup iid_resnet18_cifar10_clients_10_faulty_[0]_bsize_512_epochs_5_lr_0.001 ***\n",
      "Files already downloaded and verified\n",
      "Files already downloaded and verified\n",
      "Spliting Datasets 50000 into parts:[5000, 5000, 5000, 5000, 5000, 5000, 5000, 5000, 5000, 5000]\n",
      "input shape, torch.Size([1, 3, 32, 32])\n",
      "Training : .storage/checkpoints/iid_resnet18_cifar10_clients_10_faulty_[0]_bsize_512_epochs_5_lr_0.001/faulty_client_0_noise_rate_0.1_classes.ckpt\n"
     ]
    },
    {
     "name": "stderr",
     "output_type": "stream",
     "text": [
      "Using 16bit native Automatic Mixed Precision (AMP)\n",
      "GPU available: True (cuda), used: True\n",
      "TPU available: False, using: 0 TPU cores\n",
      "IPU available: False, using: 0 IPUs\n",
      "HPU available: False, using: 0 HPUs\n"
     ]
    },
    {
     "name": "stdout",
     "output_type": "stream",
     "text": [
      "Train mod batch = 392, and drop_last = False\n"
     ]
    },
    {
     "name": "stderr",
     "output_type": "stream",
     "text": [
      "LOCAL_RANK: 0 - CUDA_VISIBLE_DEVICES: [0]\n"
     ]
    },
    {
     "name": "stdout",
     "output_type": "stream",
     "text": [
      "Epoch 4: 100%|██████████| 10/10 [00:01<00:00,  7.01it/s, loss=0.938, train_acc=0.635, train_loss=0.946, val_acc=0.564, val_loss=1.760]"
     ]
    },
    {
     "name": "stderr",
     "output_type": "stream",
     "text": [
      "`Trainer.fit` stopped: `max_epochs=5` reached.\n"
     ]
    },
    {
     "name": "stdout",
     "output_type": "stream",
     "text": [
      "Epoch 4: 100%|██████████| 10/10 [00:01<00:00,  6.99it/s, loss=0.938, train_acc=0.635, train_loss=0.946, val_acc=0.564, val_loss=1.760]\n",
      "Training : .storage/checkpoints/iid_resnet18_cifar10_clients_10_faulty_[0]_bsize_512_epochs_5_lr_0.001/client_1.ckpt\n"
     ]
    },
    {
     "name": "stderr",
     "output_type": "stream",
     "text": [
      "Using 16bit native Automatic Mixed Precision (AMP)\n",
      "GPU available: True (cuda), used: True\n",
      "TPU available: False, using: 0 TPU cores\n",
      "IPU available: False, using: 0 IPUs\n",
      "HPU available: False, using: 0 HPUs\n",
      "LOCAL_RANK: 0 - CUDA_VISIBLE_DEVICES: [0]\n"
     ]
    },
    {
     "name": "stdout",
     "output_type": "stream",
     "text": [
      "Train mod batch = 392, and drop_last = False\n",
      "Epoch 4: 100%|██████████| 10/10 [00:01<00:00,  7.16it/s, loss=0.772, train_acc=0.723, train_loss=0.762, val_acc=0.645, val_loss=1.290]"
     ]
    },
    {
     "name": "stderr",
     "output_type": "stream",
     "text": [
      "`Trainer.fit` stopped: `max_epochs=5` reached.\n"
     ]
    },
    {
     "name": "stdout",
     "output_type": "stream",
     "text": [
      "Epoch 4: 100%|██████████| 10/10 [00:01<00:00,  7.14it/s, loss=0.772, train_acc=0.723, train_loss=0.762, val_acc=0.645, val_loss=1.290]\n",
      "Training : .storage/checkpoints/iid_resnet18_cifar10_clients_10_faulty_[0]_bsize_512_epochs_5_lr_0.001/client_2.ckpt\n"
     ]
    },
    {
     "name": "stderr",
     "output_type": "stream",
     "text": [
      "Using 16bit native Automatic Mixed Precision (AMP)\n",
      "GPU available: True (cuda), used: True\n",
      "TPU available: False, using: 0 TPU cores\n",
      "IPU available: False, using: 0 IPUs\n",
      "HPU available: False, using: 0 HPUs\n",
      "LOCAL_RANK: 0 - CUDA_VISIBLE_DEVICES: [0]\n"
     ]
    },
    {
     "name": "stdout",
     "output_type": "stream",
     "text": [
      "Train mod batch = 392, and drop_last = False\n",
      "Epoch 4: 100%|██████████| 10/10 [00:01<00:00,  6.92it/s, loss=0.784, train_acc=0.737, train_loss=0.710, val_acc=0.632, val_loss=1.270]"
     ]
    },
    {
     "name": "stderr",
     "output_type": "stream",
     "text": [
      "`Trainer.fit` stopped: `max_epochs=5` reached.\n"
     ]
    },
    {
     "name": "stdout",
     "output_type": "stream",
     "text": [
      "Epoch 4: 100%|██████████| 10/10 [00:01<00:00,  6.90it/s, loss=0.784, train_acc=0.737, train_loss=0.710, val_acc=0.632, val_loss=1.270]\n",
      "Training : .storage/checkpoints/iid_resnet18_cifar10_clients_10_faulty_[0]_bsize_512_epochs_5_lr_0.001/client_3.ckpt\n"
     ]
    },
    {
     "name": "stderr",
     "output_type": "stream",
     "text": [
      "Using 16bit native Automatic Mixed Precision (AMP)\n",
      "GPU available: True (cuda), used: True\n",
      "TPU available: False, using: 0 TPU cores\n",
      "IPU available: False, using: 0 IPUs\n",
      "HPU available: False, using: 0 HPUs\n",
      "LOCAL_RANK: 0 - CUDA_VISIBLE_DEVICES: [0]\n"
     ]
    },
    {
     "name": "stdout",
     "output_type": "stream",
     "text": [
      "Train mod batch = 392, and drop_last = False\n",
      "Epoch 4: 100%|██████████| 10/10 [00:01<00:00,  7.08it/s, loss=0.736, train_acc=0.740, train_loss=0.756, val_acc=0.642, val_loss=1.390]"
     ]
    },
    {
     "name": "stderr",
     "output_type": "stream",
     "text": [
      "`Trainer.fit` stopped: `max_epochs=5` reached.\n"
     ]
    },
    {
     "name": "stdout",
     "output_type": "stream",
     "text": [
      "Epoch 4: 100%|██████████| 10/10 [00:01<00:00,  7.06it/s, loss=0.736, train_acc=0.740, train_loss=0.756, val_acc=0.642, val_loss=1.390]\n",
      "Training : .storage/checkpoints/iid_resnet18_cifar10_clients_10_faulty_[0]_bsize_512_epochs_5_lr_0.001/client_4.ckpt\n"
     ]
    },
    {
     "name": "stderr",
     "output_type": "stream",
     "text": [
      "Using 16bit native Automatic Mixed Precision (AMP)\n",
      "GPU available: True (cuda), used: True\n",
      "TPU available: False, using: 0 TPU cores\n",
      "IPU available: False, using: 0 IPUs\n",
      "HPU available: False, using: 0 HPUs\n",
      "LOCAL_RANK: 0 - CUDA_VISIBLE_DEVICES: [0]\n"
     ]
    },
    {
     "name": "stdout",
     "output_type": "stream",
     "text": [
      "Train mod batch = 392, and drop_last = False\n",
      "Epoch 4: 100%|██████████| 10/10 [00:01<00:00,  6.19it/s, loss=0.731, train_acc=0.756, train_loss=0.667, val_acc=0.646, val_loss=1.190]"
     ]
    },
    {
     "name": "stderr",
     "output_type": "stream",
     "text": [
      "`Trainer.fit` stopped: `max_epochs=5` reached.\n"
     ]
    },
    {
     "name": "stdout",
     "output_type": "stream",
     "text": [
      "Epoch 4: 100%|██████████| 10/10 [00:01<00:00,  6.18it/s, loss=0.731, train_acc=0.756, train_loss=0.667, val_acc=0.646, val_loss=1.190]\n",
      "Training : .storage/checkpoints/iid_resnet18_cifar10_clients_10_faulty_[0]_bsize_512_epochs_5_lr_0.001/client_5.ckpt\n"
     ]
    },
    {
     "name": "stderr",
     "output_type": "stream",
     "text": [
      "Using 16bit native Automatic Mixed Precision (AMP)\n",
      "GPU available: True (cuda), used: True\n",
      "TPU available: False, using: 0 TPU cores\n",
      "IPU available: False, using: 0 IPUs\n",
      "HPU available: False, using: 0 HPUs\n",
      "LOCAL_RANK: 0 - CUDA_VISIBLE_DEVICES: [0]\n"
     ]
    },
    {
     "name": "stdout",
     "output_type": "stream",
     "text": [
      "Train mod batch = 392, and drop_last = False\n",
      "Epoch 4: 100%|██████████| 10/10 [00:01<00:00,  6.85it/s, loss=0.767, train_acc=0.761, train_loss=0.704, val_acc=0.648, val_loss=1.240]"
     ]
    },
    {
     "name": "stderr",
     "output_type": "stream",
     "text": [
      "`Trainer.fit` stopped: `max_epochs=5` reached.\n"
     ]
    },
    {
     "name": "stdout",
     "output_type": "stream",
     "text": [
      "Epoch 4: 100%|██████████| 10/10 [00:01<00:00,  6.82it/s, loss=0.767, train_acc=0.761, train_loss=0.704, val_acc=0.648, val_loss=1.240]\n",
      "Training : .storage/checkpoints/iid_resnet18_cifar10_clients_10_faulty_[0]_bsize_512_epochs_5_lr_0.001/client_6.ckpt\n"
     ]
    },
    {
     "name": "stderr",
     "output_type": "stream",
     "text": [
      "Using 16bit native Automatic Mixed Precision (AMP)\n",
      "GPU available: True (cuda), used: True\n",
      "TPU available: False, using: 0 TPU cores\n",
      "IPU available: False, using: 0 IPUs\n",
      "HPU available: False, using: 0 HPUs\n",
      "LOCAL_RANK: 0 - CUDA_VISIBLE_DEVICES: [0]\n"
     ]
    },
    {
     "name": "stdout",
     "output_type": "stream",
     "text": [
      "Train mod batch = 392, and drop_last = False\n",
      "Epoch 4: 100%|██████████| 10/10 [00:01<00:00,  6.74it/s, loss=0.739, train_acc=0.787, train_loss=0.608, val_acc=0.628, val_loss=1.480]"
     ]
    },
    {
     "name": "stderr",
     "output_type": "stream",
     "text": [
      "`Trainer.fit` stopped: `max_epochs=5` reached.\n"
     ]
    },
    {
     "name": "stdout",
     "output_type": "stream",
     "text": [
      "Epoch 4: 100%|██████████| 10/10 [00:01<00:00,  6.72it/s, loss=0.739, train_acc=0.787, train_loss=0.608, val_acc=0.628, val_loss=1.480]\n",
      "Training : .storage/checkpoints/iid_resnet18_cifar10_clients_10_faulty_[0]_bsize_512_epochs_5_lr_0.001/client_7.ckpt\n"
     ]
    },
    {
     "name": "stderr",
     "output_type": "stream",
     "text": [
      "Using 16bit native Automatic Mixed Precision (AMP)\n",
      "GPU available: True (cuda), used: True\n",
      "TPU available: False, using: 0 TPU cores\n",
      "IPU available: False, using: 0 IPUs\n",
      "HPU available: False, using: 0 HPUs\n",
      "LOCAL_RANK: 0 - CUDA_VISIBLE_DEVICES: [0]\n"
     ]
    },
    {
     "name": "stdout",
     "output_type": "stream",
     "text": [
      "Train mod batch = 392, and drop_last = False\n",
      "Epoch 4: 100%|██████████| 10/10 [00:01<00:00,  6.15it/s, loss=0.725, train_acc=0.743, train_loss=0.658, val_acc=0.654, val_loss=1.180]"
     ]
    },
    {
     "name": "stderr",
     "output_type": "stream",
     "text": [
      "`Trainer.fit` stopped: `max_epochs=5` reached.\n"
     ]
    },
    {
     "name": "stdout",
     "output_type": "stream",
     "text": [
      "Epoch 4: 100%|██████████| 10/10 [00:01<00:00,  6.13it/s, loss=0.725, train_acc=0.743, train_loss=0.658, val_acc=0.654, val_loss=1.180]\n",
      "Training : .storage/checkpoints/iid_resnet18_cifar10_clients_10_faulty_[0]_bsize_512_epochs_5_lr_0.001/client_8.ckpt\n"
     ]
    },
    {
     "name": "stderr",
     "output_type": "stream",
     "text": [
      "Using 16bit native Automatic Mixed Precision (AMP)\n",
      "GPU available: True (cuda), used: True\n",
      "TPU available: False, using: 0 TPU cores\n",
      "IPU available: False, using: 0 IPUs\n",
      "HPU available: False, using: 0 HPUs\n",
      "LOCAL_RANK: 0 - CUDA_VISIBLE_DEVICES: [0]\n"
     ]
    },
    {
     "name": "stdout",
     "output_type": "stream",
     "text": [
      "Train mod batch = 392, and drop_last = False\n",
      "Epoch 4: 100%|██████████| 10/10 [00:01<00:00,  6.96it/s, loss=0.73, train_acc=0.781, train_loss=0.721, val_acc=0.619, val_loss=1.750] "
     ]
    },
    {
     "name": "stderr",
     "output_type": "stream",
     "text": [
      "`Trainer.fit` stopped: `max_epochs=5` reached.\n"
     ]
    },
    {
     "name": "stdout",
     "output_type": "stream",
     "text": [
      "Epoch 4: 100%|██████████| 10/10 [00:01<00:00,  6.94it/s, loss=0.73, train_acc=0.781, train_loss=0.721, val_acc=0.619, val_loss=1.750]\n",
      "Training : .storage/checkpoints/iid_resnet18_cifar10_clients_10_faulty_[0]_bsize_512_epochs_5_lr_0.001/client_9.ckpt\n"
     ]
    },
    {
     "name": "stderr",
     "output_type": "stream",
     "text": [
      "Using 16bit native Automatic Mixed Precision (AMP)\n",
      "GPU available: True (cuda), used: True\n",
      "TPU available: False, using: 0 TPU cores\n",
      "IPU available: False, using: 0 IPUs\n",
      "HPU available: False, using: 0 HPUs\n",
      "LOCAL_RANK: 0 - CUDA_VISIBLE_DEVICES: [0]\n"
     ]
    },
    {
     "name": "stdout",
     "output_type": "stream",
     "text": [
      "Train mod batch = 392, and drop_last = False\n",
      "Epoch 4: 100%|██████████| 10/10 [00:01<00:00,  6.34it/s, loss=0.719, train_acc=0.795, train_loss=0.581, val_acc=0.652, val_loss=1.200]"
     ]
    },
    {
     "name": "stderr",
     "output_type": "stream",
     "text": [
      "`Trainer.fit` stopped: `max_epochs=5` reached.\n"
     ]
    },
    {
     "name": "stdout",
     "output_type": "stream",
     "text": [
      "Epoch 4: 100%|██████████| 10/10 [00:01<00:00,  6.32it/s, loss=0.719, train_acc=0.795, train_loss=0.581, val_acc=0.652, val_loss=1.200]\n",
      "Total clients: 10\n",
      "++Training is done: iid_resnet18_cifar10_clients_10_faulty_[0]_bsize_512_epochs_5_lr_0.001\n",
      ">  Running FaultyClientLocalization ..\n",
      "Same prediction threshold 5\n",
      ">> Deubg: Simple Random inputs\n",
      "+++ Faulty Clients {9}\n",
      "+++ Faulty Clients {9}\n",
      "+++ Faulty Clients {0}\n",
      "+++ Faulty Clients {9}\n",
      "+++ Faulty Clients {0}\n",
      "+++ Faulty Clients {9}\n",
      "+++ Faulty Clients {0}\n",
      "+++ Faulty Clients {0}\n",
      "+++ Faulty Clients {9}\n",
      "+++ Faulty Clients {0}\n",
      "Fault Localization Acc: 50.0\n",
      "Gloabl Model Test Acc: 69.24, Noise Rate: 0.1, Fault Acc: 50.0\n",
      "\n",
      "\n",
      "  ***Simulating FL setup iid_resnet18_cifar10_clients_10_faulty_[0]_bsize_512_epochs_5_lr_0.001 ***\n",
      "Files already downloaded and verified\n",
      "Files already downloaded and verified\n",
      "Spliting Datasets 50000 into parts:[5000, 5000, 5000, 5000, 5000, 5000, 5000, 5000, 5000, 5000]\n",
      "input shape, torch.Size([1, 3, 32, 32])\n",
      "Training : .storage/checkpoints/iid_resnet18_cifar10_clients_10_faulty_[0]_bsize_512_epochs_5_lr_0.001/faulty_client_0_noise_rate_0.3_classes.ckpt\n"
     ]
    },
    {
     "name": "stderr",
     "output_type": "stream",
     "text": [
      "Using 16bit native Automatic Mixed Precision (AMP)\n",
      "GPU available: True (cuda), used: True\n",
      "TPU available: False, using: 0 TPU cores\n",
      "IPU available: False, using: 0 IPUs\n",
      "HPU available: False, using: 0 HPUs\n",
      "LOCAL_RANK: 0 - CUDA_VISIBLE_DEVICES: [0]\n"
     ]
    },
    {
     "name": "stdout",
     "output_type": "stream",
     "text": [
      "Train mod batch = 392, and drop_last = False\n",
      "Epoch 4: 100%|██████████| 10/10 [00:01<00:00,  6.16it/s, loss=1.22, train_acc=0.470, train_loss=1.190, val_acc=0.425, val_loss=2.850]"
     ]
    },
    {
     "name": "stderr",
     "output_type": "stream",
     "text": [
      "`Trainer.fit` stopped: `max_epochs=5` reached.\n"
     ]
    },
    {
     "name": "stdout",
     "output_type": "stream",
     "text": [
      "Epoch 4: 100%|██████████| 10/10 [00:01<00:00,  6.14it/s, loss=1.22, train_acc=0.470, train_loss=1.190, val_acc=0.425, val_loss=2.850]\n",
      "Training : .storage/checkpoints/iid_resnet18_cifar10_clients_10_faulty_[0]_bsize_512_epochs_5_lr_0.001/client_1.ckpt\n"
     ]
    },
    {
     "name": "stderr",
     "output_type": "stream",
     "text": [
      "Using 16bit native Automatic Mixed Precision (AMP)\n",
      "GPU available: True (cuda), used: True\n",
      "TPU available: False, using: 0 TPU cores\n",
      "IPU available: False, using: 0 IPUs\n",
      "HPU available: False, using: 0 HPUs\n",
      "LOCAL_RANK: 0 - CUDA_VISIBLE_DEVICES: [0]\n"
     ]
    },
    {
     "name": "stdout",
     "output_type": "stream",
     "text": [
      "Train mod batch = 392, and drop_last = False\n",
      "Epoch 4: 100%|██████████| 10/10 [00:01<00:00,  6.43it/s, loss=0.763, train_acc=0.739, train_loss=0.701, val_acc=0.633, val_loss=1.330]"
     ]
    },
    {
     "name": "stderr",
     "output_type": "stream",
     "text": [
      "`Trainer.fit` stopped: `max_epochs=5` reached.\n"
     ]
    },
    {
     "name": "stdout",
     "output_type": "stream",
     "text": [
      "Epoch 4: 100%|██████████| 10/10 [00:01<00:00,  6.42it/s, loss=0.763, train_acc=0.739, train_loss=0.701, val_acc=0.633, val_loss=1.330]\n",
      "Training : .storage/checkpoints/iid_resnet18_cifar10_clients_10_faulty_[0]_bsize_512_epochs_5_lr_0.001/client_2.ckpt\n"
     ]
    },
    {
     "name": "stderr",
     "output_type": "stream",
     "text": [
      "Using 16bit native Automatic Mixed Precision (AMP)\n",
      "GPU available: True (cuda), used: True\n",
      "TPU available: False, using: 0 TPU cores\n",
      "IPU available: False, using: 0 IPUs\n",
      "HPU available: False, using: 0 HPUs\n",
      "LOCAL_RANK: 0 - CUDA_VISIBLE_DEVICES: [0]\n"
     ]
    },
    {
     "name": "stdout",
     "output_type": "stream",
     "text": [
      "Train mod batch = 392, and drop_last = False\n",
      "Epoch 4: 100%|██████████| 10/10 [00:01<00:00,  6.20it/s, loss=0.765, train_acc=0.752, train_loss=0.712, val_acc=0.638, val_loss=1.180]"
     ]
    },
    {
     "name": "stderr",
     "output_type": "stream",
     "text": [
      "`Trainer.fit` stopped: `max_epochs=5` reached.\n"
     ]
    },
    {
     "name": "stdout",
     "output_type": "stream",
     "text": [
      "Epoch 4: 100%|██████████| 10/10 [00:01<00:00,  6.19it/s, loss=0.765, train_acc=0.752, train_loss=0.712, val_acc=0.638, val_loss=1.180]\n",
      "Training : .storage/checkpoints/iid_resnet18_cifar10_clients_10_faulty_[0]_bsize_512_epochs_5_lr_0.001/client_3.ckpt\n"
     ]
    },
    {
     "name": "stderr",
     "output_type": "stream",
     "text": [
      "Using 16bit native Automatic Mixed Precision (AMP)\n",
      "GPU available: True (cuda), used: True\n",
      "TPU available: False, using: 0 TPU cores\n",
      "IPU available: False, using: 0 IPUs\n",
      "HPU available: False, using: 0 HPUs\n",
      "LOCAL_RANK: 0 - CUDA_VISIBLE_DEVICES: [0]\n"
     ]
    },
    {
     "name": "stdout",
     "output_type": "stream",
     "text": [
      "Train mod batch = 392, and drop_last = False\n",
      "Epoch 4: 100%|██████████| 10/10 [00:01<00:00,  6.03it/s, loss=0.743, train_acc=0.777, train_loss=0.729, val_acc=0.642, val_loss=1.190]"
     ]
    },
    {
     "name": "stderr",
     "output_type": "stream",
     "text": [
      "`Trainer.fit` stopped: `max_epochs=5` reached.\n"
     ]
    },
    {
     "name": "stdout",
     "output_type": "stream",
     "text": [
      "Epoch 4: 100%|██████████| 10/10 [00:01<00:00,  6.02it/s, loss=0.743, train_acc=0.777, train_loss=0.729, val_acc=0.642, val_loss=1.190]\n",
      "Training : .storage/checkpoints/iid_resnet18_cifar10_clients_10_faulty_[0]_bsize_512_epochs_5_lr_0.001/client_4.ckpt\n"
     ]
    },
    {
     "name": "stderr",
     "output_type": "stream",
     "text": [
      "Using 16bit native Automatic Mixed Precision (AMP)\n",
      "GPU available: True (cuda), used: True\n",
      "TPU available: False, using: 0 TPU cores\n",
      "IPU available: False, using: 0 IPUs\n",
      "HPU available: False, using: 0 HPUs\n",
      "LOCAL_RANK: 0 - CUDA_VISIBLE_DEVICES: [0]\n"
     ]
    },
    {
     "name": "stdout",
     "output_type": "stream",
     "text": [
      "Train mod batch = 392, and drop_last = False\n",
      "Epoch 4: 100%|██████████| 10/10 [00:01<00:00,  6.14it/s, loss=0.771, train_acc=0.689, train_loss=0.842, val_acc=0.630, val_loss=1.430]"
     ]
    },
    {
     "name": "stderr",
     "output_type": "stream",
     "text": [
      "`Trainer.fit` stopped: `max_epochs=5` reached.\n"
     ]
    },
    {
     "name": "stdout",
     "output_type": "stream",
     "text": [
      "Epoch 4: 100%|██████████| 10/10 [00:01<00:00,  6.12it/s, loss=0.771, train_acc=0.689, train_loss=0.842, val_acc=0.630, val_loss=1.430]\n",
      "Training : .storage/checkpoints/iid_resnet18_cifar10_clients_10_faulty_[0]_bsize_512_epochs_5_lr_0.001/client_5.ckpt\n"
     ]
    },
    {
     "name": "stderr",
     "output_type": "stream",
     "text": [
      "Using 16bit native Automatic Mixed Precision (AMP)\n",
      "GPU available: True (cuda), used: True\n",
      "TPU available: False, using: 0 TPU cores\n",
      "IPU available: False, using: 0 IPUs\n",
      "HPU available: False, using: 0 HPUs\n",
      "LOCAL_RANK: 0 - CUDA_VISIBLE_DEVICES: [0]\n"
     ]
    },
    {
     "name": "stdout",
     "output_type": "stream",
     "text": [
      "Train mod batch = 392, and drop_last = False\n",
      "Epoch 4: 100%|██████████| 10/10 [00:01<00:00,  5.82it/s, loss=0.753, train_acc=0.749, train_loss=0.750, val_acc=0.632, val_loss=1.460]"
     ]
    },
    {
     "name": "stderr",
     "output_type": "stream",
     "text": [
      "`Trainer.fit` stopped: `max_epochs=5` reached.\n"
     ]
    },
    {
     "name": "stdout",
     "output_type": "stream",
     "text": [
      "Epoch 4: 100%|██████████| 10/10 [00:01<00:00,  5.81it/s, loss=0.753, train_acc=0.749, train_loss=0.750, val_acc=0.632, val_loss=1.460]\n",
      "Training : .storage/checkpoints/iid_resnet18_cifar10_clients_10_faulty_[0]_bsize_512_epochs_5_lr_0.001/client_6.ckpt\n"
     ]
    },
    {
     "name": "stderr",
     "output_type": "stream",
     "text": [
      "Using 16bit native Automatic Mixed Precision (AMP)\n",
      "GPU available: True (cuda), used: True\n",
      "TPU available: False, using: 0 TPU cores\n",
      "IPU available: False, using: 0 IPUs\n",
      "HPU available: False, using: 0 HPUs\n",
      "LOCAL_RANK: 0 - CUDA_VISIBLE_DEVICES: [0]\n"
     ]
    },
    {
     "name": "stdout",
     "output_type": "stream",
     "text": [
      "Train mod batch = 392, and drop_last = False\n",
      "Epoch 4: 100%|██████████| 10/10 [00:01<00:00,  6.03it/s, loss=0.763, train_acc=0.778, train_loss=0.643, val_acc=0.638, val_loss=1.180]"
     ]
    },
    {
     "name": "stderr",
     "output_type": "stream",
     "text": [
      "`Trainer.fit` stopped: `max_epochs=5` reached.\n"
     ]
    },
    {
     "name": "stdout",
     "output_type": "stream",
     "text": [
      "Epoch 4: 100%|██████████| 10/10 [00:01<00:00,  6.02it/s, loss=0.763, train_acc=0.778, train_loss=0.643, val_acc=0.638, val_loss=1.180]\n",
      "Training : .storage/checkpoints/iid_resnet18_cifar10_clients_10_faulty_[0]_bsize_512_epochs_5_lr_0.001/client_7.ckpt\n"
     ]
    },
    {
     "name": "stderr",
     "output_type": "stream",
     "text": [
      "Using 16bit native Automatic Mixed Precision (AMP)\n",
      "GPU available: True (cuda), used: True\n",
      "TPU available: False, using: 0 TPU cores\n",
      "IPU available: False, using: 0 IPUs\n",
      "HPU available: False, using: 0 HPUs\n",
      "LOCAL_RANK: 0 - CUDA_VISIBLE_DEVICES: [0]\n"
     ]
    },
    {
     "name": "stdout",
     "output_type": "stream",
     "text": [
      "Train mod batch = 392, and drop_last = False\n",
      "Epoch 4: 100%|██████████| 10/10 [00:01<00:00,  6.24it/s, loss=0.738, train_acc=0.753, train_loss=0.695, val_acc=0.633, val_loss=1.410]"
     ]
    },
    {
     "name": "stderr",
     "output_type": "stream",
     "text": [
      "`Trainer.fit` stopped: `max_epochs=5` reached.\n"
     ]
    },
    {
     "name": "stdout",
     "output_type": "stream",
     "text": [
      "Epoch 4: 100%|██████████| 10/10 [00:01<00:00,  6.22it/s, loss=0.738, train_acc=0.753, train_loss=0.695, val_acc=0.633, val_loss=1.410]\n",
      "Training : .storage/checkpoints/iid_resnet18_cifar10_clients_10_faulty_[0]_bsize_512_epochs_5_lr_0.001/client_8.ckpt\n"
     ]
    },
    {
     "name": "stderr",
     "output_type": "stream",
     "text": [
      "Using 16bit native Automatic Mixed Precision (AMP)\n",
      "GPU available: True (cuda), used: True\n",
      "TPU available: False, using: 0 TPU cores\n",
      "IPU available: False, using: 0 IPUs\n",
      "HPU available: False, using: 0 HPUs\n",
      "LOCAL_RANK: 0 - CUDA_VISIBLE_DEVICES: [0]\n"
     ]
    },
    {
     "name": "stdout",
     "output_type": "stream",
     "text": [
      "Train mod batch = 392, and drop_last = False\n",
      "Epoch 4: 100%|██████████| 10/10 [00:01<00:00,  5.82it/s, loss=0.755, train_acc=0.747, train_loss=0.780, val_acc=0.637, val_loss=1.290]"
     ]
    },
    {
     "name": "stderr",
     "output_type": "stream",
     "text": [
      "`Trainer.fit` stopped: `max_epochs=5` reached.\n"
     ]
    },
    {
     "name": "stdout",
     "output_type": "stream",
     "text": [
      "Epoch 4: 100%|██████████| 10/10 [00:01<00:00,  5.81it/s, loss=0.755, train_acc=0.747, train_loss=0.780, val_acc=0.637, val_loss=1.290]\n",
      "Training : .storage/checkpoints/iid_resnet18_cifar10_clients_10_faulty_[0]_bsize_512_epochs_5_lr_0.001/client_9.ckpt\n"
     ]
    },
    {
     "name": "stderr",
     "output_type": "stream",
     "text": [
      "Using 16bit native Automatic Mixed Precision (AMP)\n",
      "GPU available: True (cuda), used: True\n",
      "TPU available: False, using: 0 TPU cores\n",
      "IPU available: False, using: 0 IPUs\n",
      "HPU available: False, using: 0 HPUs\n",
      "LOCAL_RANK: 0 - CUDA_VISIBLE_DEVICES: [0]\n"
     ]
    },
    {
     "name": "stdout",
     "output_type": "stream",
     "text": [
      "Train mod batch = 392, and drop_last = False\n",
      "Epoch 4: 100%|██████████| 10/10 [00:01<00:00,  5.67it/s, loss=0.717, train_acc=0.803, train_loss=0.564, val_acc=0.667, val_loss=1.220]"
     ]
    },
    {
     "name": "stderr",
     "output_type": "stream",
     "text": [
      "`Trainer.fit` stopped: `max_epochs=5` reached.\n"
     ]
    },
    {
     "name": "stdout",
     "output_type": "stream",
     "text": [
      "Epoch 4: 100%|██████████| 10/10 [00:01<00:00,  5.65it/s, loss=0.717, train_acc=0.803, train_loss=0.564, val_acc=0.667, val_loss=1.220]\n",
      "Total clients: 10\n",
      "++Training is done: iid_resnet18_cifar10_clients_10_faulty_[0]_bsize_512_epochs_5_lr_0.001\n",
      ">  Running FaultyClientLocalization ..\n",
      "Same prediction threshold 5\n",
      ">> Deubg: Simple Random inputs\n",
      "+++ Faulty Clients {1}\n",
      "+++ Faulty Clients {1}\n",
      "+++ Faulty Clients {1}\n",
      "+++ Faulty Clients {1}\n",
      "+++ Faulty Clients {1}\n",
      "+++ Faulty Clients {1}\n",
      "+++ Faulty Clients {1}\n",
      "+++ Faulty Clients {1}\n",
      "+++ Faulty Clients {1}\n",
      "+++ Faulty Clients {1}\n",
      "Fault Localization Acc: 0.0\n",
      "Gloabl Model Test Acc: 69.32, Noise Rate: 0.3, Fault Acc: 0.0\n",
      "\n",
      "\n",
      "  ***Simulating FL setup iid_resnet18_cifar10_clients_10_faulty_[0]_bsize_512_epochs_5_lr_0.001 ***\n",
      "Files already downloaded and verified\n",
      "Files already downloaded and verified\n",
      "Spliting Datasets 50000 into parts:[5000, 5000, 5000, 5000, 5000, 5000, 5000, 5000, 5000, 5000]\n",
      "input shape, torch.Size([1, 3, 32, 32])\n",
      "Training : .storage/checkpoints/iid_resnet18_cifar10_clients_10_faulty_[0]_bsize_512_epochs_5_lr_0.001/faulty_client_0_noise_rate_0.5_classes.ckpt\n"
     ]
    },
    {
     "name": "stderr",
     "output_type": "stream",
     "text": [
      "Using 16bit native Automatic Mixed Precision (AMP)\n",
      "GPU available: True (cuda), used: True\n",
      "TPU available: False, using: 0 TPU cores\n",
      "IPU available: False, using: 0 IPUs\n",
      "HPU available: False, using: 0 HPUs\n",
      "LOCAL_RANK: 0 - CUDA_VISIBLE_DEVICES: [0]\n"
     ]
    },
    {
     "name": "stdout",
     "output_type": "stream",
     "text": [
      "Train mod batch = 392, and drop_last = False\n",
      "Epoch 4: 100%|██████████| 10/10 [00:01<00:00,  5.91it/s, loss=1.63, train_acc=0.328, train_loss=1.580, val_acc=0.273, val_loss=2.190]"
     ]
    },
    {
     "name": "stderr",
     "output_type": "stream",
     "text": [
      "`Trainer.fit` stopped: `max_epochs=5` reached.\n"
     ]
    },
    {
     "name": "stdout",
     "output_type": "stream",
     "text": [
      "Epoch 4: 100%|██████████| 10/10 [00:01<00:00,  5.90it/s, loss=1.63, train_acc=0.328, train_loss=1.580, val_acc=0.273, val_loss=2.190]\n",
      "Training : .storage/checkpoints/iid_resnet18_cifar10_clients_10_faulty_[0]_bsize_512_epochs_5_lr_0.001/client_1.ckpt\n"
     ]
    },
    {
     "name": "stderr",
     "output_type": "stream",
     "text": [
      "Using 16bit native Automatic Mixed Precision (AMP)\n",
      "GPU available: True (cuda), used: True\n",
      "TPU available: False, using: 0 TPU cores\n",
      "IPU available: False, using: 0 IPUs\n",
      "HPU available: False, using: 0 HPUs\n",
      "LOCAL_RANK: 0 - CUDA_VISIBLE_DEVICES: [0]\n"
     ]
    },
    {
     "name": "stdout",
     "output_type": "stream",
     "text": [
      "Train mod batch = 392, and drop_last = False\n",
      "Epoch 4: 100%|██████████| 10/10 [00:01<00:00,  5.91it/s, loss=0.742, train_acc=0.799, train_loss=0.590, val_acc=0.649, val_loss=1.240]"
     ]
    },
    {
     "name": "stderr",
     "output_type": "stream",
     "text": [
      "`Trainer.fit` stopped: `max_epochs=5` reached.\n"
     ]
    },
    {
     "name": "stdout",
     "output_type": "stream",
     "text": [
      "Epoch 4: 100%|██████████| 10/10 [00:01<00:00,  5.90it/s, loss=0.742, train_acc=0.799, train_loss=0.590, val_acc=0.649, val_loss=1.240]\n",
      "Training : .storage/checkpoints/iid_resnet18_cifar10_clients_10_faulty_[0]_bsize_512_epochs_5_lr_0.001/client_2.ckpt\n"
     ]
    },
    {
     "name": "stderr",
     "output_type": "stream",
     "text": [
      "Using 16bit native Automatic Mixed Precision (AMP)\n",
      "GPU available: True (cuda), used: True\n",
      "TPU available: False, using: 0 TPU cores\n",
      "IPU available: False, using: 0 IPUs\n",
      "HPU available: False, using: 0 HPUs\n",
      "LOCAL_RANK: 0 - CUDA_VISIBLE_DEVICES: [0]\n"
     ]
    },
    {
     "name": "stdout",
     "output_type": "stream",
     "text": [
      "Train mod batch = 392, and drop_last = False\n",
      "Epoch 4: 100%|██████████| 10/10 [00:01<00:00,  5.96it/s, loss=0.762, train_acc=0.726, train_loss=0.781, val_acc=0.620, val_loss=1.420]"
     ]
    },
    {
     "name": "stderr",
     "output_type": "stream",
     "text": [
      "`Trainer.fit` stopped: `max_epochs=5` reached.\n"
     ]
    },
    {
     "name": "stdout",
     "output_type": "stream",
     "text": [
      "Epoch 4: 100%|██████████| 10/10 [00:01<00:00,  5.95it/s, loss=0.762, train_acc=0.726, train_loss=0.781, val_acc=0.620, val_loss=1.420]\n",
      "Training : .storage/checkpoints/iid_resnet18_cifar10_clients_10_faulty_[0]_bsize_512_epochs_5_lr_0.001/client_3.ckpt\n"
     ]
    },
    {
     "name": "stderr",
     "output_type": "stream",
     "text": [
      "Using 16bit native Automatic Mixed Precision (AMP)\n",
      "GPU available: True (cuda), used: True\n",
      "TPU available: False, using: 0 TPU cores\n",
      "IPU available: False, using: 0 IPUs\n",
      "HPU available: False, using: 0 HPUs\n",
      "LOCAL_RANK: 0 - CUDA_VISIBLE_DEVICES: [0]\n"
     ]
    },
    {
     "name": "stdout",
     "output_type": "stream",
     "text": [
      "Train mod batch = 392, and drop_last = False\n",
      "Epoch 4: 100%|██████████| 10/10 [00:01<00:00,  5.94it/s, loss=0.807, train_acc=0.757, train_loss=0.655, val_acc=0.609, val_loss=1.420]"
     ]
    },
    {
     "name": "stderr",
     "output_type": "stream",
     "text": [
      "`Trainer.fit` stopped: `max_epochs=5` reached.\n"
     ]
    },
    {
     "name": "stdout",
     "output_type": "stream",
     "text": [
      "Epoch 4: 100%|██████████| 10/10 [00:01<00:00,  5.92it/s, loss=0.807, train_acc=0.757, train_loss=0.655, val_acc=0.609, val_loss=1.420]\n",
      "Training : .storage/checkpoints/iid_resnet18_cifar10_clients_10_faulty_[0]_bsize_512_epochs_5_lr_0.001/client_4.ckpt\n"
     ]
    },
    {
     "name": "stderr",
     "output_type": "stream",
     "text": [
      "Using 16bit native Automatic Mixed Precision (AMP)\n",
      "GPU available: True (cuda), used: True\n",
      "TPU available: False, using: 0 TPU cores\n",
      "IPU available: False, using: 0 IPUs\n",
      "HPU available: False, using: 0 HPUs\n",
      "LOCAL_RANK: 0 - CUDA_VISIBLE_DEVICES: [0]\n"
     ]
    },
    {
     "name": "stdout",
     "output_type": "stream",
     "text": [
      "Train mod batch = 392, and drop_last = False\n",
      "Epoch 4: 100%|██████████| 10/10 [00:01<00:00,  5.98it/s, loss=0.748, train_acc=0.777, train_loss=0.655, val_acc=0.625, val_loss=1.390]"
     ]
    },
    {
     "name": "stderr",
     "output_type": "stream",
     "text": [
      "`Trainer.fit` stopped: `max_epochs=5` reached.\n"
     ]
    },
    {
     "name": "stdout",
     "output_type": "stream",
     "text": [
      "Epoch 4: 100%|██████████| 10/10 [00:01<00:00,  5.97it/s, loss=0.748, train_acc=0.777, train_loss=0.655, val_acc=0.625, val_loss=1.390]\n",
      "Training : .storage/checkpoints/iid_resnet18_cifar10_clients_10_faulty_[0]_bsize_512_epochs_5_lr_0.001/client_5.ckpt\n"
     ]
    },
    {
     "name": "stderr",
     "output_type": "stream",
     "text": [
      "Using 16bit native Automatic Mixed Precision (AMP)\n",
      "GPU available: True (cuda), used: True\n",
      "TPU available: False, using: 0 TPU cores\n",
      "IPU available: False, using: 0 IPUs\n",
      "HPU available: False, using: 0 HPUs\n",
      "LOCAL_RANK: 0 - CUDA_VISIBLE_DEVICES: [0]\n"
     ]
    },
    {
     "name": "stdout",
     "output_type": "stream",
     "text": [
      "Train mod batch = 392, and drop_last = False\n",
      "Epoch 4: 100%|██████████| 10/10 [00:01<00:00,  5.87it/s, loss=0.76, train_acc=0.732, train_loss=0.757, val_acc=0.638, val_loss=1.310] "
     ]
    },
    {
     "name": "stderr",
     "output_type": "stream",
     "text": [
      "`Trainer.fit` stopped: `max_epochs=5` reached.\n"
     ]
    },
    {
     "name": "stdout",
     "output_type": "stream",
     "text": [
      "Epoch 4: 100%|██████████| 10/10 [00:01<00:00,  5.85it/s, loss=0.76, train_acc=0.732, train_loss=0.757, val_acc=0.638, val_loss=1.310]\n",
      "Training : .storage/checkpoints/iid_resnet18_cifar10_clients_10_faulty_[0]_bsize_512_epochs_5_lr_0.001/client_6.ckpt\n"
     ]
    },
    {
     "name": "stderr",
     "output_type": "stream",
     "text": [
      "Using 16bit native Automatic Mixed Precision (AMP)\n",
      "GPU available: True (cuda), used: True\n",
      "TPU available: False, using: 0 TPU cores\n",
      "IPU available: False, using: 0 IPUs\n",
      "HPU available: False, using: 0 HPUs\n",
      "LOCAL_RANK: 0 - CUDA_VISIBLE_DEVICES: [0]\n"
     ]
    },
    {
     "name": "stdout",
     "output_type": "stream",
     "text": [
      "Train mod batch = 392, and drop_last = False\n",
      "Epoch 4: 100%|██████████| 10/10 [00:01<00:00,  5.90it/s, loss=0.738, train_acc=0.756, train_loss=0.726, val_acc=0.661, val_loss=1.240]"
     ]
    },
    {
     "name": "stderr",
     "output_type": "stream",
     "text": [
      "`Trainer.fit` stopped: `max_epochs=5` reached.\n"
     ]
    },
    {
     "name": "stdout",
     "output_type": "stream",
     "text": [
      "Epoch 4: 100%|██████████| 10/10 [00:01<00:00,  5.89it/s, loss=0.738, train_acc=0.756, train_loss=0.726, val_acc=0.661, val_loss=1.240]\n",
      "Training : .storage/checkpoints/iid_resnet18_cifar10_clients_10_faulty_[0]_bsize_512_epochs_5_lr_0.001/client_7.ckpt\n"
     ]
    },
    {
     "name": "stderr",
     "output_type": "stream",
     "text": [
      "Using 16bit native Automatic Mixed Precision (AMP)\n",
      "GPU available: True (cuda), used: True\n",
      "TPU available: False, using: 0 TPU cores\n",
      "IPU available: False, using: 0 IPUs\n",
      "HPU available: False, using: 0 HPUs\n",
      "LOCAL_RANK: 0 - CUDA_VISIBLE_DEVICES: [0]\n"
     ]
    },
    {
     "name": "stdout",
     "output_type": "stream",
     "text": [
      "Train mod batch = 392, and drop_last = False\n",
      "Epoch 4: 100%|██████████| 10/10 [00:01<00:00,  5.95it/s, loss=0.756, train_acc=0.753, train_loss=0.716, val_acc=0.638, val_loss=1.330]"
     ]
    },
    {
     "name": "stderr",
     "output_type": "stream",
     "text": [
      "`Trainer.fit` stopped: `max_epochs=5` reached.\n"
     ]
    },
    {
     "name": "stdout",
     "output_type": "stream",
     "text": [
      "Epoch 4: 100%|██████████| 10/10 [00:01<00:00,  5.94it/s, loss=0.756, train_acc=0.753, train_loss=0.716, val_acc=0.638, val_loss=1.330]\n",
      "Training : .storage/checkpoints/iid_resnet18_cifar10_clients_10_faulty_[0]_bsize_512_epochs_5_lr_0.001/client_8.ckpt\n"
     ]
    },
    {
     "name": "stderr",
     "output_type": "stream",
     "text": [
      "Using 16bit native Automatic Mixed Precision (AMP)\n",
      "GPU available: True (cuda), used: True\n",
      "TPU available: False, using: 0 TPU cores\n",
      "IPU available: False, using: 0 IPUs\n",
      "HPU available: False, using: 0 HPUs\n",
      "LOCAL_RANK: 0 - CUDA_VISIBLE_DEVICES: [0]\n"
     ]
    },
    {
     "name": "stdout",
     "output_type": "stream",
     "text": [
      "Train mod batch = 392, and drop_last = False\n",
      "Epoch 4: 100%|██████████| 10/10 [00:01<00:00,  5.76it/s, loss=0.776, train_acc=0.774, train_loss=0.694, val_acc=0.601, val_loss=1.640]"
     ]
    },
    {
     "name": "stderr",
     "output_type": "stream",
     "text": [
      "`Trainer.fit` stopped: `max_epochs=5` reached.\n"
     ]
    },
    {
     "name": "stdout",
     "output_type": "stream",
     "text": [
      "Epoch 4: 100%|██████████| 10/10 [00:01<00:00,  5.74it/s, loss=0.776, train_acc=0.774, train_loss=0.694, val_acc=0.601, val_loss=1.640]\n",
      "Training : .storage/checkpoints/iid_resnet18_cifar10_clients_10_faulty_[0]_bsize_512_epochs_5_lr_0.001/client_9.ckpt\n"
     ]
    },
    {
     "name": "stderr",
     "output_type": "stream",
     "text": [
      "Using 16bit native Automatic Mixed Precision (AMP)\n",
      "GPU available: True (cuda), used: True\n",
      "TPU available: False, using: 0 TPU cores\n",
      "IPU available: False, using: 0 IPUs\n",
      "HPU available: False, using: 0 HPUs\n",
      "LOCAL_RANK: 0 - CUDA_VISIBLE_DEVICES: [0]\n"
     ]
    },
    {
     "name": "stdout",
     "output_type": "stream",
     "text": [
      "Train mod batch = 392, and drop_last = False\n",
      "Epoch 4: 100%|██████████| 10/10 [00:01<00:00,  6.08it/s, loss=0.751, train_acc=0.773, train_loss=0.690, val_acc=0.640, val_loss=1.280]"
     ]
    },
    {
     "name": "stderr",
     "output_type": "stream",
     "text": [
      "`Trainer.fit` stopped: `max_epochs=5` reached.\n"
     ]
    },
    {
     "name": "stdout",
     "output_type": "stream",
     "text": [
      "Epoch 4: 100%|██████████| 10/10 [00:01<00:00,  6.06it/s, loss=0.751, train_acc=0.773, train_loss=0.690, val_acc=0.640, val_loss=1.280]\n",
      "Total clients: 10\n",
      "++Training is done: iid_resnet18_cifar10_clients_10_faulty_[0]_bsize_512_epochs_5_lr_0.001\n",
      ">  Running FaultyClientLocalization ..\n",
      "Same prediction threshold 5\n",
      ">> Deubg: Simple Random inputs\n",
      "+++ Faulty Clients {0}\n",
      "+++ Faulty Clients {0}\n",
      "+++ Faulty Clients {0}\n",
      "+++ Faulty Clients {0}\n",
      "+++ Faulty Clients {0}\n",
      "+++ Faulty Clients {0}\n",
      "+++ Faulty Clients {0}\n",
      "+++ Faulty Clients {0}\n",
      "+++ Faulty Clients {0}\n",
      "+++ Faulty Clients {0}\n",
      "Fault Localization Acc: 100.0\n",
      "Gloabl Model Test Acc: 67.16, Noise Rate: 0.5, Fault Acc: 100.0\n",
      "\n",
      "\n",
      "  ***Simulating FL setup iid_resnet18_cifar10_clients_10_faulty_[0]_bsize_512_epochs_5_lr_0.001 ***\n",
      "Files already downloaded and verified\n",
      "Files already downloaded and verified\n",
      "Spliting Datasets 50000 into parts:[5000, 5000, 5000, 5000, 5000, 5000, 5000, 5000, 5000, 5000]\n",
      "input shape, torch.Size([1, 3, 32, 32])\n",
      "Training : .storage/checkpoints/iid_resnet18_cifar10_clients_10_faulty_[0]_bsize_512_epochs_5_lr_0.001/faulty_client_0_noise_rate_0.7_classes.ckpt\n"
     ]
    },
    {
     "name": "stderr",
     "output_type": "stream",
     "text": [
      "Using 16bit native Automatic Mixed Precision (AMP)\n",
      "GPU available: True (cuda), used: True\n",
      "TPU available: False, using: 0 TPU cores\n",
      "IPU available: False, using: 0 IPUs\n",
      "HPU available: False, using: 0 HPUs\n",
      "LOCAL_RANK: 0 - CUDA_VISIBLE_DEVICES: [0]\n"
     ]
    },
    {
     "name": "stdout",
     "output_type": "stream",
     "text": [
      "Train mod batch = 392, and drop_last = False\n",
      "Epoch 4: 100%|██████████| 10/10 [00:01<00:00,  5.80it/s, loss=1.92, train_acc=0.193, train_loss=1.900, val_acc=0.178, val_loss=2.410]"
     ]
    },
    {
     "name": "stderr",
     "output_type": "stream",
     "text": [
      "`Trainer.fit` stopped: `max_epochs=5` reached.\n"
     ]
    },
    {
     "name": "stdout",
     "output_type": "stream",
     "text": [
      "Epoch 4: 100%|██████████| 10/10 [00:01<00:00,  5.78it/s, loss=1.92, train_acc=0.193, train_loss=1.900, val_acc=0.178, val_loss=2.410]\n",
      "Training : .storage/checkpoints/iid_resnet18_cifar10_clients_10_faulty_[0]_bsize_512_epochs_5_lr_0.001/client_1.ckpt\n"
     ]
    },
    {
     "name": "stderr",
     "output_type": "stream",
     "text": [
      "Using 16bit native Automatic Mixed Precision (AMP)\n",
      "GPU available: True (cuda), used: True\n",
      "TPU available: False, using: 0 TPU cores\n",
      "IPU available: False, using: 0 IPUs\n",
      "HPU available: False, using: 0 HPUs\n",
      "LOCAL_RANK: 0 - CUDA_VISIBLE_DEVICES: [0]\n"
     ]
    },
    {
     "name": "stdout",
     "output_type": "stream",
     "text": [
      "Train mod batch = 392, and drop_last = False\n",
      "Epoch 4: 100%|██████████| 10/10 [00:01<00:00,  5.68it/s, loss=0.745, train_acc=0.751, train_loss=0.783, val_acc=0.645, val_loss=1.110]"
     ]
    },
    {
     "name": "stderr",
     "output_type": "stream",
     "text": [
      "`Trainer.fit` stopped: `max_epochs=5` reached.\n"
     ]
    },
    {
     "name": "stdout",
     "output_type": "stream",
     "text": [
      "Epoch 4: 100%|██████████| 10/10 [00:01<00:00,  5.67it/s, loss=0.745, train_acc=0.751, train_loss=0.783, val_acc=0.645, val_loss=1.110]\n",
      "Training : .storage/checkpoints/iid_resnet18_cifar10_clients_10_faulty_[0]_bsize_512_epochs_5_lr_0.001/client_2.ckpt\n"
     ]
    },
    {
     "name": "stderr",
     "output_type": "stream",
     "text": [
      "Using 16bit native Automatic Mixed Precision (AMP)\n",
      "GPU available: True (cuda), used: True\n",
      "TPU available: False, using: 0 TPU cores\n",
      "IPU available: False, using: 0 IPUs\n",
      "HPU available: False, using: 0 HPUs\n",
      "LOCAL_RANK: 0 - CUDA_VISIBLE_DEVICES: [0]\n"
     ]
    },
    {
     "name": "stdout",
     "output_type": "stream",
     "text": [
      "Train mod batch = 392, and drop_last = False\n",
      "Epoch 4: 100%|██████████| 10/10 [00:01<00:00,  6.24it/s, loss=0.761, train_acc=0.779, train_loss=0.715, val_acc=0.637, val_loss=1.270]"
     ]
    },
    {
     "name": "stderr",
     "output_type": "stream",
     "text": [
      "`Trainer.fit` stopped: `max_epochs=5` reached.\n"
     ]
    },
    {
     "name": "stdout",
     "output_type": "stream",
     "text": [
      "Epoch 4: 100%|██████████| 10/10 [00:01<00:00,  6.23it/s, loss=0.761, train_acc=0.779, train_loss=0.715, val_acc=0.637, val_loss=1.270]\n",
      "Training : .storage/checkpoints/iid_resnet18_cifar10_clients_10_faulty_[0]_bsize_512_epochs_5_lr_0.001/client_3.ckpt\n"
     ]
    },
    {
     "name": "stderr",
     "output_type": "stream",
     "text": [
      "Using 16bit native Automatic Mixed Precision (AMP)\n",
      "GPU available: True (cuda), used: True\n",
      "TPU available: False, using: 0 TPU cores\n",
      "IPU available: False, using: 0 IPUs\n",
      "HPU available: False, using: 0 HPUs\n",
      "LOCAL_RANK: 0 - CUDA_VISIBLE_DEVICES: [0]\n"
     ]
    },
    {
     "name": "stdout",
     "output_type": "stream",
     "text": [
      "Train mod batch = 392, and drop_last = False\n",
      "Epoch 4: 100%|██████████| 10/10 [00:01<00:00,  5.55it/s, loss=0.75, train_acc=0.784, train_loss=0.710, val_acc=0.639, val_loss=1.210] "
     ]
    },
    {
     "name": "stderr",
     "output_type": "stream",
     "text": [
      "`Trainer.fit` stopped: `max_epochs=5` reached.\n"
     ]
    },
    {
     "name": "stdout",
     "output_type": "stream",
     "text": [
      "Epoch 4: 100%|██████████| 10/10 [00:01<00:00,  5.54it/s, loss=0.75, train_acc=0.784, train_loss=0.710, val_acc=0.639, val_loss=1.210]\n",
      "Training : .storage/checkpoints/iid_resnet18_cifar10_clients_10_faulty_[0]_bsize_512_epochs_5_lr_0.001/client_4.ckpt\n"
     ]
    },
    {
     "name": "stderr",
     "output_type": "stream",
     "text": [
      "Using 16bit native Automatic Mixed Precision (AMP)\n",
      "GPU available: True (cuda), used: True\n",
      "TPU available: False, using: 0 TPU cores\n",
      "IPU available: False, using: 0 IPUs\n",
      "HPU available: False, using: 0 HPUs\n",
      "LOCAL_RANK: 0 - CUDA_VISIBLE_DEVICES: [0]\n"
     ]
    },
    {
     "name": "stdout",
     "output_type": "stream",
     "text": [
      "Train mod batch = 392, and drop_last = False\n",
      "Epoch 4: 100%|██████████| 10/10 [00:01<00:00,  5.62it/s, loss=0.74, train_acc=0.759, train_loss=0.692, val_acc=0.653, val_loss=1.230] "
     ]
    },
    {
     "name": "stderr",
     "output_type": "stream",
     "text": [
      "`Trainer.fit` stopped: `max_epochs=5` reached.\n"
     ]
    },
    {
     "name": "stdout",
     "output_type": "stream",
     "text": [
      "Epoch 4: 100%|██████████| 10/10 [00:01<00:00,  5.60it/s, loss=0.74, train_acc=0.759, train_loss=0.692, val_acc=0.653, val_loss=1.230]\n",
      "Training : .storage/checkpoints/iid_resnet18_cifar10_clients_10_faulty_[0]_bsize_512_epochs_5_lr_0.001/client_5.ckpt\n"
     ]
    },
    {
     "name": "stderr",
     "output_type": "stream",
     "text": [
      "Using 16bit native Automatic Mixed Precision (AMP)\n",
      "GPU available: True (cuda), used: True\n",
      "TPU available: False, using: 0 TPU cores\n",
      "IPU available: False, using: 0 IPUs\n",
      "HPU available: False, using: 0 HPUs\n",
      "LOCAL_RANK: 0 - CUDA_VISIBLE_DEVICES: [0]\n"
     ]
    },
    {
     "name": "stdout",
     "output_type": "stream",
     "text": [
      "Train mod batch = 392, and drop_last = False\n",
      "Epoch 4: 100%|██████████| 10/10 [00:01<00:00,  5.97it/s, loss=0.735, train_acc=0.762, train_loss=0.593, val_acc=0.650, val_loss=1.200]"
     ]
    },
    {
     "name": "stderr",
     "output_type": "stream",
     "text": [
      "`Trainer.fit` stopped: `max_epochs=5` reached.\n"
     ]
    },
    {
     "name": "stdout",
     "output_type": "stream",
     "text": [
      "Epoch 4: 100%|██████████| 10/10 [00:01<00:00,  5.96it/s, loss=0.735, train_acc=0.762, train_loss=0.593, val_acc=0.650, val_loss=1.200]\n",
      "Training : .storage/checkpoints/iid_resnet18_cifar10_clients_10_faulty_[0]_bsize_512_epochs_5_lr_0.001/client_6.ckpt\n"
     ]
    },
    {
     "name": "stderr",
     "output_type": "stream",
     "text": [
      "Using 16bit native Automatic Mixed Precision (AMP)\n",
      "GPU available: True (cuda), used: True\n",
      "TPU available: False, using: 0 TPU cores\n",
      "IPU available: False, using: 0 IPUs\n",
      "HPU available: False, using: 0 HPUs\n",
      "LOCAL_RANK: 0 - CUDA_VISIBLE_DEVICES: [0]\n"
     ]
    },
    {
     "name": "stdout",
     "output_type": "stream",
     "text": [
      "Train mod batch = 392, and drop_last = False\n",
      "Epoch 4: 100%|██████████| 10/10 [00:01<00:00,  5.79it/s, loss=0.791, train_acc=0.756, train_loss=0.715, val_acc=0.629, val_loss=1.210]"
     ]
    },
    {
     "name": "stderr",
     "output_type": "stream",
     "text": [
      "`Trainer.fit` stopped: `max_epochs=5` reached.\n"
     ]
    },
    {
     "name": "stdout",
     "output_type": "stream",
     "text": [
      "Epoch 4: 100%|██████████| 10/10 [00:01<00:00,  5.77it/s, loss=0.791, train_acc=0.756, train_loss=0.715, val_acc=0.629, val_loss=1.210]\n",
      "Training : .storage/checkpoints/iid_resnet18_cifar10_clients_10_faulty_[0]_bsize_512_epochs_5_lr_0.001/client_7.ckpt\n"
     ]
    },
    {
     "name": "stderr",
     "output_type": "stream",
     "text": [
      "Using 16bit native Automatic Mixed Precision (AMP)\n",
      "GPU available: True (cuda), used: True\n",
      "TPU available: False, using: 0 TPU cores\n",
      "IPU available: False, using: 0 IPUs\n",
      "HPU available: False, using: 0 HPUs\n",
      "LOCAL_RANK: 0 - CUDA_VISIBLE_DEVICES: [0]\n"
     ]
    },
    {
     "name": "stdout",
     "output_type": "stream",
     "text": [
      "Train mod batch = 392, and drop_last = False\n",
      "Epoch 4: 100%|██████████| 10/10 [00:01<00:00,  5.70it/s, loss=0.733, train_acc=0.781, train_loss=0.727, val_acc=0.660, val_loss=1.110]"
     ]
    },
    {
     "name": "stderr",
     "output_type": "stream",
     "text": [
      "`Trainer.fit` stopped: `max_epochs=5` reached.\n"
     ]
    },
    {
     "name": "stdout",
     "output_type": "stream",
     "text": [
      "Epoch 4: 100%|██████████| 10/10 [00:01<00:00,  5.69it/s, loss=0.733, train_acc=0.781, train_loss=0.727, val_acc=0.660, val_loss=1.110]\n",
      "Training : .storage/checkpoints/iid_resnet18_cifar10_clients_10_faulty_[0]_bsize_512_epochs_5_lr_0.001/client_8.ckpt\n"
     ]
    },
    {
     "name": "stderr",
     "output_type": "stream",
     "text": [
      "Using 16bit native Automatic Mixed Precision (AMP)\n",
      "GPU available: True (cuda), used: True\n",
      "TPU available: False, using: 0 TPU cores\n",
      "IPU available: False, using: 0 IPUs\n",
      "HPU available: False, using: 0 HPUs\n",
      "LOCAL_RANK: 0 - CUDA_VISIBLE_DEVICES: [0]\n"
     ]
    },
    {
     "name": "stdout",
     "output_type": "stream",
     "text": [
      "Train mod batch = 392, and drop_last = False\n",
      "Epoch 4: 100%|██████████| 10/10 [00:01<00:00,  5.57it/s, loss=0.764, train_acc=0.789, train_loss=0.593, val_acc=0.656, val_loss=1.210]"
     ]
    },
    {
     "name": "stderr",
     "output_type": "stream",
     "text": [
      "`Trainer.fit` stopped: `max_epochs=5` reached.\n"
     ]
    },
    {
     "name": "stdout",
     "output_type": "stream",
     "text": [
      "Epoch 4: 100%|██████████| 10/10 [00:01<00:00,  5.56it/s, loss=0.764, train_acc=0.789, train_loss=0.593, val_acc=0.656, val_loss=1.210]\n",
      "Training : .storage/checkpoints/iid_resnet18_cifar10_clients_10_faulty_[0]_bsize_512_epochs_5_lr_0.001/client_9.ckpt\n"
     ]
    },
    {
     "name": "stderr",
     "output_type": "stream",
     "text": [
      "Using 16bit native Automatic Mixed Precision (AMP)\n",
      "GPU available: True (cuda), used: True\n",
      "TPU available: False, using: 0 TPU cores\n",
      "IPU available: False, using: 0 IPUs\n",
      "HPU available: False, using: 0 HPUs\n",
      "LOCAL_RANK: 0 - CUDA_VISIBLE_DEVICES: [0]\n"
     ]
    },
    {
     "name": "stdout",
     "output_type": "stream",
     "text": [
      "Train mod batch = 392, and drop_last = False\n",
      "Epoch 4: 100%|██████████| 10/10 [00:01<00:00,  5.81it/s, loss=0.723, train_acc=0.752, train_loss=0.743, val_acc=0.638, val_loss=1.250]"
     ]
    },
    {
     "name": "stderr",
     "output_type": "stream",
     "text": [
      "`Trainer.fit` stopped: `max_epochs=5` reached.\n"
     ]
    },
    {
     "name": "stdout",
     "output_type": "stream",
     "text": [
      "Epoch 4: 100%|██████████| 10/10 [00:01<00:00,  5.80it/s, loss=0.723, train_acc=0.752, train_loss=0.743, val_acc=0.638, val_loss=1.250]\n",
      "Total clients: 10\n",
      "++Training is done: iid_resnet18_cifar10_clients_10_faulty_[0]_bsize_512_epochs_5_lr_0.001\n",
      ">  Running FaultyClientLocalization ..\n",
      "Same prediction threshold 5\n",
      ">> Deubg: Simple Random inputs\n",
      "+++ Faulty Clients {0}\n",
      "+++ Faulty Clients {0}\n",
      "+++ Faulty Clients {0}\n",
      "+++ Faulty Clients {0}\n",
      "+++ Faulty Clients {0}\n",
      "+++ Faulty Clients {0}\n",
      "+++ Faulty Clients {0}\n",
      "+++ Faulty Clients {0}\n",
      "+++ Faulty Clients {0}\n",
      "+++ Faulty Clients {0}\n",
      "Fault Localization Acc: 100.0\n",
      "Gloabl Model Test Acc: 69.6, Noise Rate: 0.7, Fault Acc: 100.0\n",
      "\n",
      "\n",
      "  ***Simulating FL setup iid_resnet18_cifar10_clients_10_faulty_[0]_bsize_512_epochs_5_lr_0.001 ***\n",
      "Files already downloaded and verified\n",
      "Files already downloaded and verified\n",
      "Spliting Datasets 50000 into parts:[5000, 5000, 5000, 5000, 5000, 5000, 5000, 5000, 5000, 5000]\n",
      "input shape, torch.Size([1, 3, 32, 32])\n",
      "Training : .storage/checkpoints/iid_resnet18_cifar10_clients_10_faulty_[0]_bsize_512_epochs_5_lr_0.001/faulty_client_0_noise_rate_0.9_classes.ckpt\n"
     ]
    },
    {
     "name": "stderr",
     "output_type": "stream",
     "text": [
      "Using 16bit native Automatic Mixed Precision (AMP)\n",
      "GPU available: True (cuda), used: True\n",
      "TPU available: False, using: 0 TPU cores\n",
      "IPU available: False, using: 0 IPUs\n",
      "HPU available: False, using: 0 HPUs\n",
      "LOCAL_RANK: 0 - CUDA_VISIBLE_DEVICES: [0]\n"
     ]
    },
    {
     "name": "stdout",
     "output_type": "stream",
     "text": [
      "Train mod batch = 392, and drop_last = False\n",
      "Epoch 4: 100%|██████████| 10/10 [00:01<00:00,  5.87it/s, loss=2.18, train_acc=0.143, train_loss=2.170, val_acc=0.106, val_loss=2.420]"
     ]
    },
    {
     "name": "stderr",
     "output_type": "stream",
     "text": [
      "`Trainer.fit` stopped: `max_epochs=5` reached.\n"
     ]
    },
    {
     "name": "stdout",
     "output_type": "stream",
     "text": [
      "Epoch 4: 100%|██████████| 10/10 [00:01<00:00,  5.85it/s, loss=2.18, train_acc=0.143, train_loss=2.170, val_acc=0.106, val_loss=2.420]\n",
      "Training : .storage/checkpoints/iid_resnet18_cifar10_clients_10_faulty_[0]_bsize_512_epochs_5_lr_0.001/client_1.ckpt\n"
     ]
    },
    {
     "name": "stderr",
     "output_type": "stream",
     "text": [
      "Using 16bit native Automatic Mixed Precision (AMP)\n",
      "GPU available: True (cuda), used: True\n",
      "TPU available: False, using: 0 TPU cores\n",
      "IPU available: False, using: 0 IPUs\n",
      "HPU available: False, using: 0 HPUs\n",
      "LOCAL_RANK: 0 - CUDA_VISIBLE_DEVICES: [0]\n"
     ]
    },
    {
     "name": "stdout",
     "output_type": "stream",
     "text": [
      "Train mod batch = 392, and drop_last = False\n",
      "Epoch 4: 100%|██████████| 10/10 [00:01<00:00,  5.82it/s, loss=0.728, train_acc=0.767, train_loss=0.668, val_acc=0.643, val_loss=1.310]"
     ]
    },
    {
     "name": "stderr",
     "output_type": "stream",
     "text": [
      "`Trainer.fit` stopped: `max_epochs=5` reached.\n"
     ]
    },
    {
     "name": "stdout",
     "output_type": "stream",
     "text": [
      "Epoch 4: 100%|██████████| 10/10 [00:01<00:00,  5.81it/s, loss=0.728, train_acc=0.767, train_loss=0.668, val_acc=0.643, val_loss=1.310]\n",
      "Training : .storage/checkpoints/iid_resnet18_cifar10_clients_10_faulty_[0]_bsize_512_epochs_5_lr_0.001/client_2.ckpt\n"
     ]
    },
    {
     "name": "stderr",
     "output_type": "stream",
     "text": [
      "Using 16bit native Automatic Mixed Precision (AMP)\n",
      "GPU available: True (cuda), used: True\n",
      "TPU available: False, using: 0 TPU cores\n",
      "IPU available: False, using: 0 IPUs\n",
      "HPU available: False, using: 0 HPUs\n",
      "LOCAL_RANK: 0 - CUDA_VISIBLE_DEVICES: [0]\n"
     ]
    },
    {
     "name": "stdout",
     "output_type": "stream",
     "text": [
      "Train mod batch = 392, and drop_last = False\n",
      "Epoch 4: 100%|██████████| 10/10 [00:01<00:00,  5.95it/s, loss=0.734, train_acc=0.729, train_loss=0.775, val_acc=0.649, val_loss=1.360]"
     ]
    },
    {
     "name": "stderr",
     "output_type": "stream",
     "text": [
      "`Trainer.fit` stopped: `max_epochs=5` reached.\n"
     ]
    },
    {
     "name": "stdout",
     "output_type": "stream",
     "text": [
      "Epoch 4: 100%|██████████| 10/10 [00:01<00:00,  5.94it/s, loss=0.734, train_acc=0.729, train_loss=0.775, val_acc=0.649, val_loss=1.360]\n",
      "Training : .storage/checkpoints/iid_resnet18_cifar10_clients_10_faulty_[0]_bsize_512_epochs_5_lr_0.001/client_3.ckpt\n"
     ]
    },
    {
     "name": "stderr",
     "output_type": "stream",
     "text": [
      "Using 16bit native Automatic Mixed Precision (AMP)\n",
      "GPU available: True (cuda), used: True\n",
      "TPU available: False, using: 0 TPU cores\n",
      "IPU available: False, using: 0 IPUs\n",
      "HPU available: False, using: 0 HPUs\n",
      "LOCAL_RANK: 0 - CUDA_VISIBLE_DEVICES: [0]\n"
     ]
    },
    {
     "name": "stdout",
     "output_type": "stream",
     "text": [
      "Train mod batch = 392, and drop_last = False\n",
      "Epoch 4: 100%|██████████| 10/10 [00:01<00:00,  5.80it/s, loss=0.736, train_acc=0.754, train_loss=0.707, val_acc=0.663, val_loss=1.160]"
     ]
    },
    {
     "name": "stderr",
     "output_type": "stream",
     "text": [
      "`Trainer.fit` stopped: `max_epochs=5` reached.\n"
     ]
    },
    {
     "name": "stdout",
     "output_type": "stream",
     "text": [
      "Epoch 4: 100%|██████████| 10/10 [00:01<00:00,  5.78it/s, loss=0.736, train_acc=0.754, train_loss=0.707, val_acc=0.663, val_loss=1.160]\n",
      "Training : .storage/checkpoints/iid_resnet18_cifar10_clients_10_faulty_[0]_bsize_512_epochs_5_lr_0.001/client_4.ckpt\n"
     ]
    },
    {
     "name": "stderr",
     "output_type": "stream",
     "text": [
      "Using 16bit native Automatic Mixed Precision (AMP)\n",
      "GPU available: True (cuda), used: True\n",
      "TPU available: False, using: 0 TPU cores\n",
      "IPU available: False, using: 0 IPUs\n",
      "HPU available: False, using: 0 HPUs\n",
      "LOCAL_RANK: 0 - CUDA_VISIBLE_DEVICES: [0]\n"
     ]
    },
    {
     "name": "stdout",
     "output_type": "stream",
     "text": [
      "Train mod batch = 392, and drop_last = False\n",
      "Epoch 4: 100%|██████████| 10/10 [00:01<00:00,  6.41it/s, loss=0.769, train_acc=0.734, train_loss=0.767, val_acc=0.638, val_loss=1.350]"
     ]
    },
    {
     "name": "stderr",
     "output_type": "stream",
     "text": [
      "`Trainer.fit` stopped: `max_epochs=5` reached.\n"
     ]
    },
    {
     "name": "stdout",
     "output_type": "stream",
     "text": [
      "Epoch 4: 100%|██████████| 10/10 [00:01<00:00,  6.39it/s, loss=0.769, train_acc=0.734, train_loss=0.767, val_acc=0.638, val_loss=1.350]\n",
      "Training : .storage/checkpoints/iid_resnet18_cifar10_clients_10_faulty_[0]_bsize_512_epochs_5_lr_0.001/client_5.ckpt\n"
     ]
    },
    {
     "name": "stderr",
     "output_type": "stream",
     "text": [
      "Using 16bit native Automatic Mixed Precision (AMP)\n",
      "GPU available: True (cuda), used: True\n",
      "TPU available: False, using: 0 TPU cores\n",
      "IPU available: False, using: 0 IPUs\n",
      "HPU available: False, using: 0 HPUs\n",
      "LOCAL_RANK: 0 - CUDA_VISIBLE_DEVICES: [0]\n"
     ]
    },
    {
     "name": "stdout",
     "output_type": "stream",
     "text": [
      "Train mod batch = 392, and drop_last = False\n",
      "Epoch 4: 100%|██████████| 10/10 [00:01<00:00,  5.98it/s, loss=0.749, train_acc=0.766, train_loss=0.691, val_acc=0.652, val_loss=1.120]"
     ]
    },
    {
     "name": "stderr",
     "output_type": "stream",
     "text": [
      "`Trainer.fit` stopped: `max_epochs=5` reached.\n"
     ]
    },
    {
     "name": "stdout",
     "output_type": "stream",
     "text": [
      "Epoch 4: 100%|██████████| 10/10 [00:01<00:00,  5.97it/s, loss=0.749, train_acc=0.766, train_loss=0.691, val_acc=0.652, val_loss=1.120]\n",
      "Training : .storage/checkpoints/iid_resnet18_cifar10_clients_10_faulty_[0]_bsize_512_epochs_5_lr_0.001/client_6.ckpt\n"
     ]
    },
    {
     "name": "stderr",
     "output_type": "stream",
     "text": [
      "Using 16bit native Automatic Mixed Precision (AMP)\n",
      "GPU available: True (cuda), used: True\n",
      "TPU available: False, using: 0 TPU cores\n",
      "IPU available: False, using: 0 IPUs\n",
      "HPU available: False, using: 0 HPUs\n",
      "LOCAL_RANK: 0 - CUDA_VISIBLE_DEVICES: [0]\n"
     ]
    },
    {
     "name": "stdout",
     "output_type": "stream",
     "text": [
      "Train mod batch = 392, and drop_last = False\n",
      "Epoch 4: 100%|██████████| 10/10 [00:01<00:00,  5.95it/s, loss=0.77, train_acc=0.694, train_loss=0.820, val_acc=0.626, val_loss=1.620] "
     ]
    },
    {
     "name": "stderr",
     "output_type": "stream",
     "text": [
      "`Trainer.fit` stopped: `max_epochs=5` reached.\n"
     ]
    },
    {
     "name": "stdout",
     "output_type": "stream",
     "text": [
      "Epoch 4: 100%|██████████| 10/10 [00:01<00:00,  5.93it/s, loss=0.77, train_acc=0.694, train_loss=0.820, val_acc=0.626, val_loss=1.620]\n",
      "Training : .storage/checkpoints/iid_resnet18_cifar10_clients_10_faulty_[0]_bsize_512_epochs_5_lr_0.001/client_7.ckpt\n"
     ]
    },
    {
     "name": "stderr",
     "output_type": "stream",
     "text": [
      "Using 16bit native Automatic Mixed Precision (AMP)\n",
      "GPU available: True (cuda), used: True\n",
      "TPU available: False, using: 0 TPU cores\n",
      "IPU available: False, using: 0 IPUs\n",
      "HPU available: False, using: 0 HPUs\n",
      "LOCAL_RANK: 0 - CUDA_VISIBLE_DEVICES: [0]\n"
     ]
    },
    {
     "name": "stdout",
     "output_type": "stream",
     "text": [
      "Train mod batch = 392, and drop_last = False\n",
      "Epoch 4: 100%|██████████| 10/10 [00:01<00:00,  5.69it/s, loss=0.74, train_acc=0.802, train_loss=0.606, val_acc=0.638, val_loss=1.260] "
     ]
    },
    {
     "name": "stderr",
     "output_type": "stream",
     "text": [
      "`Trainer.fit` stopped: `max_epochs=5` reached.\n"
     ]
    },
    {
     "name": "stdout",
     "output_type": "stream",
     "text": [
      "Epoch 4: 100%|██████████| 10/10 [00:01<00:00,  5.67it/s, loss=0.74, train_acc=0.802, train_loss=0.606, val_acc=0.638, val_loss=1.260]\n",
      "Training : .storage/checkpoints/iid_resnet18_cifar10_clients_10_faulty_[0]_bsize_512_epochs_5_lr_0.001/client_8.ckpt\n"
     ]
    },
    {
     "name": "stderr",
     "output_type": "stream",
     "text": [
      "Using 16bit native Automatic Mixed Precision (AMP)\n",
      "GPU available: True (cuda), used: True\n",
      "TPU available: False, using: 0 TPU cores\n",
      "IPU available: False, using: 0 IPUs\n",
      "HPU available: False, using: 0 HPUs\n",
      "LOCAL_RANK: 0 - CUDA_VISIBLE_DEVICES: [0]\n"
     ]
    },
    {
     "name": "stdout",
     "output_type": "stream",
     "text": [
      "Train mod batch = 392, and drop_last = False\n",
      "Epoch 4: 100%|██████████| 10/10 [00:01<00:00,  6.10it/s, loss=0.769, train_acc=0.790, train_loss=0.707, val_acc=0.638, val_loss=1.430]"
     ]
    },
    {
     "name": "stderr",
     "output_type": "stream",
     "text": [
      "`Trainer.fit` stopped: `max_epochs=5` reached.\n"
     ]
    },
    {
     "name": "stdout",
     "output_type": "stream",
     "text": [
      "Epoch 4: 100%|██████████| 10/10 [00:01<00:00,  6.09it/s, loss=0.769, train_acc=0.790, train_loss=0.707, val_acc=0.638, val_loss=1.430]\n",
      "Training : .storage/checkpoints/iid_resnet18_cifar10_clients_10_faulty_[0]_bsize_512_epochs_5_lr_0.001/client_9.ckpt\n"
     ]
    },
    {
     "name": "stderr",
     "output_type": "stream",
     "text": [
      "Using 16bit native Automatic Mixed Precision (AMP)\n",
      "GPU available: True (cuda), used: True\n",
      "TPU available: False, using: 0 TPU cores\n",
      "IPU available: False, using: 0 IPUs\n",
      "HPU available: False, using: 0 HPUs\n",
      "LOCAL_RANK: 0 - CUDA_VISIBLE_DEVICES: [0]\n"
     ]
    },
    {
     "name": "stdout",
     "output_type": "stream",
     "text": [
      "Train mod batch = 392, and drop_last = False\n",
      "Epoch 4: 100%|██████████| 10/10 [00:01<00:00,  6.02it/s, loss=0.772, train_acc=0.780, train_loss=0.646, val_acc=0.632, val_loss=1.270]"
     ]
    },
    {
     "name": "stderr",
     "output_type": "stream",
     "text": [
      "`Trainer.fit` stopped: `max_epochs=5` reached.\n"
     ]
    },
    {
     "name": "stdout",
     "output_type": "stream",
     "text": [
      "Epoch 4: 100%|██████████| 10/10 [00:01<00:00,  6.01it/s, loss=0.772, train_acc=0.780, train_loss=0.646, val_acc=0.632, val_loss=1.270]\n",
      "Total clients: 10\n",
      "++Training is done: iid_resnet18_cifar10_clients_10_faulty_[0]_bsize_512_epochs_5_lr_0.001\n",
      ">  Running FaultyClientLocalization ..\n",
      "Same prediction threshold 5\n",
      ">> Deubg: Simple Random inputs\n",
      "+++ Faulty Clients {0}\n",
      "+++ Faulty Clients {0}\n",
      "+++ Faulty Clients {0}\n",
      "+++ Faulty Clients {0}\n",
      "+++ Faulty Clients {0}\n",
      "+++ Faulty Clients {0}\n",
      "+++ Faulty Clients {0}\n",
      "+++ Faulty Clients {0}\n",
      "+++ Faulty Clients {0}\n",
      "+++ Faulty Clients {0}\n",
      "Fault Localization Acc: 100.0\n",
      "Gloabl Model Test Acc: 63.14, Noise Rate: 0.9, Fault Acc: 100.0\n",
      "\n",
      "\n",
      "  ***Simulating FL setup iid_resnet18_cifar10_clients_10_faulty_[0]_bsize_512_epochs_5_lr_0.001 ***\n",
      "Files already downloaded and verified\n",
      "Files already downloaded and verified\n",
      "Spliting Datasets 50000 into parts:[5000, 5000, 5000, 5000, 5000, 5000, 5000, 5000, 5000, 5000]\n",
      "input shape, torch.Size([1, 3, 32, 32])\n",
      "Training : .storage/checkpoints/iid_resnet18_cifar10_clients_10_faulty_[0]_bsize_512_epochs_5_lr_0.001/faulty_client_0_noise_rate_1_classes.ckpt\n"
     ]
    },
    {
     "name": "stderr",
     "output_type": "stream",
     "text": [
      "Using 16bit native Automatic Mixed Precision (AMP)\n",
      "GPU available: True (cuda), used: True\n",
      "TPU available: False, using: 0 TPU cores\n",
      "IPU available: False, using: 0 IPUs\n",
      "HPU available: False, using: 0 HPUs\n",
      "LOCAL_RANK: 0 - CUDA_VISIBLE_DEVICES: [0]\n"
     ]
    },
    {
     "name": "stdout",
     "output_type": "stream",
     "text": [
      "Train mod batch = 392, and drop_last = False\n",
      "Epoch 4: 100%|██████████| 10/10 [00:01<00:00,  5.64it/s, loss=2.31, train_acc=0.0939, train_loss=2.300, val_acc=0.096, val_loss=2.450]"
     ]
    },
    {
     "name": "stderr",
     "output_type": "stream",
     "text": [
      "`Trainer.fit` stopped: `max_epochs=5` reached.\n"
     ]
    },
    {
     "name": "stdout",
     "output_type": "stream",
     "text": [
      "Epoch 4: 100%|██████████| 10/10 [00:01<00:00,  5.62it/s, loss=2.31, train_acc=0.0939, train_loss=2.300, val_acc=0.096, val_loss=2.450]\n",
      "Training : .storage/checkpoints/iid_resnet18_cifar10_clients_10_faulty_[0]_bsize_512_epochs_5_lr_0.001/client_1.ckpt\n"
     ]
    },
    {
     "name": "stderr",
     "output_type": "stream",
     "text": [
      "Using 16bit native Automatic Mixed Precision (AMP)\n",
      "GPU available: True (cuda), used: True\n",
      "TPU available: False, using: 0 TPU cores\n",
      "IPU available: False, using: 0 IPUs\n",
      "HPU available: False, using: 0 HPUs\n",
      "LOCAL_RANK: 0 - CUDA_VISIBLE_DEVICES: [0]\n"
     ]
    },
    {
     "name": "stdout",
     "output_type": "stream",
     "text": [
      "Train mod batch = 392, and drop_last = False\n",
      "Epoch 4: 100%|██████████| 10/10 [00:01<00:00,  5.58it/s, loss=0.764, train_acc=0.742, train_loss=0.678, val_acc=0.616, val_loss=1.580]"
     ]
    },
    {
     "name": "stderr",
     "output_type": "stream",
     "text": [
      "`Trainer.fit` stopped: `max_epochs=5` reached.\n"
     ]
    },
    {
     "name": "stdout",
     "output_type": "stream",
     "text": [
      "Epoch 4: 100%|██████████| 10/10 [00:01<00:00,  5.57it/s, loss=0.764, train_acc=0.742, train_loss=0.678, val_acc=0.616, val_loss=1.580]\n",
      "Training : .storage/checkpoints/iid_resnet18_cifar10_clients_10_faulty_[0]_bsize_512_epochs_5_lr_0.001/client_2.ckpt\n"
     ]
    },
    {
     "name": "stderr",
     "output_type": "stream",
     "text": [
      "Using 16bit native Automatic Mixed Precision (AMP)\n",
      "GPU available: True (cuda), used: True\n",
      "TPU available: False, using: 0 TPU cores\n",
      "IPU available: False, using: 0 IPUs\n",
      "HPU available: False, using: 0 HPUs\n",
      "LOCAL_RANK: 0 - CUDA_VISIBLE_DEVICES: [0]\n"
     ]
    },
    {
     "name": "stdout",
     "output_type": "stream",
     "text": [
      "Train mod batch = 392, and drop_last = False\n",
      "Epoch 4: 100%|██████████| 10/10 [00:01<00:00,  5.70it/s, loss=0.739, train_acc=0.738, train_loss=0.702, val_acc=0.644, val_loss=1.240]"
     ]
    },
    {
     "name": "stderr",
     "output_type": "stream",
     "text": [
      "`Trainer.fit` stopped: `max_epochs=5` reached.\n"
     ]
    },
    {
     "name": "stdout",
     "output_type": "stream",
     "text": [
      "Epoch 4: 100%|██████████| 10/10 [00:01<00:00,  5.68it/s, loss=0.739, train_acc=0.738, train_loss=0.702, val_acc=0.644, val_loss=1.240]\n",
      "Training : .storage/checkpoints/iid_resnet18_cifar10_clients_10_faulty_[0]_bsize_512_epochs_5_lr_0.001/client_3.ckpt\n"
     ]
    },
    {
     "name": "stderr",
     "output_type": "stream",
     "text": [
      "Using 16bit native Automatic Mixed Precision (AMP)\n",
      "GPU available: True (cuda), used: True\n",
      "TPU available: False, using: 0 TPU cores\n",
      "IPU available: False, using: 0 IPUs\n",
      "HPU available: False, using: 0 HPUs\n",
      "LOCAL_RANK: 0 - CUDA_VISIBLE_DEVICES: [0]\n"
     ]
    },
    {
     "name": "stdout",
     "output_type": "stream",
     "text": [
      "Train mod batch = 392, and drop_last = False\n",
      "Epoch 4: 100%|██████████| 10/10 [00:01<00:00,  5.75it/s, loss=0.74, train_acc=0.712, train_loss=0.765, val_acc=0.630, val_loss=1.360] "
     ]
    },
    {
     "name": "stderr",
     "output_type": "stream",
     "text": [
      "`Trainer.fit` stopped: `max_epochs=5` reached.\n"
     ]
    },
    {
     "name": "stdout",
     "output_type": "stream",
     "text": [
      "Epoch 4: 100%|██████████| 10/10 [00:01<00:00,  5.74it/s, loss=0.74, train_acc=0.712, train_loss=0.765, val_acc=0.630, val_loss=1.360]\n",
      "Training : .storage/checkpoints/iid_resnet18_cifar10_clients_10_faulty_[0]_bsize_512_epochs_5_lr_0.001/client_4.ckpt\n"
     ]
    },
    {
     "name": "stderr",
     "output_type": "stream",
     "text": [
      "Using 16bit native Automatic Mixed Precision (AMP)\n",
      "GPU available: True (cuda), used: True\n",
      "TPU available: False, using: 0 TPU cores\n",
      "IPU available: False, using: 0 IPUs\n",
      "HPU available: False, using: 0 HPUs\n",
      "LOCAL_RANK: 0 - CUDA_VISIBLE_DEVICES: [0]\n"
     ]
    },
    {
     "name": "stdout",
     "output_type": "stream",
     "text": [
      "Train mod batch = 392, and drop_last = False\n",
      "Epoch 4: 100%|██████████| 10/10 [00:01<00:00,  5.68it/s, loss=0.79, train_acc=0.742, train_loss=0.720, val_acc=0.618, val_loss=1.520] "
     ]
    },
    {
     "name": "stderr",
     "output_type": "stream",
     "text": [
      "`Trainer.fit` stopped: `max_epochs=5` reached.\n"
     ]
    },
    {
     "name": "stdout",
     "output_type": "stream",
     "text": [
      "Epoch 4: 100%|██████████| 10/10 [00:01<00:00,  5.67it/s, loss=0.79, train_acc=0.742, train_loss=0.720, val_acc=0.618, val_loss=1.520]\n",
      "Training : .storage/checkpoints/iid_resnet18_cifar10_clients_10_faulty_[0]_bsize_512_epochs_5_lr_0.001/client_5.ckpt\n"
     ]
    },
    {
     "name": "stderr",
     "output_type": "stream",
     "text": [
      "Using 16bit native Automatic Mixed Precision (AMP)\n",
      "GPU available: True (cuda), used: True\n",
      "TPU available: False, using: 0 TPU cores\n",
      "IPU available: False, using: 0 IPUs\n",
      "HPU available: False, using: 0 HPUs\n",
      "LOCAL_RANK: 0 - CUDA_VISIBLE_DEVICES: [0]\n"
     ]
    },
    {
     "name": "stdout",
     "output_type": "stream",
     "text": [
      "Train mod batch = 392, and drop_last = False\n",
      "Epoch 4: 100%|██████████| 10/10 [00:01<00:00,  5.80it/s, loss=0.764, train_acc=0.706, train_loss=0.798, val_acc=0.624, val_loss=1.470]"
     ]
    },
    {
     "name": "stderr",
     "output_type": "stream",
     "text": [
      "`Trainer.fit` stopped: `max_epochs=5` reached.\n"
     ]
    },
    {
     "name": "stdout",
     "output_type": "stream",
     "text": [
      "Epoch 4: 100%|██████████| 10/10 [00:01<00:00,  5.79it/s, loss=0.764, train_acc=0.706, train_loss=0.798, val_acc=0.624, val_loss=1.470]\n",
      "Training : .storage/checkpoints/iid_resnet18_cifar10_clients_10_faulty_[0]_bsize_512_epochs_5_lr_0.001/client_6.ckpt\n"
     ]
    },
    {
     "name": "stderr",
     "output_type": "stream",
     "text": [
      "Using 16bit native Automatic Mixed Precision (AMP)\n",
      "GPU available: True (cuda), used: True\n",
      "TPU available: False, using: 0 TPU cores\n",
      "IPU available: False, using: 0 IPUs\n",
      "HPU available: False, using: 0 HPUs\n",
      "LOCAL_RANK: 0 - CUDA_VISIBLE_DEVICES: [0]\n"
     ]
    },
    {
     "name": "stdout",
     "output_type": "stream",
     "text": [
      "Train mod batch = 392, and drop_last = False\n",
      "Epoch 4: 100%|██████████| 10/10 [00:01<00:00,  6.03it/s, loss=0.729, train_acc=0.792, train_loss=0.651, val_acc=0.648, val_loss=1.350]"
     ]
    },
    {
     "name": "stderr",
     "output_type": "stream",
     "text": [
      "`Trainer.fit` stopped: `max_epochs=5` reached.\n"
     ]
    },
    {
     "name": "stdout",
     "output_type": "stream",
     "text": [
      "Epoch 4: 100%|██████████| 10/10 [00:01<00:00,  6.01it/s, loss=0.729, train_acc=0.792, train_loss=0.651, val_acc=0.648, val_loss=1.350]\n",
      "Training : .storage/checkpoints/iid_resnet18_cifar10_clients_10_faulty_[0]_bsize_512_epochs_5_lr_0.001/client_7.ckpt\n"
     ]
    },
    {
     "name": "stderr",
     "output_type": "stream",
     "text": [
      "Using 16bit native Automatic Mixed Precision (AMP)\n",
      "GPU available: True (cuda), used: True\n",
      "TPU available: False, using: 0 TPU cores\n",
      "IPU available: False, using: 0 IPUs\n",
      "HPU available: False, using: 0 HPUs\n",
      "LOCAL_RANK: 0 - CUDA_VISIBLE_DEVICES: [0]\n"
     ]
    },
    {
     "name": "stdout",
     "output_type": "stream",
     "text": [
      "Train mod batch = 392, and drop_last = False\n",
      "Epoch 4: 100%|██████████| 10/10 [00:01<00:00,  5.63it/s, loss=0.7, train_acc=0.761, train_loss=0.696, val_acc=0.650, val_loss=1.280]  "
     ]
    },
    {
     "name": "stderr",
     "output_type": "stream",
     "text": [
      "`Trainer.fit` stopped: `max_epochs=5` reached.\n"
     ]
    },
    {
     "name": "stdout",
     "output_type": "stream",
     "text": [
      "Epoch 4: 100%|██████████| 10/10 [00:01<00:00,  5.61it/s, loss=0.7, train_acc=0.761, train_loss=0.696, val_acc=0.650, val_loss=1.280]\n",
      "Training : .storage/checkpoints/iid_resnet18_cifar10_clients_10_faulty_[0]_bsize_512_epochs_5_lr_0.001/client_8.ckpt\n"
     ]
    },
    {
     "name": "stderr",
     "output_type": "stream",
     "text": [
      "Using 16bit native Automatic Mixed Precision (AMP)\n",
      "GPU available: True (cuda), used: True\n",
      "TPU available: False, using: 0 TPU cores\n",
      "IPU available: False, using: 0 IPUs\n",
      "HPU available: False, using: 0 HPUs\n",
      "LOCAL_RANK: 0 - CUDA_VISIBLE_DEVICES: [0]\n"
     ]
    },
    {
     "name": "stdout",
     "output_type": "stream",
     "text": [
      "Train mod batch = 392, and drop_last = False\n",
      "Epoch 4: 100%|██████████| 10/10 [00:01<00:00,  5.87it/s, loss=0.796, train_acc=0.719, train_loss=0.774, val_acc=0.610, val_loss=1.700]"
     ]
    },
    {
     "name": "stderr",
     "output_type": "stream",
     "text": [
      "`Trainer.fit` stopped: `max_epochs=5` reached.\n"
     ]
    },
    {
     "name": "stdout",
     "output_type": "stream",
     "text": [
      "Epoch 4: 100%|██████████| 10/10 [00:01<00:00,  5.86it/s, loss=0.796, train_acc=0.719, train_loss=0.774, val_acc=0.610, val_loss=1.700]\n",
      "Training : .storage/checkpoints/iid_resnet18_cifar10_clients_10_faulty_[0]_bsize_512_epochs_5_lr_0.001/client_9.ckpt\n"
     ]
    },
    {
     "name": "stderr",
     "output_type": "stream",
     "text": [
      "Using 16bit native Automatic Mixed Precision (AMP)\n",
      "GPU available: True (cuda), used: True\n",
      "TPU available: False, using: 0 TPU cores\n",
      "IPU available: False, using: 0 IPUs\n",
      "HPU available: False, using: 0 HPUs\n",
      "LOCAL_RANK: 0 - CUDA_VISIBLE_DEVICES: [0]\n"
     ]
    },
    {
     "name": "stdout",
     "output_type": "stream",
     "text": [
      "Train mod batch = 392, and drop_last = False\n",
      "Epoch 4: 100%|██████████| 10/10 [00:01<00:00,  6.06it/s, loss=0.746, train_acc=0.764, train_loss=0.687, val_acc=0.650, val_loss=1.340]"
     ]
    },
    {
     "name": "stderr",
     "output_type": "stream",
     "text": [
      "`Trainer.fit` stopped: `max_epochs=5` reached.\n"
     ]
    },
    {
     "name": "stdout",
     "output_type": "stream",
     "text": [
      "Epoch 4: 100%|██████████| 10/10 [00:01<00:00,  6.04it/s, loss=0.746, train_acc=0.764, train_loss=0.687, val_acc=0.650, val_loss=1.340]\n",
      "Total clients: 10\n",
      "++Training is done: iid_resnet18_cifar10_clients_10_faulty_[0]_bsize_512_epochs_5_lr_0.001\n",
      ">  Running FaultyClientLocalization ..\n",
      "Same prediction threshold 5\n",
      ">> Deubg: Simple Random inputs\n",
      "+++ Faulty Clients {0}\n",
      "+++ Faulty Clients {0}\n",
      "+++ Faulty Clients {0}\n",
      "+++ Faulty Clients {0}\n",
      "+++ Faulty Clients {0}\n",
      "+++ Faulty Clients {0}\n",
      "+++ Faulty Clients {0}\n",
      "+++ Faulty Clients {0}\n",
      "+++ Faulty Clients {0}\n",
      "+++ Faulty Clients {0}\n",
      "Fault Localization Acc: 100.0\n",
      "Gloabl Model Test Acc: 60.65, Noise Rate: 1, Fault Acc: 100.0\n"
     ]
    }
   ],
   "source": [
    "import logging\n",
    "import matplotlib.pyplot as plt\n",
    "import time\n",
    "from dotmap import DotMap\n",
    "from pytorch_lightning import seed_everything\n",
    "from torch.nn.init import kaiming_uniform_ \n",
    "from utils.faulty_client_localization.FaultyClientLocalization import FaultyClientLocalization\n",
    "from utils.faulty_client_localization.InferenceGuidedInputs import InferenceGuidedInputs\n",
    "from utils.FLSimulation import trainFLMain\n",
    "from utils.fl_datasets import initializeTrainAndValidationDataset\n",
    "from utils.util import aggToUpdateGlobalModel\n",
    "from utils.util import testAccModel\n",
    "\n",
    "\n",
    "\n",
    "logging.basicConfig(filename='example.log', level=logging.ERROR)\n",
    "logger = logging.getLogger(\"pytorch_lightning\")\n",
    "seed_everything(786)\n",
    "\n",
    "\n",
    "\n",
    "def evaluateFaultLocalization(predicted_faulty_clients_on_each_input, true_faulty_clients):\n",
    "    true_faulty_clients = set(true_faulty_clients)\n",
    "    detection_acc = 0\n",
    "    for pred_faulty_clients in predicted_faulty_clients_on_each_input:\n",
    "        print(f\"+++ Faulty Clients {pred_faulty_clients}\")\n",
    "        correct_localize_faults = len(\n",
    "            true_faulty_clients.intersection(pred_faulty_clients))\n",
    "        acc = (correct_localize_faults/len(true_faulty_clients))*100\n",
    "        detection_acc += acc\n",
    "    fault_localization_acc = detection_acc / \\\n",
    "        len(predicted_faulty_clients_on_each_input)\n",
    "    return fault_localization_acc\n",
    "\n",
    "\n",
    "def runFaultyClientLocalization(client2models, exp2info, num_bugs, random_generator=kaiming_uniform_, apply_transform=True, k_gen_inputs=10, na_threshold=0.003, use_gpu=True):\n",
    "    print(\">  Running FaultyClientLocalization ..\")\n",
    "    input_shape = list(exp2info['data_config']['single_input_shape'])\n",
    "    generate_inputs = InferenceGuidedInputs(client2models, input_shape, randomGenerator=random_generator, apply_transform=apply_transform,\n",
    "                                            dname=exp2info['data_config']['name'], min_nclients_same_pred=5, k_gen_inputs=k_gen_inputs)\n",
    "    selected_inputs, input_gen_time = generate_inputs.getInputs()\n",
    "\n",
    "    start = time.time()\n",
    "    faultyclientlocalization = FaultyClientLocalization(\n",
    "        client2models, selected_inputs, use_gpu=use_gpu)\n",
    "\n",
    "    potential_benign_clients_for_each_input = faultyclientlocalization.runFaultLocalization(\n",
    "        na_threshold, num_bugs=num_bugs)\n",
    "    fault_localization_time = time.time()-start\n",
    "    return potential_benign_clients_for_each_input, input_gen_time, fault_localization_time\n",
    "\n",
    "\n",
    "\n",
    "\n",
    "\n",
    "# ====== Simulation ===== \n",
    "\n",
    "args = DotMap()\n",
    "args.lr = 0.001\n",
    "args.weight_decay = 0.0001\n",
    "args.batch_size = 512\n",
    "\n",
    "nosie2results = []\n",
    "different_noise_levels = [0.1, 0.3, 0.5, 0.7, 0.9, 1]\n",
    "args.model = \"resnet18\" # [resnet18, resnet34, resnet50, densenet121, vgg16]\n",
    "args.epochs = 5  # range 10-25\n",
    "args.dataset = \"cifar10\" # ['cifar10', 'femnist']\n",
    "args.clients = 10 # keep under 30 clients and use Resnet18, Resnet34, or Densenet to evaluate on Colab \n",
    "args.faulty_clients_ids = \"0\" # can be multiple clients separated by comma e.g. \"0,1,2\"  but keep under args.clients clients and at max less than 7 \n",
    "args.sampling = \"iid\" # [iid, \"niid\"] \n",
    "\n",
    "_,test_data, _ =  initializeTrainAndValidationDataset(args.dataset, \".storage/datasets/\")\n",
    "\n",
    "for noise_rate in different_noise_levels:\n",
    "    args.noise_rate = noise_rate  # noise rate 0 to 1 \n",
    "    # FL training\n",
    "    c2ms, exp2info = trainFLMain(args)\n",
    "    client2models = {k: v.model.eval() for k, v in c2ms.items()}\n",
    "\n",
    "    gm =  aggToUpdateGlobalModel(clients_models=client2models)\n",
    "    test_acc = testAccModel(gm, test_data)\n",
    "\n",
    "    # Fault localazation\n",
    "    potential_faulty_clients, _, _ = runFaultyClientLocalization(\n",
    "        client2models=client2models, exp2info=exp2info, num_bugs=len(exp2info['faulty_clients_ids']))\n",
    "    fault_acc = evaluateFaultLocalization(\n",
    "        potential_faulty_clients, exp2info['faulty_clients_ids'])\n",
    "    print(f\"Fault Localization Acc: {fault_acc}\")\n",
    "\n",
    "    print(f\"Gloabl Model Test Acc: {test_acc}, Noise Rate: {noise_rate}, Fault Acc: {fault_acc}\")\n",
    "    nosie2results.append((noise_rate, test_acc, fault_acc))\n",
    "\n"
   ]
  },
  {
   "cell_type": "code",
   "execution_count": 3,
   "metadata": {},
   "outputs": [
    {
     "data": {
      "image/png": "[encoded data removed]",
      "image/svg+xml": "<?xml version=\"1.0\" encoding=\"utf-8\" standalone=\"no\"?>\n<!DOCTYPE svg PUBLIC \"-//W3C//DTD SVG 1.1//EN\"\n  \"http://www.w3.org/Graphics/SVG/1.1/DTD/svg11.dtd\">\n<svg xmlns:xlink=\"http://www.w3.org/1999/xlink\" width=\"712.495625pt\" height=\"336.634375pt\" viewBox=\"0 0 712.495625 336.634375\" xmlns=\"http://www.w3.org/2000/svg\" version=\"1.1\">\n <metadata>\n  <rdf:RDF xmlns:dc=\"http://purl.org/dc/elements/1.1/\" xmlns:cc=\"http://creativecommons.org/ns#\" xmlns:rdf=\"http://www.w3.org/1999/02/22-rdf-syntax-ns#\">\n   <cc:Work>\n    <dc:type rdf:resource=\"http://purl.org/dc/dcmitype/StillImage\"/>\n    <dc:date>2023-01-27T16:37:10.729123</dc:date>\n    <dc:format>image/svg+xml</dc:format>\n    <dc:creator>\n     <cc:Agent>\n      <dc:title>Matplotlib v3.6.2, https://matplotlib.org/</dc:title>\n     </cc:Agent>\n    </dc:creator>\n   </cc:Work>\n  </rdf:RDF>\n </metadata>\n <defs>\n  <style type=\"text/css\">*{stroke-linejoin: round; stroke-linecap: butt}</style>\n </defs>\n <g id=\"figure_1\">\n  <g id=\"patch_1\">\n   <path d=\"M 0 336.634375 \nL 712.495625 336.634375 \nL 712.495625 0 \nL 0 0 \nz\n\" style=\"fill: #ffffff\"/>\n  </g>\n  <g id=\"axes_1\">\n   <g id=\"patch_2\">\n    <path d=\"M 46.965625 299.078125 \nL 350.695625 299.078125 \nL 350.695625 22.318125 \nL 46.965625 22.318125 \nz\n\" style=\"fill: #ffffff\"/>\n   </g>\n   <g id=\"matplotlib.axis_1\">\n    <g id=\"xtick_1\">\n     <g id=\"line2d_1\">\n      <defs>\n       <path id=\"mc36328cc6c\" d=\"M 0 0 \nL 0 3.5 \n\" style=\"stroke: #000000; stroke-width: 0.8\"/>\n      </defs>\n      <g>\n       <use xlink:href=\"#mc36328cc6c\" x=\"91.451332\" y=\"299.078125\" style=\"stroke: #000000; stroke-width: 0.8\"/>\n      </g>\n     </g>\n     <g id=\"text_1\">\n      <!-- 0.2 -->\n      <g transform=\"translate(83.49977 313.676562) scale(0.1 -0.1)\">\n       <defs>\n        <path id=\"DejaVuSans-30\" d=\"M 2034 4250 \nQ 1547 4250 1301 3770 \nQ 1056 3291 1056 2328 \nQ 1056 1369 1301 889 \nQ 1547 409 2034 409 \nQ 2525 409 2770 889 \nQ 3016 1369 3016 2328 \nQ 3016 3291 2770 3770 \nQ 2525 4250 2034 4250 \nz\nM 2034 4750 \nQ 2819 4750 3233 4129 \nQ 3647 3509 3647 2328 \nQ 3647 1150 3233 529 \nQ 2819 -91 2034 -91 \nQ 1250 -91 836 529 \nQ 422 1150 422 2328 \nQ 422 3509 836 4129 \nQ 1250 4750 2034 4750 \nz\n\" transform=\"scale(0.015625)\"/>\n        <path id=\"DejaVuSans-2e\" d=\"M 684 794 \nL 1344 794 \nL 1344 0 \nL 684 0 \nL 684 794 \nz\n\" transform=\"scale(0.015625)\"/>\n        <path id=\"DejaVuSans-32\" d=\"M 1228 531 \nL 3431 531 \nL 3431 0 \nL 469 0 \nL 469 531 \nQ 828 903 1448 1529 \nQ 2069 2156 2228 2338 \nQ 2531 2678 2651 2914 \nQ 2772 3150 2772 3378 \nQ 2772 3750 2511 3984 \nQ 2250 4219 1831 4219 \nQ 1534 4219 1204 4116 \nQ 875 4013 500 3803 \nL 500 4441 \nQ 881 4594 1212 4672 \nQ 1544 4750 1819 4750 \nQ 2544 4750 2975 4387 \nQ 3406 4025 3406 3419 \nQ 3406 3131 3298 2873 \nQ 3191 2616 2906 2266 \nQ 2828 2175 2409 1742 \nQ 1991 1309 1228 531 \nz\n\" transform=\"scale(0.015625)\"/>\n       </defs>\n       <use xlink:href=\"#DejaVuSans-30\"/>\n       <use xlink:href=\"#DejaVuSans-2e\" x=\"63.623047\"/>\n       <use xlink:href=\"#DejaVuSans-32\" x=\"95.410156\"/>\n      </g>\n     </g>\n    </g>\n    <g id=\"xtick_2\">\n     <g id=\"line2d_2\">\n      <g>\n       <use xlink:href=\"#mc36328cc6c\" x=\"152.810928\" y=\"299.078125\" style=\"stroke: #000000; stroke-width: 0.8\"/>\n      </g>\n     </g>\n     <g id=\"text_2\">\n      <!-- 0.4 -->\n      <g transform=\"translate(144.859366 313.676562) scale(0.1 -0.1)\">\n       <defs>\n        <path id=\"DejaVuSans-34\" d=\"M 2419 4116 \nL 825 1625 \nL 2419 1625 \nL 2419 4116 \nz\nM 2253 4666 \nL 3047 4666 \nL 3047 1625 \nL 3713 1625 \nL 3713 1100 \nL 3047 1100 \nL 3047 0 \nL 2419 0 \nL 2419 1100 \nL 313 1100 \nL 313 1709 \nL 2253 4666 \nz\n\" transform=\"scale(0.015625)\"/>\n       </defs>\n       <use xlink:href=\"#DejaVuSans-30\"/>\n       <use xlink:href=\"#DejaVuSans-2e\" x=\"63.623047\"/>\n       <use xlink:href=\"#DejaVuSans-34\" x=\"95.410156\"/>\n      </g>\n     </g>\n    </g>\n    <g id=\"xtick_3\">\n     <g id=\"line2d_3\">\n      <g>\n       <use xlink:href=\"#mc36328cc6c\" x=\"214.170524\" y=\"299.078125\" style=\"stroke: #000000; stroke-width: 0.8\"/>\n      </g>\n     </g>\n     <g id=\"text_3\">\n      <!-- 0.6 -->\n      <g transform=\"translate(206.218961 313.676562) scale(0.1 -0.1)\">\n       <defs>\n        <path id=\"DejaVuSans-36\" d=\"M 2113 2584 \nQ 1688 2584 1439 2293 \nQ 1191 2003 1191 1497 \nQ 1191 994 1439 701 \nQ 1688 409 2113 409 \nQ 2538 409 2786 701 \nQ 3034 994 3034 1497 \nQ 3034 2003 2786 2293 \nQ 2538 2584 2113 2584 \nz\nM 3366 4563 \nL 3366 3988 \nQ 3128 4100 2886 4159 \nQ 2644 4219 2406 4219 \nQ 1781 4219 1451 3797 \nQ 1122 3375 1075 2522 \nQ 1259 2794 1537 2939 \nQ 1816 3084 2150 3084 \nQ 2853 3084 3261 2657 \nQ 3669 2231 3669 1497 \nQ 3669 778 3244 343 \nQ 2819 -91 2113 -91 \nQ 1303 -91 875 529 \nQ 447 1150 447 2328 \nQ 447 3434 972 4092 \nQ 1497 4750 2381 4750 \nQ 2619 4750 2861 4703 \nQ 3103 4656 3366 4563 \nz\n\" transform=\"scale(0.015625)\"/>\n       </defs>\n       <use xlink:href=\"#DejaVuSans-30\"/>\n       <use xlink:href=\"#DejaVuSans-2e\" x=\"63.623047\"/>\n       <use xlink:href=\"#DejaVuSans-36\" x=\"95.410156\"/>\n      </g>\n     </g>\n    </g>\n    <g id=\"xtick_4\">\n     <g id=\"line2d_4\">\n      <g>\n       <use xlink:href=\"#mc36328cc6c\" x=\"275.53012\" y=\"299.078125\" style=\"stroke: #000000; stroke-width: 0.8\"/>\n      </g>\n     </g>\n     <g id=\"text_4\">\n      <!-- 0.8 -->\n      <g transform=\"translate(267.578557 313.676562) scale(0.1 -0.1)\">\n       <defs>\n        <path id=\"DejaVuSans-38\" d=\"M 2034 2216 \nQ 1584 2216 1326 1975 \nQ 1069 1734 1069 1313 \nQ 1069 891 1326 650 \nQ 1584 409 2034 409 \nQ 2484 409 2743 651 \nQ 3003 894 3003 1313 \nQ 3003 1734 2745 1975 \nQ 2488 2216 2034 2216 \nz\nM 1403 2484 \nQ 997 2584 770 2862 \nQ 544 3141 544 3541 \nQ 544 4100 942 4425 \nQ 1341 4750 2034 4750 \nQ 2731 4750 3128 4425 \nQ 3525 4100 3525 3541 \nQ 3525 3141 3298 2862 \nQ 3072 2584 2669 2484 \nQ 3125 2378 3379 2068 \nQ 3634 1759 3634 1313 \nQ 3634 634 3220 271 \nQ 2806 -91 2034 -91 \nQ 1263 -91 848 271 \nQ 434 634 434 1313 \nQ 434 1759 690 2068 \nQ 947 2378 1403 2484 \nz\nM 1172 3481 \nQ 1172 3119 1398 2916 \nQ 1625 2713 2034 2713 \nQ 2441 2713 2670 2916 \nQ 2900 3119 2900 3481 \nQ 2900 3844 2670 4047 \nQ 2441 4250 2034 4250 \nQ 1625 4250 1398 4047 \nQ 1172 3844 1172 3481 \nz\n\" transform=\"scale(0.015625)\"/>\n       </defs>\n       <use xlink:href=\"#DejaVuSans-30\"/>\n       <use xlink:href=\"#DejaVuSans-2e\" x=\"63.623047\"/>\n       <use xlink:href=\"#DejaVuSans-38\" x=\"95.410156\"/>\n      </g>\n     </g>\n    </g>\n    <g id=\"xtick_5\">\n     <g id=\"line2d_5\">\n      <g>\n       <use xlink:href=\"#mc36328cc6c\" x=\"336.889716\" y=\"299.078125\" style=\"stroke: #000000; stroke-width: 0.8\"/>\n      </g>\n     </g>\n     <g id=\"text_5\">\n      <!-- 1.0 -->\n      <g transform=\"translate(328.938153 313.676562) scale(0.1 -0.1)\">\n       <defs>\n        <path id=\"DejaVuSans-31\" d=\"M 794 531 \nL 1825 531 \nL 1825 4091 \nL 703 3866 \nL 703 4441 \nL 1819 4666 \nL 2450 4666 \nL 2450 531 \nL 3481 531 \nL 3481 0 \nL 794 0 \nL 794 531 \nz\n\" transform=\"scale(0.015625)\"/>\n       </defs>\n       <use xlink:href=\"#DejaVuSans-31\"/>\n       <use xlink:href=\"#DejaVuSans-2e\" x=\"63.623047\"/>\n       <use xlink:href=\"#DejaVuSans-30\" x=\"95.410156\"/>\n      </g>\n     </g>\n    </g>\n    <g id=\"text_6\">\n     <!-- Noise Rate -->\n     <g transform=\"translate(171.90875 327.354687) scale(0.1 -0.1)\">\n      <defs>\n       <path id=\"DejaVuSans-4e\" d=\"M 628 4666 \nL 1478 4666 \nL 3547 763 \nL 3547 4666 \nL 4159 4666 \nL 4159 0 \nL 3309 0 \nL 1241 3903 \nL 1241 0 \nL 628 0 \nL 628 4666 \nz\n\" transform=\"scale(0.015625)\"/>\n       <path id=\"DejaVuSans-6f\" d=\"M 1959 3097 \nQ 1497 3097 1228 2736 \nQ 959 2375 959 1747 \nQ 959 1119 1226 758 \nQ 1494 397 1959 397 \nQ 2419 397 2687 759 \nQ 2956 1122 2956 1747 \nQ 2956 2369 2687 2733 \nQ 2419 3097 1959 3097 \nz\nM 1959 3584 \nQ 2709 3584 3137 3096 \nQ 3566 2609 3566 1747 \nQ 3566 888 3137 398 \nQ 2709 -91 1959 -91 \nQ 1206 -91 779 398 \nQ 353 888 353 1747 \nQ 353 2609 779 3096 \nQ 1206 3584 1959 3584 \nz\n\" transform=\"scale(0.015625)\"/>\n       <path id=\"DejaVuSans-69\" d=\"M 603 3500 \nL 1178 3500 \nL 1178 0 \nL 603 0 \nL 603 3500 \nz\nM 603 4863 \nL 1178 4863 \nL 1178 4134 \nL 603 4134 \nL 603 4863 \nz\n\" transform=\"scale(0.015625)\"/>\n       <path id=\"DejaVuSans-73\" d=\"M 2834 3397 \nL 2834 2853 \nQ 2591 2978 2328 3040 \nQ 2066 3103 1784 3103 \nQ 1356 3103 1142 2972 \nQ 928 2841 928 2578 \nQ 928 2378 1081 2264 \nQ 1234 2150 1697 2047 \nL 1894 2003 \nQ 2506 1872 2764 1633 \nQ 3022 1394 3022 966 \nQ 3022 478 2636 193 \nQ 2250 -91 1575 -91 \nQ 1294 -91 989 -36 \nQ 684 19 347 128 \nL 347 722 \nQ 666 556 975 473 \nQ 1284 391 1588 391 \nQ 1994 391 2212 530 \nQ 2431 669 2431 922 \nQ 2431 1156 2273 1281 \nQ 2116 1406 1581 1522 \nL 1381 1569 \nQ 847 1681 609 1914 \nQ 372 2147 372 2553 \nQ 372 3047 722 3315 \nQ 1072 3584 1716 3584 \nQ 2034 3584 2315 3537 \nQ 2597 3491 2834 3397 \nz\n\" transform=\"scale(0.015625)\"/>\n       <path id=\"DejaVuSans-65\" d=\"M 3597 1894 \nL 3597 1613 \nL 953 1613 \nQ 991 1019 1311 708 \nQ 1631 397 2203 397 \nQ 2534 397 2845 478 \nQ 3156 559 3463 722 \nL 3463 178 \nQ 3153 47 2828 -22 \nQ 2503 -91 2169 -91 \nQ 1331 -91 842 396 \nQ 353 884 353 1716 \nQ 353 2575 817 3079 \nQ 1281 3584 2069 3584 \nQ 2775 3584 3186 3129 \nQ 3597 2675 3597 1894 \nz\nM 3022 2063 \nQ 3016 2534 2758 2815 \nQ 2500 3097 2075 3097 \nQ 1594 3097 1305 2825 \nQ 1016 2553 972 2059 \nL 3022 2063 \nz\n\" transform=\"scale(0.015625)\"/>\n       <path id=\"DejaVuSans-20\" transform=\"scale(0.015625)\"/>\n       <path id=\"DejaVuSans-52\" d=\"M 2841 2188 \nQ 3044 2119 3236 1894 \nQ 3428 1669 3622 1275 \nL 4263 0 \nL 3584 0 \nL 2988 1197 \nQ 2756 1666 2539 1819 \nQ 2322 1972 1947 1972 \nL 1259 1972 \nL 1259 0 \nL 628 0 \nL 628 4666 \nL 2053 4666 \nQ 2853 4666 3247 4331 \nQ 3641 3997 3641 3322 \nQ 3641 2881 3436 2590 \nQ 3231 2300 2841 2188 \nz\nM 1259 4147 \nL 1259 2491 \nL 2053 2491 \nQ 2509 2491 2742 2702 \nQ 2975 2913 2975 3322 \nQ 2975 3731 2742 3939 \nQ 2509 4147 2053 4147 \nL 1259 4147 \nz\n\" transform=\"scale(0.015625)\"/>\n       <path id=\"DejaVuSans-61\" d=\"M 2194 1759 \nQ 1497 1759 1228 1600 \nQ 959 1441 959 1056 \nQ 959 750 1161 570 \nQ 1363 391 1709 391 \nQ 2188 391 2477 730 \nQ 2766 1069 2766 1631 \nL 2766 1759 \nL 2194 1759 \nz\nM 3341 1997 \nL 3341 0 \nL 2766 0 \nL 2766 531 \nQ 2569 213 2275 61 \nQ 1981 -91 1556 -91 \nQ 1019 -91 701 211 \nQ 384 513 384 1019 \nQ 384 1609 779 1909 \nQ 1175 2209 1959 2209 \nL 2766 2209 \nL 2766 2266 \nQ 2766 2663 2505 2880 \nQ 2244 3097 1772 3097 \nQ 1472 3097 1187 3025 \nQ 903 2953 641 2809 \nL 641 3341 \nQ 956 3463 1253 3523 \nQ 1550 3584 1831 3584 \nQ 2591 3584 2966 3190 \nQ 3341 2797 3341 1997 \nz\n\" transform=\"scale(0.015625)\"/>\n       <path id=\"DejaVuSans-74\" d=\"M 1172 4494 \nL 1172 3500 \nL 2356 3500 \nL 2356 3053 \nL 1172 3053 \nL 1172 1153 \nQ 1172 725 1289 603 \nQ 1406 481 1766 481 \nL 2356 481 \nL 2356 0 \nL 1766 0 \nQ 1100 0 847 248 \nQ 594 497 594 1153 \nL 594 3053 \nL 172 3053 \nL 172 3500 \nL 594 3500 \nL 594 4494 \nL 1172 4494 \nz\n\" transform=\"scale(0.015625)\"/>\n      </defs>\n      <use xlink:href=\"#DejaVuSans-4e\"/>\n      <use xlink:href=\"#DejaVuSans-6f\" x=\"74.804688\"/>\n      <use xlink:href=\"#DejaVuSans-69\" x=\"135.986328\"/>\n      <use xlink:href=\"#DejaVuSans-73\" x=\"163.769531\"/>\n      <use xlink:href=\"#DejaVuSans-65\" x=\"215.869141\"/>\n      <use xlink:href=\"#DejaVuSans-20\" x=\"277.392578\"/>\n      <use xlink:href=\"#DejaVuSans-52\" x=\"309.179688\"/>\n      <use xlink:href=\"#DejaVuSans-61\" x=\"376.412109\"/>\n      <use xlink:href=\"#DejaVuSans-74\" x=\"437.691406\"/>\n      <use xlink:href=\"#DejaVuSans-65\" x=\"476.900391\"/>\n     </g>\n    </g>\n   </g>\n   <g id=\"matplotlib.axis_2\">\n    <g id=\"ytick_1\">\n     <g id=\"line2d_6\">\n      <defs>\n       <path id=\"m75be80b95d\" d=\"M 0 0 \nL -3.5 0 \n\" style=\"stroke: #000000; stroke-width: 0.8\"/>\n      </defs>\n      <g>\n       <use xlink:href=\"#m75be80b95d\" x=\"46.965625\" y=\"299.078125\" style=\"stroke: #000000; stroke-width: 0.8\"/>\n      </g>\n     </g>\n     <g id=\"text_7\">\n      <!-- 0 -->\n      <g transform=\"translate(33.603125 302.877344) scale(0.1 -0.1)\">\n       <use xlink:href=\"#DejaVuSans-30\"/>\n      </g>\n     </g>\n    </g>\n    <g id=\"ytick_2\">\n     <g id=\"line2d_7\">\n      <g>\n       <use xlink:href=\"#m75be80b95d\" x=\"46.965625\" y=\"246.361935\" style=\"stroke: #000000; stroke-width: 0.8\"/>\n      </g>\n     </g>\n     <g id=\"text_8\">\n      <!-- 20 -->\n      <g transform=\"translate(27.240625 250.161153) scale(0.1 -0.1)\">\n       <use xlink:href=\"#DejaVuSans-32\"/>\n       <use xlink:href=\"#DejaVuSans-30\" x=\"63.623047\"/>\n      </g>\n     </g>\n    </g>\n    <g id=\"ytick_3\">\n     <g id=\"line2d_8\">\n      <g>\n       <use xlink:href=\"#m75be80b95d\" x=\"46.965625\" y=\"193.645744\" style=\"stroke: #000000; stroke-width: 0.8\"/>\n      </g>\n     </g>\n     <g id=\"text_9\">\n      <!-- 40 -->\n      <g transform=\"translate(27.240625 197.444963) scale(0.1 -0.1)\">\n       <use xlink:href=\"#DejaVuSans-34\"/>\n       <use xlink:href=\"#DejaVuSans-30\" x=\"63.623047\"/>\n      </g>\n     </g>\n    </g>\n    <g id=\"ytick_4\">\n     <g id=\"line2d_9\">\n      <g>\n       <use xlink:href=\"#m75be80b95d\" x=\"46.965625\" y=\"140.929554\" style=\"stroke: #000000; stroke-width: 0.8\"/>\n      </g>\n     </g>\n     <g id=\"text_10\">\n      <!-- 60 -->\n      <g transform=\"translate(27.240625 144.728772) scale(0.1 -0.1)\">\n       <use xlink:href=\"#DejaVuSans-36\"/>\n       <use xlink:href=\"#DejaVuSans-30\" x=\"63.623047\"/>\n      </g>\n     </g>\n    </g>\n    <g id=\"ytick_5\">\n     <g id=\"line2d_10\">\n      <g>\n       <use xlink:href=\"#m75be80b95d\" x=\"46.965625\" y=\"88.213363\" style=\"stroke: #000000; stroke-width: 0.8\"/>\n      </g>\n     </g>\n     <g id=\"text_11\">\n      <!-- 80 -->\n      <g transform=\"translate(27.240625 92.012582) scale(0.1 -0.1)\">\n       <use xlink:href=\"#DejaVuSans-38\"/>\n       <use xlink:href=\"#DejaVuSans-30\" x=\"63.623047\"/>\n      </g>\n     </g>\n    </g>\n    <g id=\"ytick_6\">\n     <g id=\"line2d_11\">\n      <g>\n       <use xlink:href=\"#m75be80b95d\" x=\"46.965625\" y=\"35.497173\" style=\"stroke: #000000; stroke-width: 0.8\"/>\n      </g>\n     </g>\n     <g id=\"text_12\">\n      <!-- 100 -->\n      <g transform=\"translate(20.878125 39.296391) scale(0.1 -0.1)\">\n       <use xlink:href=\"#DejaVuSans-31\"/>\n       <use xlink:href=\"#DejaVuSans-30\" x=\"63.623047\"/>\n       <use xlink:href=\"#DejaVuSans-30\" x=\"127.246094\"/>\n      </g>\n     </g>\n    </g>\n    <g id=\"text_13\">\n     <!-- Global Model Accuracy (%) -->\n     <g transform=\"translate(14.798438 227.909062) rotate(-90) scale(0.1 -0.1)\">\n      <defs>\n       <path id=\"DejaVuSans-47\" d=\"M 3809 666 \nL 3809 1919 \nL 2778 1919 \nL 2778 2438 \nL 4434 2438 \nL 4434 434 \nQ 4069 175 3628 42 \nQ 3188 -91 2688 -91 \nQ 1594 -91 976 548 \nQ 359 1188 359 2328 \nQ 359 3472 976 4111 \nQ 1594 4750 2688 4750 \nQ 3144 4750 3555 4637 \nQ 3966 4525 4313 4306 \nL 4313 3634 \nQ 3963 3931 3569 4081 \nQ 3175 4231 2741 4231 \nQ 1884 4231 1454 3753 \nQ 1025 3275 1025 2328 \nQ 1025 1384 1454 906 \nQ 1884 428 2741 428 \nQ 3075 428 3337 486 \nQ 3600 544 3809 666 \nz\n\" transform=\"scale(0.015625)\"/>\n       <path id=\"DejaVuSans-6c\" d=\"M 603 4863 \nL 1178 4863 \nL 1178 0 \nL 603 0 \nL 603 4863 \nz\n\" transform=\"scale(0.015625)\"/>\n       <path id=\"DejaVuSans-62\" d=\"M 3116 1747 \nQ 3116 2381 2855 2742 \nQ 2594 3103 2138 3103 \nQ 1681 3103 1420 2742 \nQ 1159 2381 1159 1747 \nQ 1159 1113 1420 752 \nQ 1681 391 2138 391 \nQ 2594 391 2855 752 \nQ 3116 1113 3116 1747 \nz\nM 1159 2969 \nQ 1341 3281 1617 3432 \nQ 1894 3584 2278 3584 \nQ 2916 3584 3314 3078 \nQ 3713 2572 3713 1747 \nQ 3713 922 3314 415 \nQ 2916 -91 2278 -91 \nQ 1894 -91 1617 61 \nQ 1341 213 1159 525 \nL 1159 0 \nL 581 0 \nL 581 4863 \nL 1159 4863 \nL 1159 2969 \nz\n\" transform=\"scale(0.015625)\"/>\n       <path id=\"DejaVuSans-4d\" d=\"M 628 4666 \nL 1569 4666 \nL 2759 1491 \nL 3956 4666 \nL 4897 4666 \nL 4897 0 \nL 4281 0 \nL 4281 4097 \nL 3078 897 \nL 2444 897 \nL 1241 4097 \nL 1241 0 \nL 628 0 \nL 628 4666 \nz\n\" transform=\"scale(0.015625)\"/>\n       <path id=\"DejaVuSans-64\" d=\"M 2906 2969 \nL 2906 4863 \nL 3481 4863 \nL 3481 0 \nL 2906 0 \nL 2906 525 \nQ 2725 213 2448 61 \nQ 2172 -91 1784 -91 \nQ 1150 -91 751 415 \nQ 353 922 353 1747 \nQ 353 2572 751 3078 \nQ 1150 3584 1784 3584 \nQ 2172 3584 2448 3432 \nQ 2725 3281 2906 2969 \nz\nM 947 1747 \nQ 947 1113 1208 752 \nQ 1469 391 1925 391 \nQ 2381 391 2643 752 \nQ 2906 1113 2906 1747 \nQ 2906 2381 2643 2742 \nQ 2381 3103 1925 3103 \nQ 1469 3103 1208 2742 \nQ 947 2381 947 1747 \nz\n\" transform=\"scale(0.015625)\"/>\n       <path id=\"DejaVuSans-41\" d=\"M 2188 4044 \nL 1331 1722 \nL 3047 1722 \nL 2188 4044 \nz\nM 1831 4666 \nL 2547 4666 \nL 4325 0 \nL 3669 0 \nL 3244 1197 \nL 1141 1197 \nL 716 0 \nL 50 0 \nL 1831 4666 \nz\n\" transform=\"scale(0.015625)\"/>\n       <path id=\"DejaVuSans-63\" d=\"M 3122 3366 \nL 3122 2828 \nQ 2878 2963 2633 3030 \nQ 2388 3097 2138 3097 \nQ 1578 3097 1268 2742 \nQ 959 2388 959 1747 \nQ 959 1106 1268 751 \nQ 1578 397 2138 397 \nQ 2388 397 2633 464 \nQ 2878 531 3122 666 \nL 3122 134 \nQ 2881 22 2623 -34 \nQ 2366 -91 2075 -91 \nQ 1284 -91 818 406 \nQ 353 903 353 1747 \nQ 353 2603 823 3093 \nQ 1294 3584 2113 3584 \nQ 2378 3584 2631 3529 \nQ 2884 3475 3122 3366 \nz\n\" transform=\"scale(0.015625)\"/>\n       <path id=\"DejaVuSans-75\" d=\"M 544 1381 \nL 544 3500 \nL 1119 3500 \nL 1119 1403 \nQ 1119 906 1312 657 \nQ 1506 409 1894 409 \nQ 2359 409 2629 706 \nQ 2900 1003 2900 1516 \nL 2900 3500 \nL 3475 3500 \nL 3475 0 \nL 2900 0 \nL 2900 538 \nQ 2691 219 2414 64 \nQ 2138 -91 1772 -91 \nQ 1169 -91 856 284 \nQ 544 659 544 1381 \nz\nM 1991 3584 \nL 1991 3584 \nz\n\" transform=\"scale(0.015625)\"/>\n       <path id=\"DejaVuSans-72\" d=\"M 2631 2963 \nQ 2534 3019 2420 3045 \nQ 2306 3072 2169 3072 \nQ 1681 3072 1420 2755 \nQ 1159 2438 1159 1844 \nL 1159 0 \nL 581 0 \nL 581 3500 \nL 1159 3500 \nL 1159 2956 \nQ 1341 3275 1631 3429 \nQ 1922 3584 2338 3584 \nQ 2397 3584 2469 3576 \nQ 2541 3569 2628 3553 \nL 2631 2963 \nz\n\" transform=\"scale(0.015625)\"/>\n       <path id=\"DejaVuSans-79\" d=\"M 2059 -325 \nQ 1816 -950 1584 -1140 \nQ 1353 -1331 966 -1331 \nL 506 -1331 \nL 506 -850 \nL 844 -850 \nQ 1081 -850 1212 -737 \nQ 1344 -625 1503 -206 \nL 1606 56 \nL 191 3500 \nL 800 3500 \nL 1894 763 \nL 2988 3500 \nL 3597 3500 \nL 2059 -325 \nz\n\" transform=\"scale(0.015625)\"/>\n       <path id=\"DejaVuSans-28\" d=\"M 1984 4856 \nQ 1566 4138 1362 3434 \nQ 1159 2731 1159 2009 \nQ 1159 1288 1364 580 \nQ 1569 -128 1984 -844 \nL 1484 -844 \nQ 1016 -109 783 600 \nQ 550 1309 550 2009 \nQ 550 2706 781 3412 \nQ 1013 4119 1484 4856 \nL 1984 4856 \nz\n\" transform=\"scale(0.015625)\"/>\n       <path id=\"DejaVuSans-25\" d=\"M 4653 2053 \nQ 4381 2053 4226 1822 \nQ 4072 1591 4072 1178 \nQ 4072 772 4226 539 \nQ 4381 306 4653 306 \nQ 4919 306 5073 539 \nQ 5228 772 5228 1178 \nQ 5228 1588 5073 1820 \nQ 4919 2053 4653 2053 \nz\nM 4653 2450 \nQ 5147 2450 5437 2106 \nQ 5728 1763 5728 1178 \nQ 5728 594 5436 251 \nQ 5144 -91 4653 -91 \nQ 4153 -91 3862 251 \nQ 3572 594 3572 1178 \nQ 3572 1766 3864 2108 \nQ 4156 2450 4653 2450 \nz\nM 1428 4353 \nQ 1159 4353 1004 4120 \nQ 850 3888 850 3481 \nQ 850 3069 1003 2837 \nQ 1156 2606 1428 2606 \nQ 1700 2606 1854 2837 \nQ 2009 3069 2009 3481 \nQ 2009 3884 1853 4118 \nQ 1697 4353 1428 4353 \nz\nM 4250 4750 \nL 4750 4750 \nL 1831 -91 \nL 1331 -91 \nL 4250 4750 \nz\nM 1428 4750 \nQ 1922 4750 2215 4408 \nQ 2509 4066 2509 3481 \nQ 2509 2891 2217 2550 \nQ 1925 2209 1428 2209 \nQ 931 2209 642 2551 \nQ 353 2894 353 3481 \nQ 353 4063 643 4406 \nQ 934 4750 1428 4750 \nz\n\" transform=\"scale(0.015625)\"/>\n       <path id=\"DejaVuSans-29\" d=\"M 513 4856 \nL 1013 4856 \nQ 1481 4119 1714 3412 \nQ 1947 2706 1947 2009 \nQ 1947 1309 1714 600 \nQ 1481 -109 1013 -844 \nL 513 -844 \nQ 928 -128 1133 580 \nQ 1338 1288 1338 2009 \nQ 1338 2731 1133 3434 \nQ 928 4138 513 4856 \nz\n\" transform=\"scale(0.015625)\"/>\n      </defs>\n      <use xlink:href=\"#DejaVuSans-47\"/>\n      <use xlink:href=\"#DejaVuSans-6c\" x=\"77.490234\"/>\n      <use xlink:href=\"#DejaVuSans-6f\" x=\"105.273438\"/>\n      <use xlink:href=\"#DejaVuSans-62\" x=\"166.455078\"/>\n      <use xlink:href=\"#DejaVuSans-61\" x=\"229.931641\"/>\n      <use xlink:href=\"#DejaVuSans-6c\" x=\"291.210938\"/>\n      <use xlink:href=\"#DejaVuSans-20\" x=\"318.994141\"/>\n      <use xlink:href=\"#DejaVuSans-4d\" x=\"350.78125\"/>\n      <use xlink:href=\"#DejaVuSans-6f\" x=\"437.060547\"/>\n      <use xlink:href=\"#DejaVuSans-64\" x=\"498.242188\"/>\n      <use xlink:href=\"#DejaVuSans-65\" x=\"561.71875\"/>\n      <use xlink:href=\"#DejaVuSans-6c\" x=\"623.242188\"/>\n      <use xlink:href=\"#DejaVuSans-20\" x=\"651.025391\"/>\n      <use xlink:href=\"#DejaVuSans-41\" x=\"682.8125\"/>\n      <use xlink:href=\"#DejaVuSans-63\" x=\"749.470703\"/>\n      <use xlink:href=\"#DejaVuSans-63\" x=\"804.451172\"/>\n      <use xlink:href=\"#DejaVuSans-75\" x=\"859.431641\"/>\n      <use xlink:href=\"#DejaVuSans-72\" x=\"922.810547\"/>\n      <use xlink:href=\"#DejaVuSans-61\" x=\"963.923828\"/>\n      <use xlink:href=\"#DejaVuSans-63\" x=\"1025.203125\"/>\n      <use xlink:href=\"#DejaVuSans-79\" x=\"1080.183594\"/>\n      <use xlink:href=\"#DejaVuSans-20\" x=\"1139.363281\"/>\n      <use xlink:href=\"#DejaVuSans-28\" x=\"1171.150391\"/>\n      <use xlink:href=\"#DejaVuSans-25\" x=\"1210.164062\"/>\n      <use xlink:href=\"#DejaVuSans-29\" x=\"1305.183594\"/>\n     </g>\n    </g>\n   </g>\n   <g id=\"line2d_12\">\n    <path d=\"M 60.771534 116.574674 \nL 122.13113 116.363809 \nL 183.490726 122.057157 \nL 244.850322 115.625782 \nL 306.209918 132.653112 \nL 336.889716 139.216277 \n\" clip-path=\"url(#p67019c59fa)\" style=\"fill: none; stroke-dasharray: 5.55,2.4; stroke-dashoffset: 0; stroke: #008000; stroke-width: 1.5\"/>\n    <defs>\n     <path id=\"m3f0bc0bb0b\" d=\"M 0 3 \nC 0.795609 3 1.55874 2.683901 2.12132 2.12132 \nC 2.683901 1.55874 3 0.795609 3 0 \nC 3 -0.795609 2.683901 -1.55874 2.12132 -2.12132 \nC 1.55874 -2.683901 0.795609 -3 0 -3 \nC -0.795609 -3 -1.55874 -2.683901 -2.12132 -2.12132 \nC -2.683901 -1.55874 -3 -0.795609 -3 0 \nC -3 0.795609 -2.683901 1.55874 -2.12132 2.12132 \nC -1.55874 2.683901 -0.795609 3 0 3 \nz\n\" style=\"stroke: #008000\"/>\n    </defs>\n    <g clip-path=\"url(#p67019c59fa)\">\n     <use xlink:href=\"#m3f0bc0bb0b\" x=\"60.771534\" y=\"116.574674\" style=\"fill: #008000; stroke: #008000\"/>\n     <use xlink:href=\"#m3f0bc0bb0b\" x=\"122.13113\" y=\"116.363809\" style=\"fill: #008000; stroke: #008000\"/>\n     <use xlink:href=\"#m3f0bc0bb0b\" x=\"183.490726\" y=\"122.057157\" style=\"fill: #008000; stroke: #008000\"/>\n     <use xlink:href=\"#m3f0bc0bb0b\" x=\"244.850322\" y=\"115.625782\" style=\"fill: #008000; stroke: #008000\"/>\n     <use xlink:href=\"#m3f0bc0bb0b\" x=\"306.209918\" y=\"132.653112\" style=\"fill: #008000; stroke: #008000\"/>\n     <use xlink:href=\"#m3f0bc0bb0b\" x=\"336.889716\" y=\"139.216277\" style=\"fill: #008000; stroke: #008000\"/>\n    </g>\n   </g>\n   <g id=\"patch_3\">\n    <path d=\"M 46.965625 299.078125 \nL 46.965625 22.318125 \n\" style=\"fill: none; stroke: #000000; stroke-width: 0.8; stroke-linejoin: miter; stroke-linecap: square\"/>\n   </g>\n   <g id=\"patch_4\">\n    <path d=\"M 350.695625 299.078125 \nL 350.695625 22.318125 \n\" style=\"fill: none; stroke: #000000; stroke-width: 0.8; stroke-linejoin: miter; stroke-linecap: square\"/>\n   </g>\n   <g id=\"patch_5\">\n    <path d=\"M 46.965625 299.078125 \nL 350.695625 299.078125 \n\" style=\"fill: none; stroke: #000000; stroke-width: 0.8; stroke-linejoin: miter; stroke-linecap: square\"/>\n   </g>\n   <g id=\"patch_6\">\n    <path d=\"M 46.965625 22.318125 \nL 350.695625 22.318125 \n\" style=\"fill: none; stroke: #000000; stroke-width: 0.8; stroke-linejoin: miter; stroke-linecap: square\"/>\n   </g>\n   <g id=\"text_14\">\n    <!-- Paper Figure 4 (a) -->\n    <g transform=\"translate(145.62375 16.318125) scale(0.12 -0.12)\">\n     <defs>\n      <path id=\"DejaVuSans-50\" d=\"M 1259 4147 \nL 1259 2394 \nL 2053 2394 \nQ 2494 2394 2734 2622 \nQ 2975 2850 2975 3272 \nQ 2975 3691 2734 3919 \nQ 2494 4147 2053 4147 \nL 1259 4147 \nz\nM 628 4666 \nL 2053 4666 \nQ 2838 4666 3239 4311 \nQ 3641 3956 3641 3272 \nQ 3641 2581 3239 2228 \nQ 2838 1875 2053 1875 \nL 1259 1875 \nL 1259 0 \nL 628 0 \nL 628 4666 \nz\n\" transform=\"scale(0.015625)\"/>\n      <path id=\"DejaVuSans-70\" d=\"M 1159 525 \nL 1159 -1331 \nL 581 -1331 \nL 581 3500 \nL 1159 3500 \nL 1159 2969 \nQ 1341 3281 1617 3432 \nQ 1894 3584 2278 3584 \nQ 2916 3584 3314 3078 \nQ 3713 2572 3713 1747 \nQ 3713 922 3314 415 \nQ 2916 -91 2278 -91 \nQ 1894 -91 1617 61 \nQ 1341 213 1159 525 \nz\nM 3116 1747 \nQ 3116 2381 2855 2742 \nQ 2594 3103 2138 3103 \nQ 1681 3103 1420 2742 \nQ 1159 2381 1159 1747 \nQ 1159 1113 1420 752 \nQ 1681 391 2138 391 \nQ 2594 391 2855 752 \nQ 3116 1113 3116 1747 \nz\n\" transform=\"scale(0.015625)\"/>\n      <path id=\"DejaVuSans-46\" d=\"M 628 4666 \nL 3309 4666 \nL 3309 4134 \nL 1259 4134 \nL 1259 2759 \nL 3109 2759 \nL 3109 2228 \nL 1259 2228 \nL 1259 0 \nL 628 0 \nL 628 4666 \nz\n\" transform=\"scale(0.015625)\"/>\n      <path id=\"DejaVuSans-67\" d=\"M 2906 1791 \nQ 2906 2416 2648 2759 \nQ 2391 3103 1925 3103 \nQ 1463 3103 1205 2759 \nQ 947 2416 947 1791 \nQ 947 1169 1205 825 \nQ 1463 481 1925 481 \nQ 2391 481 2648 825 \nQ 2906 1169 2906 1791 \nz\nM 3481 434 \nQ 3481 -459 3084 -895 \nQ 2688 -1331 1869 -1331 \nQ 1566 -1331 1297 -1286 \nQ 1028 -1241 775 -1147 \nL 775 -588 \nQ 1028 -725 1275 -790 \nQ 1522 -856 1778 -856 \nQ 2344 -856 2625 -561 \nQ 2906 -266 2906 331 \nL 2906 616 \nQ 2728 306 2450 153 \nQ 2172 0 1784 0 \nQ 1141 0 747 490 \nQ 353 981 353 1791 \nQ 353 2603 747 3093 \nQ 1141 3584 1784 3584 \nQ 2172 3584 2450 3431 \nQ 2728 3278 2906 2969 \nL 2906 3500 \nL 3481 3500 \nL 3481 434 \nz\n\" transform=\"scale(0.015625)\"/>\n     </defs>\n     <use xlink:href=\"#DejaVuSans-50\"/>\n     <use xlink:href=\"#DejaVuSans-61\" x=\"55.802734\"/>\n     <use xlink:href=\"#DejaVuSans-70\" x=\"117.082031\"/>\n     <use xlink:href=\"#DejaVuSans-65\" x=\"180.558594\"/>\n     <use xlink:href=\"#DejaVuSans-72\" x=\"242.082031\"/>\n     <use xlink:href=\"#DejaVuSans-20\" x=\"283.195312\"/>\n     <use xlink:href=\"#DejaVuSans-46\" x=\"314.982422\"/>\n     <use xlink:href=\"#DejaVuSans-69\" x=\"365.251953\"/>\n     <use xlink:href=\"#DejaVuSans-67\" x=\"393.035156\"/>\n     <use xlink:href=\"#DejaVuSans-75\" x=\"456.511719\"/>\n     <use xlink:href=\"#DejaVuSans-72\" x=\"519.890625\"/>\n     <use xlink:href=\"#DejaVuSans-65\" x=\"558.753906\"/>\n     <use xlink:href=\"#DejaVuSans-20\" x=\"620.277344\"/>\n     <use xlink:href=\"#DejaVuSans-34\" x=\"652.064453\"/>\n     <use xlink:href=\"#DejaVuSans-20\" x=\"715.6875\"/>\n     <use xlink:href=\"#DejaVuSans-28\" x=\"747.474609\"/>\n     <use xlink:href=\"#DejaVuSans-61\" x=\"786.488281\"/>\n     <use xlink:href=\"#DejaVuSans-29\" x=\"847.767578\"/>\n    </g>\n   </g>\n  </g>\n  <g id=\"axes_2\">\n   <g id=\"patch_7\">\n    <path d=\"M 401.565625 299.078125 \nL 705.295625 299.078125 \nL 705.295625 22.318125 \nL 401.565625 22.318125 \nz\n\" style=\"fill: #ffffff\"/>\n   </g>\n   <g id=\"matplotlib.axis_3\">\n    <g id=\"xtick_6\">\n     <g id=\"line2d_13\">\n      <g>\n       <use xlink:href=\"#mc36328cc6c\" x=\"446.051332\" y=\"299.078125\" style=\"stroke: #000000; stroke-width: 0.8\"/>\n      </g>\n     </g>\n     <g id=\"text_15\">\n      <!-- 0.2 -->\n      <g transform=\"translate(438.09977 313.676562) scale(0.1 -0.1)\">\n       <use xlink:href=\"#DejaVuSans-30\"/>\n       <use xlink:href=\"#DejaVuSans-2e\" x=\"63.623047\"/>\n       <use xlink:href=\"#DejaVuSans-32\" x=\"95.410156\"/>\n      </g>\n     </g>\n    </g>\n    <g id=\"xtick_7\">\n     <g id=\"line2d_14\">\n      <g>\n       <use xlink:href=\"#mc36328cc6c\" x=\"507.410928\" y=\"299.078125\" style=\"stroke: #000000; stroke-width: 0.8\"/>\n      </g>\n     </g>\n     <g id=\"text_16\">\n      <!-- 0.4 -->\n      <g transform=\"translate(499.459366 313.676562) scale(0.1 -0.1)\">\n       <use xlink:href=\"#DejaVuSans-30\"/>\n       <use xlink:href=\"#DejaVuSans-2e\" x=\"63.623047\"/>\n       <use xlink:href=\"#DejaVuSans-34\" x=\"95.410156\"/>\n      </g>\n     </g>\n    </g>\n    <g id=\"xtick_8\">\n     <g id=\"line2d_15\">\n      <g>\n       <use xlink:href=\"#mc36328cc6c\" x=\"568.770524\" y=\"299.078125\" style=\"stroke: #000000; stroke-width: 0.8\"/>\n      </g>\n     </g>\n     <g id=\"text_17\">\n      <!-- 0.6 -->\n      <g transform=\"translate(560.818961 313.676562) scale(0.1 -0.1)\">\n       <use xlink:href=\"#DejaVuSans-30\"/>\n       <use xlink:href=\"#DejaVuSans-2e\" x=\"63.623047\"/>\n       <use xlink:href=\"#DejaVuSans-36\" x=\"95.410156\"/>\n      </g>\n     </g>\n    </g>\n    <g id=\"xtick_9\">\n     <g id=\"line2d_16\">\n      <g>\n       <use xlink:href=\"#mc36328cc6c\" x=\"630.13012\" y=\"299.078125\" style=\"stroke: #000000; stroke-width: 0.8\"/>\n      </g>\n     </g>\n     <g id=\"text_18\">\n      <!-- 0.8 -->\n      <g transform=\"translate(622.178557 313.676562) scale(0.1 -0.1)\">\n       <use xlink:href=\"#DejaVuSans-30\"/>\n       <use xlink:href=\"#DejaVuSans-2e\" x=\"63.623047\"/>\n       <use xlink:href=\"#DejaVuSans-38\" x=\"95.410156\"/>\n      </g>\n     </g>\n    </g>\n    <g id=\"xtick_10\">\n     <g id=\"line2d_17\">\n      <g>\n       <use xlink:href=\"#mc36328cc6c\" x=\"691.489716\" y=\"299.078125\" style=\"stroke: #000000; stroke-width: 0.8\"/>\n      </g>\n     </g>\n     <g id=\"text_19\">\n      <!-- 1.0 -->\n      <g transform=\"translate(683.538153 313.676562) scale(0.1 -0.1)\">\n       <use xlink:href=\"#DejaVuSans-31\"/>\n       <use xlink:href=\"#DejaVuSans-2e\" x=\"63.623047\"/>\n       <use xlink:href=\"#DejaVuSans-30\" x=\"95.410156\"/>\n      </g>\n     </g>\n    </g>\n    <g id=\"text_20\">\n     <!-- Noise Rate -->\n     <g transform=\"translate(526.50875 327.354687) scale(0.1 -0.1)\">\n      <use xlink:href=\"#DejaVuSans-4e\"/>\n      <use xlink:href=\"#DejaVuSans-6f\" x=\"74.804688\"/>\n      <use xlink:href=\"#DejaVuSans-69\" x=\"135.986328\"/>\n      <use xlink:href=\"#DejaVuSans-73\" x=\"163.769531\"/>\n      <use xlink:href=\"#DejaVuSans-65\" x=\"215.869141\"/>\n      <use xlink:href=\"#DejaVuSans-20\" x=\"277.392578\"/>\n      <use xlink:href=\"#DejaVuSans-52\" x=\"309.179688\"/>\n      <use xlink:href=\"#DejaVuSans-61\" x=\"376.412109\"/>\n      <use xlink:href=\"#DejaVuSans-74\" x=\"437.691406\"/>\n      <use xlink:href=\"#DejaVuSans-65\" x=\"476.900391\"/>\n     </g>\n    </g>\n   </g>\n   <g id=\"matplotlib.axis_4\">\n    <g id=\"ytick_7\">\n     <g id=\"line2d_18\">\n      <g>\n       <use xlink:href=\"#m75be80b95d\" x=\"401.565625\" y=\"299.078125\" style=\"stroke: #000000; stroke-width: 0.8\"/>\n      </g>\n     </g>\n     <g id=\"text_21\">\n      <!-- 0 -->\n      <g transform=\"translate(388.203125 302.877344) scale(0.1 -0.1)\">\n       <use xlink:href=\"#DejaVuSans-30\"/>\n      </g>\n     </g>\n    </g>\n    <g id=\"ytick_8\">\n     <g id=\"line2d_19\">\n      <g>\n       <use xlink:href=\"#m75be80b95d\" x=\"401.565625\" y=\"246.361935\" style=\"stroke: #000000; stroke-width: 0.8\"/>\n      </g>\n     </g>\n     <g id=\"text_22\">\n      <!-- 20 -->\n      <g transform=\"translate(381.840625 250.161153) scale(0.1 -0.1)\">\n       <use xlink:href=\"#DejaVuSans-32\"/>\n       <use xlink:href=\"#DejaVuSans-30\" x=\"63.623047\"/>\n      </g>\n     </g>\n    </g>\n    <g id=\"ytick_9\">\n     <g id=\"line2d_20\">\n      <g>\n       <use xlink:href=\"#m75be80b95d\" x=\"401.565625\" y=\"193.645744\" style=\"stroke: #000000; stroke-width: 0.8\"/>\n      </g>\n     </g>\n     <g id=\"text_23\">\n      <!-- 40 -->\n      <g transform=\"translate(381.840625 197.444963) scale(0.1 -0.1)\">\n       <use xlink:href=\"#DejaVuSans-34\"/>\n       <use xlink:href=\"#DejaVuSans-30\" x=\"63.623047\"/>\n      </g>\n     </g>\n    </g>\n    <g id=\"ytick_10\">\n     <g id=\"line2d_21\">\n      <g>\n       <use xlink:href=\"#m75be80b95d\" x=\"401.565625\" y=\"140.929554\" style=\"stroke: #000000; stroke-width: 0.8\"/>\n      </g>\n     </g>\n     <g id=\"text_24\">\n      <!-- 60 -->\n      <g transform=\"translate(381.840625 144.728772) scale(0.1 -0.1)\">\n       <use xlink:href=\"#DejaVuSans-36\"/>\n       <use xlink:href=\"#DejaVuSans-30\" x=\"63.623047\"/>\n      </g>\n     </g>\n    </g>\n    <g id=\"ytick_11\">\n     <g id=\"line2d_22\">\n      <g>\n       <use xlink:href=\"#m75be80b95d\" x=\"401.565625\" y=\"88.213363\" style=\"stroke: #000000; stroke-width: 0.8\"/>\n      </g>\n     </g>\n     <g id=\"text_25\">\n      <!-- 80 -->\n      <g transform=\"translate(381.840625 92.012582) scale(0.1 -0.1)\">\n       <use xlink:href=\"#DejaVuSans-38\"/>\n       <use xlink:href=\"#DejaVuSans-30\" x=\"63.623047\"/>\n      </g>\n     </g>\n    </g>\n    <g id=\"ytick_12\">\n     <g id=\"line2d_23\">\n      <g>\n       <use xlink:href=\"#m75be80b95d\" x=\"401.565625\" y=\"35.497173\" style=\"stroke: #000000; stroke-width: 0.8\"/>\n      </g>\n     </g>\n     <g id=\"text_26\">\n      <!-- 100 -->\n      <g transform=\"translate(375.478125 39.296391) scale(0.1 -0.1)\">\n       <use xlink:href=\"#DejaVuSans-31\"/>\n       <use xlink:href=\"#DejaVuSans-30\" x=\"63.623047\"/>\n       <use xlink:href=\"#DejaVuSans-30\" x=\"127.246094\"/>\n      </g>\n     </g>\n    </g>\n    <g id=\"text_27\">\n     <!-- Fault Localization Accuracy (%) -->\n     <g transform=\"translate(369.398438 238.562187) rotate(-90) scale(0.1 -0.1)\">\n      <defs>\n       <path id=\"DejaVuSans-4c\" d=\"M 628 4666 \nL 1259 4666 \nL 1259 531 \nL 3531 531 \nL 3531 0 \nL 628 0 \nL 628 4666 \nz\n\" transform=\"scale(0.015625)\"/>\n       <path id=\"DejaVuSans-7a\" d=\"M 353 3500 \nL 3084 3500 \nL 3084 2975 \nL 922 459 \nL 3084 459 \nL 3084 0 \nL 275 0 \nL 275 525 \nL 2438 3041 \nL 353 3041 \nL 353 3500 \nz\n\" transform=\"scale(0.015625)\"/>\n       <path id=\"DejaVuSans-6e\" d=\"M 3513 2113 \nL 3513 0 \nL 2938 0 \nL 2938 2094 \nQ 2938 2591 2744 2837 \nQ 2550 3084 2163 3084 \nQ 1697 3084 1428 2787 \nQ 1159 2491 1159 1978 \nL 1159 0 \nL 581 0 \nL 581 3500 \nL 1159 3500 \nL 1159 2956 \nQ 1366 3272 1645 3428 \nQ 1925 3584 2291 3584 \nQ 2894 3584 3203 3211 \nQ 3513 2838 3513 2113 \nz\n\" transform=\"scale(0.015625)\"/>\n      </defs>\n      <use xlink:href=\"#DejaVuSans-46\"/>\n      <use xlink:href=\"#DejaVuSans-61\" x=\"48.394531\"/>\n      <use xlink:href=\"#DejaVuSans-75\" x=\"109.673828\"/>\n      <use xlink:href=\"#DejaVuSans-6c\" x=\"173.052734\"/>\n      <use xlink:href=\"#DejaVuSans-74\" x=\"200.835938\"/>\n      <use xlink:href=\"#DejaVuSans-20\" x=\"240.044922\"/>\n      <use xlink:href=\"#DejaVuSans-4c\" x=\"271.832031\"/>\n      <use xlink:href=\"#DejaVuSans-6f\" x=\"325.794922\"/>\n      <use xlink:href=\"#DejaVuSans-63\" x=\"386.976562\"/>\n      <use xlink:href=\"#DejaVuSans-61\" x=\"441.957031\"/>\n      <use xlink:href=\"#DejaVuSans-6c\" x=\"503.236328\"/>\n      <use xlink:href=\"#DejaVuSans-69\" x=\"531.019531\"/>\n      <use xlink:href=\"#DejaVuSans-7a\" x=\"558.802734\"/>\n      <use xlink:href=\"#DejaVuSans-61\" x=\"611.292969\"/>\n      <use xlink:href=\"#DejaVuSans-74\" x=\"672.572266\"/>\n      <use xlink:href=\"#DejaVuSans-69\" x=\"711.78125\"/>\n      <use xlink:href=\"#DejaVuSans-6f\" x=\"739.564453\"/>\n      <use xlink:href=\"#DejaVuSans-6e\" x=\"800.746094\"/>\n      <use xlink:href=\"#DejaVuSans-20\" x=\"864.125\"/>\n      <use xlink:href=\"#DejaVuSans-41\" x=\"895.912109\"/>\n      <use xlink:href=\"#DejaVuSans-63\" x=\"962.570312\"/>\n      <use xlink:href=\"#DejaVuSans-63\" x=\"1017.550781\"/>\n      <use xlink:href=\"#DejaVuSans-75\" x=\"1072.53125\"/>\n      <use xlink:href=\"#DejaVuSans-72\" x=\"1135.910156\"/>\n      <use xlink:href=\"#DejaVuSans-61\" x=\"1177.023438\"/>\n      <use xlink:href=\"#DejaVuSans-63\" x=\"1238.302734\"/>\n      <use xlink:href=\"#DejaVuSans-79\" x=\"1293.283203\"/>\n      <use xlink:href=\"#DejaVuSans-20\" x=\"1352.462891\"/>\n      <use xlink:href=\"#DejaVuSans-28\" x=\"1384.25\"/>\n      <use xlink:href=\"#DejaVuSans-25\" x=\"1423.263672\"/>\n      <use xlink:href=\"#DejaVuSans-29\" x=\"1518.283203\"/>\n     </g>\n    </g>\n   </g>\n   <g id=\"line2d_24\">\n    <path d=\"M 415.371534 167.287649 \nL 476.73113 299.078125 \nL 538.090726 35.497173 \nL 599.450322 35.497173 \nL 660.809918 35.497173 \nL 691.489716 35.497173 \n\" clip-path=\"url(#p72de717c2e)\" style=\"fill: none; stroke-dasharray: 5.55,2.4; stroke-dashoffset: 0; stroke: #bf00bf; stroke-width: 1.5\"/>\n    <defs>\n     <path id=\"m29eac347dd\" d=\"M 0 3 \nC 0.795609 3 1.55874 2.683901 2.12132 2.12132 \nC 2.683901 1.55874 3 0.795609 3 0 \nC 3 -0.795609 2.683901 -1.55874 2.12132 -2.12132 \nC 1.55874 -2.683901 0.795609 -3 0 -3 \nC -0.795609 -3 -1.55874 -2.683901 -2.12132 -2.12132 \nC -2.683901 -1.55874 -3 -0.795609 -3 0 \nC -3 0.795609 -2.683901 1.55874 -2.12132 2.12132 \nC -1.55874 2.683901 -0.795609 3 0 3 \nz\n\" style=\"stroke: #bf00bf\"/>\n    </defs>\n    <g clip-path=\"url(#p72de717c2e)\">\n     <use xlink:href=\"#m29eac347dd\" x=\"415.371534\" y=\"167.287649\" style=\"fill: #bf00bf; stroke: #bf00bf\"/>\n     <use xlink:href=\"#m29eac347dd\" x=\"476.73113\" y=\"299.078125\" style=\"fill: #bf00bf; stroke: #bf00bf\"/>\n     <use xlink:href=\"#m29eac347dd\" x=\"538.090726\" y=\"35.497173\" style=\"fill: #bf00bf; stroke: #bf00bf\"/>\n     <use xlink:href=\"#m29eac347dd\" x=\"599.450322\" y=\"35.497173\" style=\"fill: #bf00bf; stroke: #bf00bf\"/>\n     <use xlink:href=\"#m29eac347dd\" x=\"660.809918\" y=\"35.497173\" style=\"fill: #bf00bf; stroke: #bf00bf\"/>\n     <use xlink:href=\"#m29eac347dd\" x=\"691.489716\" y=\"35.497173\" style=\"fill: #bf00bf; stroke: #bf00bf\"/>\n    </g>\n   </g>\n   <g id=\"patch_8\">\n    <path d=\"M 401.565625 299.078125 \nL 401.565625 22.318125 \n\" style=\"fill: none; stroke: #000000; stroke-width: 0.8; stroke-linejoin: miter; stroke-linecap: square\"/>\n   </g>\n   <g id=\"patch_9\">\n    <path d=\"M 705.295625 299.078125 \nL 705.295625 22.318125 \n\" style=\"fill: none; stroke: #000000; stroke-width: 0.8; stroke-linejoin: miter; stroke-linecap: square\"/>\n   </g>\n   <g id=\"patch_10\">\n    <path d=\"M 401.565625 299.078125 \nL 705.295625 299.078125 \n\" style=\"fill: none; stroke: #000000; stroke-width: 0.8; stroke-linejoin: miter; stroke-linecap: square\"/>\n   </g>\n   <g id=\"patch_11\">\n    <path d=\"M 401.565625 22.318125 \nL 705.295625 22.318125 \n\" style=\"fill: none; stroke: #000000; stroke-width: 0.8; stroke-linejoin: miter; stroke-linecap: square\"/>\n   </g>\n   <g id=\"text_28\">\n    <!-- Paper Figure 7 (a) -->\n    <g transform=\"translate(500.22375 16.318125) scale(0.12 -0.12)\">\n     <defs>\n      <path id=\"DejaVuSans-37\" d=\"M 525 4666 \nL 3525 4666 \nL 3525 4397 \nL 1831 0 \nL 1172 0 \nL 2766 4134 \nL 525 4134 \nL 525 4666 \nz\n\" transform=\"scale(0.015625)\"/>\n     </defs>\n     <use xlink:href=\"#DejaVuSans-50\"/>\n     <use xlink:href=\"#DejaVuSans-61\" x=\"55.802734\"/>\n     <use xlink:href=\"#DejaVuSans-70\" x=\"117.082031\"/>\n     <use xlink:href=\"#DejaVuSans-65\" x=\"180.558594\"/>\n     <use xlink:href=\"#DejaVuSans-72\" x=\"242.082031\"/>\n     <use xlink:href=\"#DejaVuSans-20\" x=\"283.195312\"/>\n     <use xlink:href=\"#DejaVuSans-46\" x=\"314.982422\"/>\n     <use xlink:href=\"#DejaVuSans-69\" x=\"365.251953\"/>\n     <use xlink:href=\"#DejaVuSans-67\" x=\"393.035156\"/>\n     <use xlink:href=\"#DejaVuSans-75\" x=\"456.511719\"/>\n     <use xlink:href=\"#DejaVuSans-72\" x=\"519.890625\"/>\n     <use xlink:href=\"#DejaVuSans-65\" x=\"558.753906\"/>\n     <use xlink:href=\"#DejaVuSans-20\" x=\"620.277344\"/>\n     <use xlink:href=\"#DejaVuSans-37\" x=\"652.064453\"/>\n     <use xlink:href=\"#DejaVuSans-20\" x=\"715.6875\"/>\n     <use xlink:href=\"#DejaVuSans-28\" x=\"747.474609\"/>\n     <use xlink:href=\"#DejaVuSans-61\" x=\"786.488281\"/>\n     <use xlink:href=\"#DejaVuSans-29\" x=\"847.767578\"/>\n    </g>\n   </g>\n  </g>\n </g>\n <defs>\n  <clipPath id=\"p67019c59fa\">\n   <rect x=\"46.965625\" y=\"22.318125\" width=\"303.73\" height=\"276.76\"/>\n  </clipPath>\n  <clipPath id=\"p72de717c2e\">\n   <rect x=\"401.565625\" y=\"22.318125\" width=\"303.73\" height=\"276.76\"/>\n  </clipPath>\n </defs>\n</svg>\n",
      "text/plain": [
       "<Figure size 1000x480 with 2 Axes>"
      ]
     },
     "metadata": {},
     "output_type": "display_data"
    }
   ],
   "source": [
    "x =different_noise_levels \n",
    "y1_test_acc = [y[1] for y in nosie2results]\n",
    "y2_fault_acc = [y[2] for y in nosie2results]\n",
    "fig, axes = plt.subplots(1, 2) \n",
    "axes[0].plot(x, y1_test_acc, 'g--o') \n",
    "axes[1].plot(x, y2_fault_acc, 'm--o')\n",
    "\n",
    "axes[0].set_xlabel('Noise Rate')\n",
    "axes[1].set_xlabel('Noise Rate')\n",
    "axes[0].set_ylabel('Global Model Accuracy (%)')\n",
    "axes[1].set_ylabel('Fault Localization Accuracy (%)')\n",
    "axes[0].set_title(\"Paper Figure 4 (a)\")\n",
    "axes[1].set_title(\"Paper Figure 7 (a)\")\n",
    "\n",
    "axes[0].set_ylim(0, 105)\n",
    "axes[1].set_ylim(0, 105)\n",
    "\n",
    "fig.set_figwidth(10)\n",
    "\n",
    "plt.tight_layout()\n"
   ]
  },
  {
   "cell_type": "code",
   "execution_count": null,
   "metadata": {},
   "outputs": [],
   "source": []
  }
 ],
 "metadata": {
  "kernelspec": {
   "display_name": "Python 3 (ipykernel)",
   "language": "python",
   "name": "python3"
  },
  "language_info": {
   "codemirror_mode": {
    "name": "ipython",
    "version": 3
   },
   "file_extension": ".py",
   "mimetype": "text/x-python",
   "name": "python",
   "nbconvert_exporter": "python",
   "pygments_lexer": "ipython3",
   "version": "3.10.8 (main, Nov 24 2022, 14:13:03) [GCC 11.2.0]"
  },
  "vscode": {
   "interpreter": {
    "hash": "90b2b3ffc921ecec285732ffefdcd2be049b62625871c2bd1061419cc3e1c031"
   }
  }
 },
 "nbformat": 4,
 "nbformat_minor": 2
}
