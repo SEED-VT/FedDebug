{
 "cells": [
  {
   "attachments": {},
   "cell_type": "markdown",
   "metadata": {},
   "source": [
    "> Scalability cannot be tested on Google Colab due to its limited resources. \n",
    "\n",
    "> We tested scalabilty on an AMD 16-core processor, with 128 GB RAM and an NVIDIA Tesla T4 GPU."
   ]
  },
  {
   "attachments": {},
   "cell_type": "markdown",
   "metadata": {},
   "source": [
    "# Running Code"
   ]
  },
  {
   "cell_type": "code",
   "execution_count": null,
   "metadata": {},
   "outputs": [],
   "source": [
    "import logging\n",
    "import matplotlib.pyplot as plt\n",
    "import time\n",
    "from dotmap import DotMap\n",
    "from pytorch_lightning import seed_everything\n",
    "from torch.nn.init import kaiming_uniform_ \n",
    "from utils.faulty_client_localization.FaultyClientLocalization import FaultyClientLocalization\n",
    "from utils.faulty_client_localization.InferenceGuidedInputs import InferenceGuidedInputs\n",
    "from utils.FLSimulation import trainFLMain\n",
    "from utils.fl_datasets import initializeTrainAndValidationDataset\n",
    "from utils.util import aggToUpdateGlobalModel\n",
    "from utils.util import testAccModel\n",
    "\n",
    "\n",
    "\n",
    "logging.basicConfig(filename='example.log', level=logging.ERROR)\n",
    "logger = logging.getLogger(\"pytorch_lightning\")\n",
    "seed_everything(786)\n",
    "\n",
    "\n",
    "\n",
    "def evaluateFaultLocalization(predicted_faulty_clients_on_each_input, true_faulty_clients):\n",
    "    true_faulty_clients = set(true_faulty_clients)\n",
    "    detection_acc = 0\n",
    "    for pred_faulty_clients in predicted_faulty_clients_on_each_input:\n",
    "        print(f\"+++ Faulty Clients {pred_faulty_clients}\")\n",
    "        correct_localize_faults = len(\n",
    "            true_faulty_clients.intersection(pred_faulty_clients))\n",
    "        acc = (correct_localize_faults/len(true_faulty_clients))*100\n",
    "        detection_acc += acc\n",
    "    fault_localization_acc = detection_acc / \\\n",
    "        len(predicted_faulty_clients_on_each_input)\n",
    "    return fault_localization_acc\n",
    "\n",
    "\n",
    "def runFaultyClientLocalization(client2models, exp2info, num_bugs, random_generator=kaiming_uniform_, apply_transform=True, k_gen_inputs=10, na_threshold=0.003, use_gpu=True):\n",
    "    print(\">  Running FaultyClientLocalization ..\")\n",
    "    input_shape = list(exp2info['data_config']['single_input_shape'])\n",
    "    generate_inputs = InferenceGuidedInputs(client2models, input_shape, randomGenerator=random_generator, apply_transform=apply_transform,\n",
    "                                            dname=exp2info['data_config']['name'], min_nclients_same_pred=5, k_gen_inputs=k_gen_inputs)\n",
    "    selected_inputs, input_gen_time = generate_inputs.getInputs()\n",
    "\n",
    "    start = time.time()\n",
    "    faultyclientlocalization = FaultyClientLocalization(\n",
    "        client2models, selected_inputs, use_gpu=use_gpu)\n",
    "\n",
    "    potential_benign_clients_for_each_input = faultyclientlocalization.runFaultLocalization(\n",
    "        na_threshold, num_bugs=num_bugs)\n",
    "    fault_localization_time = time.time()-start\n",
    "    return potential_benign_clients_for_each_input, input_gen_time, fault_localization_time\n",
    "\n",
    "\n",
    "\n",
    "\n",
    "\n",
    "# ====== Simulation ===== \n",
    "\n",
    "args = DotMap()\n",
    "args.lr = 0.001\n",
    "args.weight_decay = 0.0001\n",
    "args.batch_size = 512\n",
    "args.faulty_clients_ids = \"0,1\" # can be multiple clients separated by comma e.g. \"0,1,2\"  but keep under args.clients clients and at max less than 7 \n",
    "args.sampling = \"iid\" # [iid, \"niid\"] \n",
    "args.noise_rate = 1  # noise rate 0 to 1 \n"
   ]
  },
  {
   "attachments": {},
   "cell_type": "markdown",
   "metadata": {},
   "source": [
    "### Figure 9: Densenet and Femnist"
   ]
  },
  {
   "cell_type": "code",
   "execution_count": null,
   "metadata": {},
   "outputs": [],
   "source": [
    "args.dataset = \"femnist\" # ['cifar10', 'femnist']\n",
    "args.model = \"densenet121\" # [resnet18, resnet34, resnet50, densenet121, vgg16]\n",
    "args.epochs = 1  # range 10-25\n",
    "\n",
    "\n",
    "# different_num_clients = [3, 5, 10] # keep under 100\n",
    "different_num_clients = [25, 50, 100, 200, 400] # keep under 400\n",
    "numclients2acc = []\n",
    "for clients in different_num_clients:\n",
    "    args.clients = clients  \n",
    "    c2ms, exp2info = trainFLMain(args)\n",
    "    client2models = {k: v.model.eval() for k, v in c2ms.items()}\n",
    "    potential_faulty_clients, _, _ = runFaultyClientLocalization(\n",
    "        client2models=client2models, exp2info=exp2info, num_bugs=len(exp2info['faulty_clients_ids']))\n",
    "\n",
    "    fault_acc = evaluateFaultLocalization(\n",
    "        potential_faulty_clients, exp2info['faulty_clients_ids'])\n",
    "\n",
    "\n",
    "    print(f\"#Figure 9: Fault Localization Accuracy: {fault_acc}, Distribution: {args.sampling},  Faulty clients: {len(args.faulty_clients_ids.split(','))}, Total Clients: {args.clients}, Architecture: {args.model}, Dataset: {args.dataset}\")\n",
    "    numclients2acc.append(fault_acc)\n",
    "\n",
    "\n",
    "\n",
    "x = different_num_clients \n",
    "\n",
    "fig, axes = plt.subplots(1, 1) \n",
    "axes.plot(x, numclients2acc, 'g--o') \n",
    "# axes[1].plot(x, y2_fault_acc, 'm--o')\n",
    "\n",
    "axes.set_xlabel('Clients')\n",
    "axes.set_ylabel('Fault Localization Accuracy (%)')\n",
    "axes.set_title(\"Paper Figure-9 (a)\")\n",
    "\n",
    "\n",
    "axes.set_ylim(0, 105)\n",
    "\n",
    "\n",
    "fig.set_figwidth(5)\n",
    "plt.tight_layout()\n"
   ]
  },
  {
   "cell_type": "code",
   "execution_count": null,
   "metadata": {},
   "outputs": [],
   "source": []
  }
 ],
 "metadata": {
  "kernelspec": {
   "display_name": "Python 3 (ipykernel)",
   "language": "python",
   "name": "python3"
  },
  "language_info": {
   "codemirror_mode": {
    "name": "ipython",
    "version": 3
   },
   "file_extension": ".py",
   "mimetype": "text/x-python",
   "name": "python",
   "nbconvert_exporter": "python",
   "pygments_lexer": "ipython3",
   "version": "3.10.8"
  },
  "vscode": {
   "interpreter": {
    "hash": "90b2b3ffc921ecec285732ffefdcd2be049b62625871c2bd1061419cc3e1c031"
   }
  }
 },
 "nbformat": 4,
 "nbformat_minor": 2
}
